{
 "cells": [
  {
   "cell_type": "code",
   "execution_count": 47,
   "id": "0b6b89fa",
   "metadata": {},
   "outputs": [],
   "source": [
    "import tensorflow as tf\n",
    "from tensorflow import keras\n",
    "import numpy as np\n",
    "import matplotlib.pyplot as plt"
   ]
  },
  {
   "cell_type": "code",
   "execution_count": 48,
   "id": "36a6a6c1",
   "metadata": {},
   "outputs": [],
   "source": [
    "(X_train_full, y_train_full), (X_test, y_test) = tf.keras.datasets.fashion_mnist.load_data()\n",
    "\n",
    "X_valid, X_train = X_train_full[:5000], X_train_full[5000:]\n",
    "y_valid, y_train = y_train_full[:5000], y_train_full[5000:]"
   ]
  },
  {
   "cell_type": "code",
   "execution_count": 49,
   "id": "34206480",
   "metadata": {},
   "outputs": [],
   "source": [
    "BytesList = tf.train.BytesList\n",
    "FloatList = tf.train.FloatList\n",
    "Int64List = tf.train.Int64List\n",
    "Feature = tf.train.Feature\n",
    "Features = tf.train.Features\n",
    "Example = tf.train.Example"
   ]
  },
  {
   "cell_type": "code",
   "execution_count": 51,
   "id": "7d456e11",
   "metadata": {},
   "outputs": [],
   "source": [
    "train_set = tf.data.Dataset.from_tensor_slices((X_train, y_train)).shuffle(len(X_train))\n",
    "valid_set = tf.data.Dataset.from_tensor_slices((X_valid, y_valid))\n",
    "test_set = tf.data.Dataset.from_tensor_slices((X_test, y_test))"
   ]
  },
  {
   "cell_type": "code",
   "execution_count": 52,
   "id": "db15c5f7",
   "metadata": {},
   "outputs": [
    {
     "data": {
      "text/plain": [
       "<_TakeDataset element_spec=(TensorSpec(shape=(28, 28), dtype=tf.uint8, name=None), TensorSpec(shape=(), dtype=tf.uint8, name=None))>"
      ]
     },
     "execution_count": 52,
     "metadata": {},
     "output_type": "execute_result"
    }
   ],
   "source": [
    "train_set.take(1)"
   ]
  },
  {
   "cell_type": "code",
   "execution_count": 53,
   "id": "b580f0a7",
   "metadata": {},
   "outputs": [],
   "source": [
    "def create_example(image, label):\n",
    "    image_data = tf.io.serialize_tensor(image)\n",
    "    #image_data = tf.io.encode_jpeg(image[..., np.newaxis])\n",
    "    return Example(\n",
    "        features=Features(\n",
    "            feature={\n",
    "                \"name\": Feature(bytes_list=BytesList(value=[image_data.numpy()])),\n",
    "                \"label\": Feature(int64_list=Int64List(value=[label])),\n",
    "            }))"
   ]
  },
  {
   "cell_type": "code",
   "execution_count": 54,
   "id": "20a20fec",
   "metadata": {},
   "outputs": [
    {
     "data": {
      "text/plain": [
       "features {\n",
       "  feature {\n",
       "    key: \"name\"\n",
       "    value {\n",
       "      bytes_list {\n",
       "        value: \"\\010\\004\\022\\010\\022\\002\\010\\034\\022\\002\\010\\034\\\"\\220\\006\\000\\000\\000\\000\\000\\000\\000\\000\\000\\000<yJ55,w\\200\\022\\000\\000\\000\\000\\000\\000\\000\\000\\000\\000\\000\\000\\000\\000\\000\\000-\\206\\311\\277\\322\\347\\364\\371\\367\\356\\304\\333\\313\\216\\034\\000\\000\\000\\000\\000\\000\\000\\000\\000\\000\\000\\000\\222\\313\\311\\277\\274\\264\\260\\266\\271\\273\\257\\264\\271\\276\\306\\301<\\000\\000\\000\\000\\000\\000\\000\\000\\000\\000L\\322\\276\\274\\277\\301\\302\\275\\266\\270\\271\\274\\273\\271\\271\\264\\277\\252\\000\\000\\000\\000\\000\\000\\000\\000\\000\\000\\240\\310\\302\\303\\277\\303\\301\\274\\273\\276\\267\\270\\271\\271\\271\\270\\257\\276\\036\\000\\000\\000\\000\\000\\000\\000\\000\\000\\276\\302\\305\\304\\301\\302\\276\\275\\273\\267\\271\\266\\271\\273\\274\\274\\257\\304:\\000\\000\\000\\000\\000\\000\\000\\000\\000\\312\\304\\313\\305\\276\\302\\303\\277\\274\\270\\267\\267\\267\\267\\270\\265\\273\\311Z\\000\\000\\000\\000\\000\\000\\000\\000\\000\\344\\310\\322\\317\\301\\277\\301\\273\\267\\267\\267\\267\\265\\261\\265\\301\\303\\306y\\000\\000\\000\\000\\000\\000\\000\\000\\000\\350\\313\\335\\371\\323\\305\\305\\276\\271\\273\\271\\266\\271\\265\\261\\341\\315\\302\\223\\000\\000\\000\\000\\000\\000\\000\\000\\034\\345\\312\\332\\372\\330\\312\\305\\276\\274\\276\\274\\264\\267\\271\\246\\350\\320\\277\\247\\000\\000\\000\\000\\000\\000\\000\\000*\\347\\310\\312v\\350\\275\\305\\276\\274\\275\\273\\264\\264\\264\\256\\377\\315\\276\\252\\000\\000\\000\\000\\000\\000\\000\\0004\\320\\306\\326G\\375\\301\\306\\302\\301\\277\\276\\267\\266\\270\\247\\257\\326\\301\\311\\000\\000\\000\\000\\000\\000\\000\\000F\\326\\311\\344\\010\\347\\313\\277\\274\\274\\275\\276\\266\\265\\270\\260w\\327\\305\\335\\000\\000\\000\\000\\000\\000\\000\\000Q\\323\\317\\372\\000\\301\\331\\302\\304\\277\\271\\271\\266\\265\\274\\260d\\356\\313\\340\\000\\000\\000\\000\\000\\000\\000\\000b\\317\\313\\366\\000\\314\\320\\275\\305\\271\\270\\266\\266\\265\\301\\262Q\\354\\311\\275%\\000\\000\\000\\000\\000\\000\\000m\\312\\306\\344\\002\\355\\301\\277\\301\\267\\265\\264\\264\\262\\275\\2662\\371\\305\\275<\\000\\000\\000\\000\\000\\000\\000x\\312\\312\\306\\000\\363\\276\\302\\274\\270\\266\\267\\265\\265\\274\\273$\\372\\306\\304H\\000\\000\\000\\000\\000\\000\\000\\213\\311\\315\\261\\000\\337\\303\\276\\275\\274\\270\\271\\271\\270\\273\\312\\013\\347\\312\\302T\\000\\000\\000\\000\\000\\000\\000\\226\\306\\315\\255\\000\\351\\301\\277\\276\\276\\267\\270\\271\\275\\273\\336\\000\\311\\320\\303e\\000\\000\\000\\000\\000\\000\\000\\235\\304\\322\\203\\000\\374\\261\\276\\273\\273\\270\\271\\271\\274\\264\\353\\000\\250\\327\\305w\\000\\000\\000\\000\\000\\000\\000\\235\\304\\363P/\\357\\271\\302\\274\\270\\264\\270\\273\\274\\265\\350,v\\332\\302\\205\\000\\000\\000\\000\\000\\000\\000\\233\\304\\373*\\'\\363\\275\\277\\274\\273\\271\\273\\273\\275\\271\\350E-\\342\\275\\226\\000\\000\\000\\000\\000\\000\\000\\237\\303\\372\\002-\\313\\265\\271\\271\\271\\273\\273\\271\\274\\267\\3045\\016\\345\\276\\240\\000\\000\\000\\000\\000\\000\\000\\234\\306\\362\\000J\\317\\270\\275\\275\\275\\277\\277\\277\\276\\274\\306T\\000\\335\\301\\237\\000\\000\\000\\000\\000\\000\\000\\243\\310\\276\\000?\\327\\231\\234\\267\\267\\273\\271\\273\\232\\226\\274G\\000\\313\\310\\234\\000\\000\\000\\000\\000\\000\\000\\217\\306\\246\\000\\000\\000\\000\\000\\000\\000\\000\\000\\000\\000\\000\\000\\000\\000\\265\\313\\235\\000\\000\\000\\000\\000\\000\\000P\\320\\250\\000\\000\\000\\000\\000\\000\\000\\000\\000\\000\\000\\000\\000\\000\\000\\253\\322i\\000\\000\\000\\000\\000\\000\\000 \\205e\\000\\000\\001\\000\\001\\001\\001\\001\\001\\001\\000\\000\\000\\000\\000i\\210+\\000\\000\\000\"\n",
       "      }\n",
       "    }\n",
       "  }\n",
       "  feature {\n",
       "    key: \"label\"\n",
       "    value {\n",
       "      int64_list {\n",
       "        value: 2\n",
       "      }\n",
       "    }\n",
       "  }\n",
       "}"
      ]
     },
     "execution_count": 54,
     "metadata": {},
     "output_type": "execute_result"
    }
   ],
   "source": [
    "for image, label in train_set.take(1):\n",
    "    an_example = create_example(image, label)\n",
    "an_example"
   ]
  },
  {
   "cell_type": "code",
   "execution_count": 55,
   "id": "a25ad522",
   "metadata": {},
   "outputs": [],
   "source": [
    "from contextlib import ExitStack\n",
    "import os\n",
    "def write_tfrecords(name, dataset, n_shards=10):\n",
    "    paths = [os.path.join(\"datasets\",\n",
    "                         \"fashionMNIST\",\n",
    "                         \"{}.tfrecord-{:05d}-of-{:05d}\".format(name, index, n_shards))for index in range(n_shards)]\n",
    "    with ExitStack() as stack:\n",
    "        writers = [stack.enter_context(tf.io.TFRecordWriter(path))for path in paths]\n",
    "        for index, (image, label) in dataset.enumerate():\n",
    "            shard = index % n_shards\n",
    "            # ループごとに変化するので違うpathにそれぞれ書く\n",
    "            example = create_example(image, label)\n",
    "            writers[shard].write(example.SerializeToString())\n",
    "        print(writers)\n",
    "    return paths"
   ]
  },
  {
   "cell_type": "code",
   "execution_count": 56,
   "id": "6b327175",
   "metadata": {},
   "outputs": [
    {
     "name": "stdout",
     "output_type": "stream",
     "text": [
      "[<tensorflow.python.lib.io.tf_record.TFRecordWriter object at 0x000001E7085C0D10>, <tensorflow.python.lib.io.tf_record.TFRecordWriter object at 0x000001E71C59DC70>, <tensorflow.python.lib.io.tf_record.TFRecordWriter object at 0x000001E744772040>, <tensorflow.python.lib.io.tf_record.TFRecordWriter object at 0x000001E74474B9A0>, <tensorflow.python.lib.io.tf_record.TFRecordWriter object at 0x000001E7085C0E00>, <tensorflow.python.lib.io.tf_record.TFRecordWriter object at 0x000001E71718F6D0>, <tensorflow.python.lib.io.tf_record.TFRecordWriter object at 0x000001E74474BE50>, <tensorflow.python.lib.io.tf_record.TFRecordWriter object at 0x000001E744748180>, <tensorflow.python.lib.io.tf_record.TFRecordWriter object at 0x000001E744748F40>, <tensorflow.python.lib.io.tf_record.TFRecordWriter object at 0x000001E744748810>]\n",
      "[<tensorflow.python.lib.io.tf_record.TFRecordWriter object at 0x000001E7385AE720>, <tensorflow.python.lib.io.tf_record.TFRecordWriter object at 0x000001E71C59DC70>, <tensorflow.python.lib.io.tf_record.TFRecordWriter object at 0x000001E744772040>, <tensorflow.python.lib.io.tf_record.TFRecordWriter object at 0x000001E7085C0D10>, <tensorflow.python.lib.io.tf_record.TFRecordWriter object at 0x000001E7085C0E00>, <tensorflow.python.lib.io.tf_record.TFRecordWriter object at 0x000001E71718F6D0>, <tensorflow.python.lib.io.tf_record.TFRecordWriter object at 0x000001E74474B9A0>, <tensorflow.python.lib.io.tf_record.TFRecordWriter object at 0x000001E74474BE50>, <tensorflow.python.lib.io.tf_record.TFRecordWriter object at 0x000001E71CB268B0>, <tensorflow.python.lib.io.tf_record.TFRecordWriter object at 0x000001E7385F39F0>]\n",
      "[<tensorflow.python.lib.io.tf_record.TFRecordWriter object at 0x000001E744772040>, <tensorflow.python.lib.io.tf_record.TFRecordWriter object at 0x000001E7085C0E00>, <tensorflow.python.lib.io.tf_record.TFRecordWriter object at 0x000001E7085C0D10>, <tensorflow.python.lib.io.tf_record.TFRecordWriter object at 0x000001E7385AE720>, <tensorflow.python.lib.io.tf_record.TFRecordWriter object at 0x000001E71718F6D0>, <tensorflow.python.lib.io.tf_record.TFRecordWriter object at 0x000001E74474B9A0>, <tensorflow.python.lib.io.tf_record.TFRecordWriter object at 0x000001E74474BE50>, <tensorflow.python.lib.io.tf_record.TFRecordWriter object at 0x000001E71CB268B0>, <tensorflow.python.lib.io.tf_record.TFRecordWriter object at 0x000001E7385F39F0>, <tensorflow.python.lib.io.tf_record.TFRecordWriter object at 0x000001E74474A400>]\n"
     ]
    }
   ],
   "source": [
    "train_filepaths = write_tfrecords(\"my_fashion_mnist.train\", train_set)\n",
    "valid_filepaths = write_tfrecords(\"my_fashion_mnist.valid\", valid_set)\n",
    "test_filepaths = write_tfrecords(\"my_fashion_mnist.test\", test_set)"
   ]
  },
  {
   "cell_type": "code",
   "execution_count": 57,
   "id": "ff09091b",
   "metadata": {},
   "outputs": [
    {
     "data": {
      "text/plain": [
       "['datasets\\\\fashionMNIST\\\\my_fashion_mnist.train.tfrecord-00000-of-00010',\n",
       " 'datasets\\\\fashionMNIST\\\\my_fashion_mnist.train.tfrecord-00001-of-00010',\n",
       " 'datasets\\\\fashionMNIST\\\\my_fashion_mnist.train.tfrecord-00002-of-00010',\n",
       " 'datasets\\\\fashionMNIST\\\\my_fashion_mnist.train.tfrecord-00003-of-00010',\n",
       " 'datasets\\\\fashionMNIST\\\\my_fashion_mnist.train.tfrecord-00004-of-00010',\n",
       " 'datasets\\\\fashionMNIST\\\\my_fashion_mnist.train.tfrecord-00005-of-00010',\n",
       " 'datasets\\\\fashionMNIST\\\\my_fashion_mnist.train.tfrecord-00006-of-00010',\n",
       " 'datasets\\\\fashionMNIST\\\\my_fashion_mnist.train.tfrecord-00007-of-00010',\n",
       " 'datasets\\\\fashionMNIST\\\\my_fashion_mnist.train.tfrecord-00008-of-00010',\n",
       " 'datasets\\\\fashionMNIST\\\\my_fashion_mnist.train.tfrecord-00009-of-00010']"
      ]
     },
     "execution_count": 57,
     "metadata": {},
     "output_type": "execute_result"
    }
   ],
   "source": [
    "train_filepaths"
   ]
  },
  {
   "cell_type": "code",
   "execution_count": 58,
   "id": "063bf155",
   "metadata": {},
   "outputs": [],
   "source": [
    "def preprocess(tfrecord):\n",
    "    feature_descriptions = {\n",
    "        \"name\": tf.io.FixedLenFeature([], tf.string, default_value=\"\"),\n",
    "        \"label\": tf.io.FixedLenFeature([], tf.int64, default_value=-1)\n",
    "    }\n",
    "    example = tf.io.parse_single_example(tfrecord, feature_descriptions)\n",
    "    image = tf.io.parse_tensor(example[\"name\"], out_type=tf.uint8)\n",
    "    #image = tf.io.decode_jpeg(example[\"image\"])\n",
    "    image = tf.reshape(image, shape=[28, 28])\n",
    "    return image, example[\"label\"]\n",
    "\n",
    "\n",
    "def mnist_dataset(filepaths, n_read_threads=5, shuffle_buffer_size=None,\n",
    "                  n_parse_threads=5, batch_size=32, cache=True):\n",
    "    dataset = tf.data.TFRecordDataset(filepaths,\n",
    "                                      num_parallel_reads=n_read_threads)\n",
    "# すべてのfilepathを一緒に取り出してdatasetに代入\n",
    "    if cache:\n",
    "        dataset = dataset.cache()# cacheはdatasetをRAM上に保存させて、後の計算をRAMから直接読み込むことで計算\n",
    "# を加速させるためのものです。ここでデータは大きくないのでRAMで対応でき、cache=True\n",
    "# にしている\n",
    "    if shuffle_buffer_size:\n",
    "        dataset = dataset.shuffle(shuffle_buffer_size)\n",
    "    dataset = dataset.map(preprocess, num_parallel_calls=n_parse_threads)\n",
    "    dataset = dataset.batch(batch_size)\n",
    "    return dataset.prefetch(1)"
   ]
  },
  {
   "cell_type": "code",
   "execution_count": 59,
   "id": "10cc11bb",
   "metadata": {},
   "outputs": [
    {
     "data": {
      "image/png": "[encoded data removed]",
      "text/plain": [
       "<Figure size 432x288 with 5 Axes>"
      ]
     },
     "metadata": {
      "needs_background": "light"
     },
     "output_type": "display_data"
    }
   ],
   "source": [
    "train_set = mnist_dataset(train_filepaths, shuffle_buffer_size=60000)\n",
    "valid_set = mnist_dataset(valid_filepaths)\n",
    "test_set = mnist_dataset(test_filepaths)\n",
    "for X, y in train_set.take(1):\n",
    "    for i in range(5):\n",
    "        plt.subplot(1, 5, i + 1)\n",
    "        plt.imshow(X[i].numpy(), cmap=\"binary\")\n",
    "        plt.axis(\"off\")\n",
    "        plt.title(str(y[i].numpy()))"
   ]
  },
  {
   "cell_type": "code",
   "execution_count": 72,
   "id": "3daafcf8",
   "metadata": {},
   "outputs": [],
   "source": [
    "keras.backend.clear_session()\n",
    "tf.random.set_seed(42)\n",
    "np.random.seed(42)"
   ]
  },
  {
   "cell_type": "code",
   "execution_count": 73,
   "id": "ea8718e9",
   "metadata": {},
   "outputs": [],
   "source": [
    "class Standardization(keras.layers.Layer):\n",
    "    def adapt(self, data_sample):\n",
    "        self.means_ = np.mean(data_sample, axis=0, keepdims=True)\n",
    "        self.stds_ = np.std(data_sample, axis=0, keepdims=True)\n",
    "    def call(self, inputs):\n",
    "        return (inputs - self.means_) / (self.stds_ + keras.backend.epsilon())"
   ]
  },
  {
   "cell_type": "code",
   "execution_count": 74,
   "id": "7a5cf68d",
   "metadata": {},
   "outputs": [],
   "source": [
    "standardization = Standardization(input_shape=[28,28])\n",
    "# input_shape acts to keras.layers.Layer's __init__ method\n",
    "sample_data = train_set.map(lambda name, label: name)\n",
    "sample_datas = np.concatenate(list(sample_data.as_numpy_iterator()), #batchごとにnumpy arrayを返す\n",
    "                             axis=0).astype(np.float32) #除算はfloat限定, axis=0はすべてのbatchを結合して、\n",
    "                                                     # batch化自体を消した新しいlistを作る"
   ]
  },
  {
   "cell_type": "code",
   "execution_count": 75,
   "id": "5aed6669",
   "metadata": {},
   "outputs": [],
   "source": [
    "standardization.adapt(sample_datas)\n",
    "# .as_numpy_iteratorはbatchごとにnumpy arrayとして取得してイテレーションを行う\n",
    "\n",
    "model = keras.models.Sequential([\n",
    "    standardization,\n",
    "    keras.layers.Flatten(),\n",
    "    keras.layers.Dense(100, activation=\"relu\"),\n",
    "    keras.layers.Dense(10, activation=\"softmax\")\n",
    "])\n",
    "model.compile(loss=\"sparse_categorical_crossentropy\",\n",
    "              optimizer=\"nadam\", metrics=[\"accuracy\"])"
   ]
  },
  {
   "cell_type": "code",
   "execution_count": 76,
   "id": "9f22e7e8",
   "metadata": {},
   "outputs": [
    {
     "name": "stdout",
     "output_type": "stream",
     "text": [
      "Epoch 1/10\n",
      "1719/1719 [==============================] - 2s 1ms/step - loss: 0.4462 - accuracy: 0.8421 - val_loss: 0.3989 - val_accuracy: 0.8576\n",
      "Epoch 2/10\n",
      "1719/1719 [==============================] - 2s 1ms/step - loss: 0.3324 - accuracy: 0.8788 - val_loss: 0.3363 - val_accuracy: 0.8788\n",
      "Epoch 3/10\n",
      "1719/1719 [==============================] - 2s 1ms/step - loss: 0.2956 - accuracy: 0.8911 - val_loss: 0.3356 - val_accuracy: 0.8836\n",
      "Epoch 4/10\n",
      "1719/1719 [==============================] - 2s 1ms/step - loss: 0.2704 - accuracy: 0.8998 - val_loss: 0.3473 - val_accuracy: 0.8828\n",
      "Epoch 5/10\n",
      "1719/1719 [==============================] - 2s 1ms/step - loss: 0.2475 - accuracy: 0.9081 - val_loss: 0.3375 - val_accuracy: 0.8868\n",
      "Epoch 6/10\n",
      "1719/1719 [==============================] - 2s 1ms/step - loss: 0.2331 - accuracy: 0.9115 - val_loss: 0.3457 - val_accuracy: 0.8860\n",
      "Epoch 7/10\n",
      "1719/1719 [==============================] - 2s 1ms/step - loss: 0.2156 - accuracy: 0.9217 - val_loss: 0.3603 - val_accuracy: 0.8838\n",
      "Epoch 8/10\n",
      "1719/1719 [==============================] - 2s 1ms/step - loss: 0.2051 - accuracy: 0.9240 - val_loss: 0.3714 - val_accuracy: 0.8812\n",
      "Epoch 9/10\n",
      "1719/1719 [==============================] - 2s 1ms/step - loss: 0.1916 - accuracy: 0.9293 - val_loss: 0.3609 - val_accuracy: 0.8880\n",
      "Epoch 10/10\n",
      "1719/1719 [==============================] - 2s 1ms/step - loss: 0.1859 - accuracy: 0.9315 - val_loss: 0.3724 - val_accuracy: 0.8888\n"
     ]
    },
    {
     "data": {
      "text/plain": [
       "<keras.callbacks.History at 0x1e7552597f0>"
      ]
     },
     "execution_count": 76,
     "metadata": {},
     "output_type": "execute_result"
    }
   ],
   "source": [
    "from datetime import datetime\n",
    "\n",
    "tensorboard_cb = tf.keras.callbacks.TensorBoard(\n",
    "     histogram_freq=1, profile_batch=10)\n",
    "\n",
    "model.fit(train_set, epochs=10, validation_data=valid_set,\n",
    "          callbacks=[tensorboard_cb])"
   ]
  },
  {
   "cell_type": "code",
   "execution_count": null,
   "id": "80a7cc78",
   "metadata": {},
   "outputs": [],
   "source": []
  }
 ],
 "metadata": {
  "kernelspec": {
   "display_name": "Python 3 (ipykernel)",
   "language": "python",
   "name": "python3"
  },
  "language_info": {
   "codemirror_mode": {
    "name": "ipython",
    "version": 3
   },
   "file_extension": ".py",
   "mimetype": "text/x-python",
   "name": "python",
   "nbconvert_exporter": "python",
   "pygments_lexer": "ipython3",
   "version": "3.9.12"
  }
 },
 "nbformat": 4,
 "nbformat_minor": 5
}
