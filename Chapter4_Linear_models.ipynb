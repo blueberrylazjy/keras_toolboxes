{
 "cells": [
  {
   "cell_type": "code",
   "execution_count": 1,
   "id": "c14c2dde",
   "metadata": {},
   "outputs": [
    {
     "data": {
      "text/plain": [
       "<matplotlib.collections.PathCollection at 0x274e6771160>"
      ]
     },
     "execution_count": 1,
     "metadata": {},
     "output_type": "execute_result"
    },
    {
     "data": {
      "image/png": "[encoded data removed]",
      "text/plain": [
       "<Figure size 432x288 with 1 Axes>"
      ]
     },
     "metadata": {
      "needs_background": "light"
     },
     "output_type": "display_data"
    }
   ],
   "source": [
    "import numpy as np\n",
    "import matplotlib.pyplot as plt\n",
    "\n",
    "X = 2 * np.random.rand(100, 1)\n",
    "y = 4 + 3 * X + np.random.randn(100, 1)\n",
    "plt.scatter(X,y)"
   ]
  },
  {
   "cell_type": "code",
   "execution_count": 2,
   "id": "eecc494c",
   "metadata": {},
   "outputs": [
    {
     "data": {
      "text/plain": [
       "array([[3.63295262],\n",
       "       [3.28683852]])"
      ]
     },
     "execution_count": 2,
     "metadata": {},
     "output_type": "execute_result"
    }
   ],
   "source": [
    "#\n",
    "\n",
    "X_b = np.c_[np.ones((100, 1)), X] # add x0 = 1 to each instance\n",
    "#np.c_ 列方向（水平方向）に配列を連結する\n",
    "# .dotは2つの配列の行列積\n",
    "theta_best = np.linalg.inv(X_b.T.dot(X_b)).dot(X_b.T).dot(y)\n",
    "#.Tは、NumPy配列の転置（行１と列の入れ替え）を行うための属性です\n",
    "theta_best"
   ]
  },
  {
   "cell_type": "code",
   "execution_count": 3,
   "id": "efbe1868",
   "metadata": {},
   "outputs": [
    {
     "data": {
      "text/plain": [
       "array([[ 3.63295262],\n",
       "       [10.20662966]])"
      ]
     },
     "execution_count": 3,
     "metadata": {},
     "output_type": "execute_result"
    }
   ],
   "source": [
    "# make prediction with theta_best\n",
    "X_new = np.array([[0],[2]])\n",
    "X_new_b = np.c_[np.ones((2,1)), X_new]\n",
    "y_predict = X_new_b.dot(theta_best)\n",
    "y_predict"
   ]
  },
  {
   "cell_type": "code",
   "execution_count": 4,
   "id": "a0576a32",
   "metadata": {},
   "outputs": [
    {
     "data": {
      "image/png": "[encoded data removed]",
      "text/plain": [
       "<Figure size 432x288 with 1 Axes>"
      ]
     },
     "metadata": {
      "needs_background": "light"
     },
     "output_type": "display_data"
    }
   ],
   "source": [
    "plt.plot(X_new, y_predict, \"r-\") #r color and line type\n",
    "plt.plot(X,y, \"b.\") # blue color and dot type\n",
    "plt.axis([0,2,0,15])\n",
    "plt.show()"
   ]
  },
  {
   "cell_type": "code",
   "execution_count": 5,
   "id": "7a0ff261",
   "metadata": {},
   "outputs": [
    {
     "data": {
      "text/plain": [
       "(array([3.63295262]), array([[3.28683852]]))"
      ]
     },
     "execution_count": 5,
     "metadata": {},
     "output_type": "execute_result"
    }
   ],
   "source": [
    "# this can be performed by Linear Regression using Schikit-Learn\n",
    "from sklearn.linear_model import LinearRegression\n",
    "lin_reg = LinearRegression()\n",
    "lin_reg.fit(X,y)\n",
    "lin_reg.intercept_, lin_reg.coef_\n",
    "# intercept_ 線形回帰モデルにおける切片の値\n",
    "# coef_ 各特徴量の係数（coefficient）の値,帰直線の傾きや各特徴量の目的変数への寄与度\n",
    "# 各特徴量の重み、つまり、多数の特徴量から計算できた重ね合わせた　勾配　"
   ]
  },
  {
   "cell_type": "code",
   "execution_count": 6,
   "id": "933772a3",
   "metadata": {},
   "outputs": [
    {
     "data": {
      "text/plain": [
       "array([[3.63295262],\n",
       "       [3.28683852]])"
      ]
     },
     "execution_count": 6,
     "metadata": {},
     "output_type": "execute_result"
    }
   ],
   "source": [
    "theta_best_svd, residuals, rank, s = np.linalg.lstsq(X_b, y, rcond=1e-6)\n",
    "theta_best_svd\n",
    "# LinearRegression is based on scipy.linalg.lstsq() so we can call it directly like this"
   ]
  },
  {
   "cell_type": "code",
   "execution_count": 7,
   "id": "fe74367e",
   "metadata": {},
   "outputs": [
    {
     "data": {
      "text/plain": [
       "array([[3.63295262],\n",
       "       [3.28683852]])"
      ]
     },
     "execution_count": 7,
     "metadata": {},
     "output_type": "execute_result"
    }
   ],
   "source": [
    "np.linalg.pinv(X_b).dot(y)\n",
    "# also like this"
   ]
  },
  {
   "cell_type": "code",
   "execution_count": 8,
   "id": "0143d68e",
   "metadata": {},
   "outputs": [
    {
     "data": {
      "text/plain": [
       "(100, 2)"
      ]
     },
     "execution_count": 8,
     "metadata": {},
     "output_type": "execute_result"
    }
   ],
   "source": [
    "# Gradient Descent\n",
    "X_b.shape"
   ]
  },
  {
   "cell_type": "code",
   "execution_count": 9,
   "id": "bf159b10",
   "metadata": {},
   "outputs": [
    {
     "data": {
      "text/plain": [
       "array([[3.54140653],\n",
       "       [3.3631611 ]])"
      ]
     },
     "execution_count": 9,
     "metadata": {},
     "output_type": "execute_result"
    }
   ],
   "source": [
    "# Batch Gradient Descent\n",
    "eta = 0.1 # learning rate\n",
    "n_iterations = 100\n",
    "m= 100\n",
    "theta = np.random.randn(2,1)\n",
    "for iterations in range(n_iterations):\n",
    "    gradients = 2/m * X_b.T.dot(X_b.dot(theta)-y)\n",
    "    theta = theta-eta *gradients\n",
    "theta"
   ]
  },
  {
   "cell_type": "code",
   "execution_count": 10,
   "id": "9897e6ce",
   "metadata": {},
   "outputs": [
    {
     "data": {
      "image/png": "[encoded data removed]",
      "text/plain": [
       "<Figure size 432x288 with 1 Axes>"
      ]
     },
     "metadata": {
      "needs_background": "light"
     },
     "output_type": "display_data"
    }
   ],
   "source": [
    "y_predict_1 = X_new_b.dot(theta)\n",
    "plt.plot(X_new, y_predict, \"r-\") #r color and line type\n",
    "plt.plot(X,y, \"b.\") # blue color and dot type\n",
    "plt.axis([0,2,0,15])\n",
    "plt.show()"
   ]
  },
  {
   "cell_type": "code",
   "execution_count": 11,
   "id": "cf0475e0",
   "metadata": {},
   "outputs": [
    {
     "data": {
      "image/png": "[encoded data removed]",
      "text/plain": [
       "<Figure size 432x288 with 1 Axes>"
      ]
     },
     "metadata": {
      "needs_background": "light"
     },
     "output_type": "display_data"
    }
   ],
   "source": [
    "eta = 0.002  # learning rate\n",
    "n_iterations = 100\n",
    "m = 100\n",
    "\n",
    "fig, ax = plt.subplots()\n",
    "theta = np.random.randn(2, 1)\n",
    "\n",
    "for iterations in range(n_iterations):\n",
    "    gradients = 2 / m * X_b.T.dot(X_b.dot(theta) - y)\n",
    "    theta = theta - eta * gradients\n",
    "    \n",
    "    if iterations % 20 == 1:\n",
    "        y_predict_1 = X_new_b.dot(theta)\n",
    "        ax.plot(X_new, y_predict_1, \"r-\")  # r color and line type\n",
    "        ax.plot(X, y, \"b.\")  # blue color and dot type\n",
    "\n",
    "plt.axis([0, 2, 0, 15])\n",
    "plt.show()\n",
    "# low leaning rate means it will take a long time to reach the best solution"
   ]
  },
  {
   "cell_type": "code",
   "execution_count": 12,
   "id": "6abb073e",
   "metadata": {},
   "outputs": [
    {
     "data": {
      "image/png": "[encoded data removed]",
      "text/plain": [
       "<Figure size 432x288 with 1 Axes>"
      ]
     },
     "metadata": {
      "needs_background": "light"
     },
     "output_type": "display_data"
    }
   ],
   "source": [
    "eta = 0.02  # learning rate\n",
    "n_iterations = 100\n",
    "m = 100\n",
    "\n",
    "fig, ax = plt.subplots()\n",
    "theta = np.random.randn(2, 1)\n",
    "\n",
    "for iterations in range(n_iterations):\n",
    "    gradients = 2 / m * X_b.T.dot(X_b.dot(theta) - y)\n",
    "    theta = theta - eta * gradients\n",
    "    \n",
    "    if iterations % 20 == 1:\n",
    "        y_predict_1 = X_new_b.dot(theta)\n",
    "        ax.plot(X_new, y_predict_1, \"r-\")  # r color and line type\n",
    "        ax.plot(X, y, \"b.\")  # blue color and dot type\n",
    "\n",
    "plt.axis([0, 2, 0, 15])\n",
    "plt.show()\n",
    "# performs quite well"
   ]
  },
  {
   "cell_type": "code",
   "execution_count": 13,
   "id": "bae407dd",
   "metadata": {},
   "outputs": [
    {
     "data": {
      "image/png": "[encoded data removed]",
      "text/plain": [
       "<Figure size 432x288 with 1 Axes>"
      ]
     },
     "metadata": {
      "needs_background": "light"
     },
     "output_type": "display_data"
    }
   ],
   "source": [
    "eta = 0.4  # learning rate\n",
    "n_iterations = 100\n",
    "m = 100\n",
    "\n",
    "fig, ax = plt.subplots()\n",
    "theta = np.random.randn(2, 1)\n",
    "\n",
    "for iterations in range(n_iterations):\n",
    "    gradients = 2 / m * X_b.T.dot(X_b.dot(theta) - y)\n",
    "    theta = theta - eta * gradients\n",
    "    \n",
    "    if iterations % 20 == 1:\n",
    "        y_predict_1 = X_new_b.dot(theta)\n",
    "        ax.plot(X_new, y_predict_1, \"r-\")  # r color and line type\n",
    "        ax.plot(X, y, \"b.\")  # blue color and dot type\n",
    "\n",
    "plt.axis([0, 2, 0, 15])\n",
    "plt.show()\n",
    "# too high that the algorithm diverges, jumping all over the place"
   ]
  },
  {
   "cell_type": "code",
   "execution_count": 14,
   "id": "b589a2c4",
   "metadata": {},
   "outputs": [],
   "source": [
    "# grid search could be used in finding a good leaning rate\n"
   ]
  },
  {
   "cell_type": "code",
   "execution_count": 15,
   "id": "c634690c",
   "metadata": {},
   "outputs": [
    {
     "name": "stdout",
     "output_type": "stream",
     "text": [
      "17\n"
     ]
    },
    {
     "data": {
      "image/png": "[encoded data removed]",
      "text/plain": [
       "<Figure size 432x288 with 1 Axes>"
      ]
     },
     "metadata": {
      "needs_background": "light"
     },
     "output_type": "display_data"
    }
   ],
   "source": [
    "# stochastic Gradient Descent\n",
    "# choose random instance in the training set at every step\n",
    "# has abetter chance of finding the global minimum than Batch Gradient Descent does\n",
    "# also, bad at finding local optima\n",
    "n_epochs = 50\n",
    "fig, ax = plt.subplots()\n",
    "t0, t1 = 5, 50 # learning schedule hyperparameters\n",
    "k=0\n",
    "def learning_schedule(t):\n",
    "    return t0/(t+t1)\n",
    "m = 100\n",
    "theta = np.random.randn(2,1)\n",
    "for epoch in range(n_epochs):\n",
    "    for i in range(m):\n",
    "        random_index = np.random.randint(m)\n",
    "        xi = X_b[random_index:random_index+1]\n",
    "        yi = y[random_index:random_index+1]\n",
    "        gradients = 2*xi.T.dot(xi.dot(theta)-yi)\n",
    "        eta = learning_schedule(epoch *m +i)\n",
    "        theta = theta - eta*gradients\n",
    "        if i % 100 == 1 and epoch % 3==1:\n",
    "            k = k+1\n",
    "            y_predict_1 = X_new_b.dot(theta)\n",
    "            ax.plot(X_new, y_predict_1, \"r-\")  # r color and line type\n",
    "            ax.plot(X, y, \"b.\")  # blue color and dot type\n",
    "        \n",
    "theta\n",
    "print(k)\n",
    "#randint は指定された範囲内でランダムな整数を生成する\n",
    "# iterate by rounds of m iterations\n",
    "#  each round is called an epoch\n",
    "# set only 50 times and reachs a pretty good solution"
   ]
  },
  {
   "cell_type": "code",
   "execution_count": 16,
   "id": "5722fde5",
   "metadata": {},
   "outputs": [
    {
     "data": {
      "text/plain": [
       "SGDRegressor(eta0=0.1, penalty=None)"
      ]
     },
     "execution_count": 16,
     "metadata": {},
     "output_type": "execute_result"
    }
   ],
   "source": [
    "# there is a model by sklearn to call this \n",
    "from sklearn.linear_model import SGDRegressor\n",
    "sgd_reg = SGDRegressor(max_iter =1000, tol=1e-3, penalty =None, eta0 = 0.1)\n",
    "sgd_reg.fit(X, y.ravel())\n",
    "# y.ravel() は、NumPy 配列の次元を1次元に変換するためのメソッド\n",
    "# y が既に1次元の形状を持つ場合や、学習アルゴリズムが1次元のターゲット変数を要求する場合は、\n",
    "# y.ravel() を使用する必要があります\n",
    "\n",
    "# max_iter は最大 iteration\n",
    "# tolは収束の許容誤差, default is 1e-3\n",
    "# penalty正則化項を指定します。デフォルトは None で正則化項は使用されません。\n",
    "# 正則化項を利用する場合には、'l2'（リッジ回帰）や'l1'\n",
    "# eta0（オプション）: 学習率の初期値を指定します。デフォルトは 0.1 です。"
   ]
  },
  {
   "cell_type": "code",
   "execution_count": 17,
   "id": "f7cd4a4b",
   "metadata": {},
   "outputs": [
    {
     "data": {
      "text/plain": [
       "(array([3.58882451]), array([3.24832696]))"
      ]
     },
     "execution_count": 17,
     "metadata": {},
     "output_type": "execute_result"
    }
   ],
   "source": [
    "sgd_reg.intercept_, sgd_reg.coef_"
   ]
  },
  {
   "cell_type": "code",
   "execution_count": 18,
   "id": "8e86836e",
   "metadata": {},
   "outputs": [],
   "source": [
    "# mini-batch Gradient Descent\n",
    "# computes the gradients on small random sets of instances\n",
    "# able to get a boost from hardware optimization from GPUs"
   ]
  },
  {
   "cell_type": "code",
   "execution_count": null,
   "id": "fe075df5",
   "metadata": {},
   "outputs": [],
   "source": [
    "\n",
    "# a sample code for mini-batch Gradient Descent\n",
    "from sklearn.linear_model import SGDRegressor\n",
    "from sklearn.datasets import make_regression\n",
    "from sklearn.model_selection import train_test_split\n",
    "from sklearn.metrics import mean_squared_error\n",
    "\n",
    "# ダミーデータの生成\n",
    "X, y = make_regression(n_samples=1000, n_features=10, noise=0.1)\n",
    "X_train, X_test, y_train, y_test = train_test_split(X, y, test_size=0.2)\n",
    "\n",
    "# SGDRegressorを使用してmini-batch Gradient Descentを実行\n",
    "model = SGDRegressor(loss='squared_loss', penalty='l2', alpha=0.01, learning_rate='constant', eta0=0.01, max_iter=1000, tol=1e-3, batch_size=32)\n",
    "model.fit(X_train, y_train)\n",
    "\n",
    "# テストデータで予測を行い、性能を評価\n",
    "y_pred = model.predict(X_test)\n",
    "mse = mean_squared_error(y_test, y_pred)\n",
    "print(\"Mean Squared Error:\", mse)"
   ]
  }
 ],
 "metadata": {
  "kernelspec": {
   "display_name": "Python 3 (ipykernel)",
   "language": "python",
   "name": "python3"
  },
  "language_info": {
   "codemirror_mode": {
    "name": "ipython",
    "version": 3
   },
   "file_extension": ".py",
   "mimetype": "text/x-python",
   "name": "python",
   "nbconvert_exporter": "python",
   "pygments_lexer": "ipython3",
   "version": "3.9.12"
  }
 },
 "nbformat": 4,
 "nbformat_minor": 5
}
