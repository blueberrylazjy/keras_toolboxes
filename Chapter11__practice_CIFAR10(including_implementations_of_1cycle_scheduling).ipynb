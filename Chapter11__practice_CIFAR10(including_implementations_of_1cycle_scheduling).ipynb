{
 "cells": [
  {
   "cell_type": "code",
   "execution_count": 2,
   "id": "3e1e8ef4",
   "metadata": {},
   "outputs": [],
   "source": [
    "import tensorflow as tf\n",
    "from tensorflow import keras\n",
    "import numpy as np\n",
    "import matplotlib.pyplot as plt\n",
    "\n",
    "keras.backend.clear_session()\n",
    "tf.random.set_seed(42)\n",
    "np.random.seed(42)"
   ]
  },
  {
   "cell_type": "code",
   "execution_count": 4,
   "id": "2b03b36a",
   "metadata": {},
   "outputs": [],
   "source": [
    "(X_train_full, y_train_full), (X_test, y_test) = keras.datasets.cifar10.load_data()\n",
    "\n",
    "X_train = X_train_full[5000:]\n",
    "y_train = y_train_full[5000:]\n",
    "X_valid = X_train_full[:5000]\n",
    "y_valid = y_train_full[:5000]"
   ]
  },
  {
   "cell_type": "code",
   "execution_count": 24,
   "id": "98399e06",
   "metadata": {},
   "outputs": [
    {
     "data": {
      "text/plain": [
       "(45000, 32, 32, 3)"
      ]
     },
     "execution_count": 24,
     "metadata": {},
     "output_type": "execute_result"
    }
   ],
   "source": [
    "X_train.shape"
   ]
  },
  {
   "cell_type": "code",
   "execution_count": 25,
   "id": "c4d3388b",
   "metadata": {},
   "outputs": [
    {
     "data": {
      "text/plain": [
       "(10000, 32, 32, 3)"
      ]
     },
     "execution_count": 25,
     "metadata": {},
     "output_type": "execute_result"
    }
   ],
   "source": [
    "X_test.shape"
   ]
  },
  {
   "cell_type": "code",
   "execution_count": 26,
   "id": "572170c4",
   "metadata": {},
   "outputs": [
    {
     "data": {
      "text/plain": [
       "<matplotlib.image.AxesImage at 0x2d3779340d0>"
      ]
     },
     "execution_count": 26,
     "metadata": {},
     "output_type": "execute_result"
    },
    {
     "data": {
      "image/png": "[encoded data removed]",
      "text/plain": [
       "<Figure size 216x216 with 1 Axes>"
      ]
     },
     "metadata": {
      "needs_background": "light"
     },
     "output_type": "display_data"
    }
   ],
   "source": [
    "plt.figure(figsize=(3,3))\n",
    "plt.imshow(X_train[1],cmap=\"Accent_r\")"
   ]
  },
  {
   "cell_type": "code",
   "execution_count": 35,
   "id": "07907c48",
   "metadata": {},
   "outputs": [
    {
     "data": {
      "image/png": "[encoded data removed]",
      "text/plain": [
       "<Figure size 432x288 with 1 Axes>"
      ]
     },
     "metadata": {
      "needs_background": "light"
     },
     "output_type": "display_data"
    }
   ],
   "source": [
    "plt.imshow(X_train[1])\n",
    "plt.show()"
   ]
  },
  {
   "cell_type": "code",
   "execution_count": 15,
   "id": "42a33c2b",
   "metadata": {},
   "outputs": [],
   "source": [
    "model = keras.models.Sequential()\n",
    "model.add(keras.layers.Flatten(input_shape=[32,32,3]))\n",
    "hidden=[100]*20\n",
    "for n_hidden in hidden:\n",
    "    model.add(keras.layers.Dense(n_hidden, activation=\"elu\",\n",
    "                                   kernel_initializer=\"he_normal\"))\n",
    "model.add(keras.layers.Dense(10, activation=\"softmax\"))"
   ]
  },
  {
   "cell_type": "code",
   "execution_count": 21,
   "id": "beb294d3",
   "metadata": {},
   "outputs": [
    {
     "name": "stdout",
     "output_type": "stream",
     "text": [
      "Model: \"sequential\"\n",
      "_________________________________________________________________\n",
      " Layer (type)                Output Shape              Param #   \n",
      "=================================================================\n",
      " flatten (Flatten)           (None, 3072)              0         \n",
      "                                                                 \n",
      " dense (Dense)               (None, 100)               307300    \n",
      "                                                                 \n",
      " dense_1 (Dense)             (None, 100)               10100     \n",
      "                                                                 \n",
      " dense_2 (Dense)             (None, 100)               10100     \n",
      "                                                                 \n",
      " dense_3 (Dense)             (None, 100)               10100     \n",
      "                                                                 \n",
      " dense_4 (Dense)             (None, 100)               10100     \n",
      "                                                                 \n",
      " dense_5 (Dense)             (None, 100)               10100     \n",
      "                                                                 \n",
      " dense_6 (Dense)             (None, 100)               10100     \n",
      "                                                                 \n",
      " dense_7 (Dense)             (None, 100)               10100     \n",
      "                                                                 \n",
      " dense_8 (Dense)             (None, 100)               10100     \n",
      "                                                                 \n",
      " dense_9 (Dense)             (None, 100)               10100     \n",
      "                                                                 \n",
      " dense_10 (Dense)            (None, 100)               10100     \n",
      "                                                                 \n",
      " dense_11 (Dense)            (None, 100)               10100     \n",
      "                                                                 \n",
      " dense_12 (Dense)            (None, 100)               10100     \n",
      "                                                                 \n",
      " dense_13 (Dense)            (None, 100)               10100     \n",
      "                                                                 \n",
      " dense_14 (Dense)            (None, 100)               10100     \n",
      "                                                                 \n",
      " dense_15 (Dense)            (None, 100)               10100     \n",
      "                                                                 \n",
      " dense_16 (Dense)            (None, 100)               10100     \n",
      "                                                                 \n",
      " dense_17 (Dense)            (None, 100)               10100     \n",
      "                                                                 \n",
      " dense_18 (Dense)            (None, 100)               10100     \n",
      "                                                                 \n",
      " dense_19 (Dense)            (None, 100)               10100     \n",
      "                                                                 \n",
      " dense_20 (Dense)            (None, 10)                1010      \n",
      "                                                                 \n",
      "=================================================================\n",
      "Total params: 500,210\n",
      "Trainable params: 500,210\n",
      "Non-trainable params: 0\n",
      "_________________________________________________________________\n"
     ]
    }
   ],
   "source": [
    "model.summary()"
   ]
  },
  {
   "cell_type": "code",
   "execution_count": 33,
   "id": "2ee07099",
   "metadata": {},
   "outputs": [],
   "source": [
    "import os\n",
    "optimizer = keras.optimizers.Nadam(learning_rate=5e-5)\n",
    "model.compile(loss=\"sparse_categorical_crossentropy\",\n",
    "                optimizer=optimizer,\n",
    "                metrics=[\"accuracy\"])\n",
    "early_stopping_cb = keras.callbacks.EarlyStopping(patience=20)\n",
    "model_checkpoint_cb = keras.callbacks.ModelCheckpoint(\"my_cifar10_model.h5\",\n",
    "                                                      save_best_only=True)\n",
    "run_index =1\n",
    "run_logdir = os.path.join(os.curdir, \"my_cifar10_logs\",\"run_{:03d}\".format(run_index))\n",
    "tensorboard_cb = keras.callbacks.TensorBoard(run_logdir)"
   ]
  },
  {
   "cell_type": "code",
   "execution_count": 32,
   "id": "7acd0cea",
   "metadata": {},
   "outputs": [
    {
     "data": {
      "text/html": [
       "\n",
       "      <iframe id=\"tensorboard-frame-de78eb4ff17791d5\" width=\"100%\" height=\"800\" frameborder=\"0\">\n",
       "      </iframe>\n",
       "      <script>\n",
       "        (function() {\n",
       "          const frame = document.getElementById(\"tensorboard-frame-de78eb4ff17791d5\");\n",
       "          const url = new URL(\"/\", window.location);\n",
       "          const port = 6006;\n",
       "          if (port) {\n",
       "            url.port = port;\n",
       "          }\n",
       "          frame.src = url;\n",
       "        })();\n",
       "      </script>\n",
       "    "
      ],
      "text/plain": [
       "<IPython.core.display.HTML object>"
      ]
     },
     "metadata": {},
     "output_type": "display_data"
    }
   ],
   "source": [
    "%load_ext tensorboard\n",
    "%tensorboard --logdir=./my_logs --port=6006"
   ]
  },
  {
   "cell_type": "code",
   "execution_count": 34,
   "id": "49984d06",
   "metadata": {},
   "outputs": [
    {
     "name": "stdout",
     "output_type": "stream",
     "text": [
      "Epoch 1/100\n",
      "1407/1407 [==============================] - 24s 10ms/step - loss: 3.5798 - accuracy: 0.1726 - val_loss: 2.1035 - val_accuracy: 0.2402\n",
      "Epoch 2/100\n",
      "1407/1407 [==============================] - 13s 9ms/step - loss: 2.0412 - accuracy: 0.2548 - val_loss: 1.9808 - val_accuracy: 0.2724\n",
      "Epoch 3/100\n",
      "1407/1407 [==============================] - 12s 9ms/step - loss: 1.9334 - accuracy: 0.2942 - val_loss: 1.8828 - val_accuracy: 0.3080\n",
      "Epoch 4/100\n",
      "1407/1407 [==============================] - 13s 9ms/step - loss: 1.8557 - accuracy: 0.3213 - val_loss: 1.8751 - val_accuracy: 0.3280\n",
      "Epoch 5/100\n",
      "1407/1407 [==============================] - 13s 9ms/step - loss: 1.7982 - accuracy: 0.3464 - val_loss: 1.7732 - val_accuracy: 0.3570\n",
      "Epoch 6/100\n",
      "1407/1407 [==============================] - 13s 9ms/step - loss: 1.7415 - accuracy: 0.3670 - val_loss: 1.7407 - val_accuracy: 0.3616\n",
      "Epoch 7/100\n",
      "1407/1407 [==============================] - 14s 10ms/step - loss: 1.7019 - accuracy: 0.3835 - val_loss: 1.7367 - val_accuracy: 0.3636\n",
      "Epoch 8/100\n",
      "1407/1407 [==============================] - 13s 9ms/step - loss: 1.6650 - accuracy: 0.3991 - val_loss: 1.6493 - val_accuracy: 0.4014\n",
      "Epoch 9/100\n",
      "1407/1407 [==============================] - 14s 10ms/step - loss: 1.6344 - accuracy: 0.4100 - val_loss: 1.6447 - val_accuracy: 0.4092\n",
      "Epoch 10/100\n",
      "1407/1407 [==============================] - 13s 10ms/step - loss: 1.6100 - accuracy: 0.4214 - val_loss: 1.7001 - val_accuracy: 0.3882\n",
      "Epoch 11/100\n",
      "1407/1407 [==============================] - 13s 9ms/step - loss: 1.5853 - accuracy: 0.4264 - val_loss: 1.6396 - val_accuracy: 0.4092\n",
      "Epoch 12/100\n",
      "1407/1407 [==============================] - 13s 9ms/step - loss: 1.5610 - accuracy: 0.4382 - val_loss: 1.6134 - val_accuracy: 0.4170\n",
      "Epoch 13/100\n",
      "1407/1407 [==============================] - 13s 9ms/step - loss: 1.5384 - accuracy: 0.4443 - val_loss: 1.6334 - val_accuracy: 0.4140\n",
      "Epoch 14/100\n",
      "1407/1407 [==============================] - 13s 9ms/step - loss: 1.5244 - accuracy: 0.4507 - val_loss: 1.5877 - val_accuracy: 0.4306\n",
      "Epoch 15/100\n",
      "1407/1407 [==============================] - 13s 10ms/step - loss: 1.5055 - accuracy: 0.4591 - val_loss: 1.5642 - val_accuracy: 0.4396\n",
      "Epoch 16/100\n",
      "1407/1407 [==============================] - 13s 9ms/step - loss: 1.4872 - accuracy: 0.4655 - val_loss: 1.5659 - val_accuracy: 0.4408\n",
      "Epoch 17/100\n",
      "1407/1407 [==============================] - 13s 9ms/step - loss: 1.4707 - accuracy: 0.4736 - val_loss: 1.5708 - val_accuracy: 0.4416\n",
      "Epoch 18/100\n",
      "1407/1407 [==============================] - 12s 9ms/step - loss: 1.4571 - accuracy: 0.4792 - val_loss: 1.5571 - val_accuracy: 0.4486\n",
      "Epoch 19/100\n",
      "1407/1407 [==============================] - 13s 9ms/step - loss: 1.4457 - accuracy: 0.4812 - val_loss: 1.5627 - val_accuracy: 0.4458\n",
      "Epoch 20/100\n",
      "1407/1407 [==============================] - 13s 9ms/step - loss: 1.4324 - accuracy: 0.4874 - val_loss: 1.5599 - val_accuracy: 0.4530\n",
      "Epoch 21/100\n",
      "1407/1407 [==============================] - 12s 9ms/step - loss: 1.4197 - accuracy: 0.4897 - val_loss: 1.5785 - val_accuracy: 0.4456\n",
      "Epoch 22/100\n",
      "1407/1407 [==============================] - 13s 9ms/step - loss: 1.4045 - accuracy: 0.4944 - val_loss: 1.5574 - val_accuracy: 0.4564\n",
      "Epoch 23/100\n",
      "1407/1407 [==============================] - 13s 9ms/step - loss: 1.3945 - accuracy: 0.5007 - val_loss: 1.5644 - val_accuracy: 0.4400\n",
      "Epoch 24/100\n",
      "1407/1407 [==============================] - 13s 9ms/step - loss: 1.3809 - accuracy: 0.5027 - val_loss: 1.5302 - val_accuracy: 0.4534\n",
      "Epoch 25/100\n",
      "1407/1407 [==============================] - 13s 9ms/step - loss: 1.3720 - accuracy: 0.5082 - val_loss: 1.5390 - val_accuracy: 0.4700\n",
      "Epoch 26/100\n",
      "1407/1407 [==============================] - 12s 9ms/step - loss: 1.3588 - accuracy: 0.5136 - val_loss: 1.5557 - val_accuracy: 0.4496\n",
      "Epoch 27/100\n",
      "1407/1407 [==============================] - 13s 9ms/step - loss: 1.3471 - accuracy: 0.5156 - val_loss: 1.5117 - val_accuracy: 0.4684\n",
      "Epoch 28/100\n",
      "1407/1407 [==============================] - 12s 9ms/step - loss: 1.3405 - accuracy: 0.5200 - val_loss: 1.5327 - val_accuracy: 0.4608\n",
      "Epoch 29/100\n",
      "1407/1407 [==============================] - 14s 10ms/step - loss: 1.3289 - accuracy: 0.5246 - val_loss: 1.5079 - val_accuracy: 0.4680\n",
      "Epoch 30/100\n",
      "1407/1407 [==============================] - 13s 9ms/step - loss: 1.3185 - accuracy: 0.5263 - val_loss: 1.6577 - val_accuracy: 0.4352\n",
      "Epoch 31/100\n",
      "1407/1407 [==============================] - 13s 9ms/step - loss: 1.3097 - accuracy: 0.5285 - val_loss: 1.5197 - val_accuracy: 0.4774\n",
      "Epoch 32/100\n",
      "1407/1407 [==============================] - 13s 9ms/step - loss: 1.2982 - accuracy: 0.5354 - val_loss: 1.5391 - val_accuracy: 0.4624\n",
      "Epoch 33/100\n",
      "1407/1407 [==============================] - 12s 9ms/step - loss: 1.2917 - accuracy: 0.5385 - val_loss: 1.5686 - val_accuracy: 0.4604\n",
      "Epoch 34/100\n",
      "1407/1407 [==============================] - 13s 9ms/step - loss: 1.2812 - accuracy: 0.5393 - val_loss: 1.5244 - val_accuracy: 0.4724\n",
      "Epoch 35/100\n",
      "1407/1407 [==============================] - 13s 9ms/step - loss: 1.2723 - accuracy: 0.5436 - val_loss: 1.5395 - val_accuracy: 0.4678\n",
      "Epoch 36/100\n",
      "1407/1407 [==============================] - 12s 9ms/step - loss: 1.2657 - accuracy: 0.5458 - val_loss: 1.5012 - val_accuracy: 0.4814\n",
      "Epoch 37/100\n",
      "1407/1407 [==============================] - 12s 8ms/step - loss: 1.2560 - accuracy: 0.5493 - val_loss: 1.5350 - val_accuracy: 0.4706\n",
      "Epoch 38/100\n",
      "1407/1407 [==============================] - 13s 9ms/step - loss: 1.2482 - accuracy: 0.5505 - val_loss: 1.5075 - val_accuracy: 0.4818\n",
      "Epoch 39/100\n",
      "1407/1407 [==============================] - 12s 9ms/step - loss: 1.2416 - accuracy: 0.5573 - val_loss: 1.5362 - val_accuracy: 0.4756\n",
      "Epoch 40/100\n",
      "1407/1407 [==============================] - 13s 9ms/step - loss: 1.2309 - accuracy: 0.5609 - val_loss: 1.4986 - val_accuracy: 0.4850\n",
      "Epoch 41/100\n",
      "1407/1407 [==============================] - 12s 9ms/step - loss: 1.2220 - accuracy: 0.5613 - val_loss: 1.5448 - val_accuracy: 0.4740\n",
      "Epoch 42/100\n",
      "1407/1407 [==============================] - 12s 9ms/step - loss: 1.2156 - accuracy: 0.5656 - val_loss: 1.5333 - val_accuracy: 0.4754\n",
      "Epoch 43/100\n",
      "1407/1407 [==============================] - 13s 9ms/step - loss: 1.2082 - accuracy: 0.5673 - val_loss: 1.6004 - val_accuracy: 0.4560\n",
      "Epoch 44/100\n",
      "1407/1407 [==============================] - 13s 9ms/step - loss: 1.1996 - accuracy: 0.5711 - val_loss: 1.5639 - val_accuracy: 0.4742\n",
      "Epoch 45/100\n",
      "1407/1407 [==============================] - 13s 9ms/step - loss: 1.1925 - accuracy: 0.5752 - val_loss: 1.5535 - val_accuracy: 0.4778\n",
      "Epoch 46/100\n",
      "1407/1407 [==============================] - 12s 9ms/step - loss: 1.1826 - accuracy: 0.5768 - val_loss: 1.5297 - val_accuracy: 0.4754\n",
      "Epoch 47/100\n",
      "1407/1407 [==============================] - 13s 9ms/step - loss: 1.1777 - accuracy: 0.5784 - val_loss: 1.5119 - val_accuracy: 0.4782\n",
      "Epoch 48/100\n",
      "1407/1407 [==============================] - 12s 9ms/step - loss: 1.1674 - accuracy: 0.5805 - val_loss: 1.5513 - val_accuracy: 0.4834\n",
      "Epoch 49/100\n",
      "1407/1407 [==============================] - 12s 9ms/step - loss: 1.1605 - accuracy: 0.5864 - val_loss: 1.5359 - val_accuracy: 0.4772\n",
      "Epoch 50/100\n",
      "1407/1407 [==============================] - 13s 9ms/step - loss: 1.1543 - accuracy: 0.5884 - val_loss: 1.5534 - val_accuracy: 0.4840\n",
      "Epoch 51/100\n",
      "1407/1407 [==============================] - 13s 9ms/step - loss: 1.1483 - accuracy: 0.5899 - val_loss: 1.5728 - val_accuracy: 0.4754\n",
      "Epoch 52/100\n",
      "1407/1407 [==============================] - 12s 8ms/step - loss: 1.1349 - accuracy: 0.5926 - val_loss: 1.5368 - val_accuracy: 0.4860\n",
      "Epoch 53/100\n",
      "1407/1407 [==============================] - 13s 9ms/step - loss: 1.1294 - accuracy: 0.5958 - val_loss: 1.5245 - val_accuracy: 0.4886\n",
      "Epoch 54/100\n",
      "1407/1407 [==============================] - 13s 9ms/step - loss: 1.1239 - accuracy: 0.5985 - val_loss: 1.5653 - val_accuracy: 0.4798\n",
      "Epoch 55/100\n",
      "1407/1407 [==============================] - 13s 9ms/step - loss: 1.1179 - accuracy: 0.5981 - val_loss: 1.5620 - val_accuracy: 0.4782\n",
      "Epoch 56/100\n",
      "1407/1407 [==============================] - 13s 9ms/step - loss: 1.1098 - accuracy: 0.6022 - val_loss: 1.5586 - val_accuracy: 0.4802\n"
     ]
    },
    {
     "name": "stdout",
     "output_type": "stream",
     "text": [
      "Epoch 57/100\n",
      "1407/1407 [==============================] - 13s 9ms/step - loss: 1.1026 - accuracy: 0.6044 - val_loss: 1.5769 - val_accuracy: 0.4794\n",
      "Epoch 58/100\n",
      "1407/1407 [==============================] - 13s 9ms/step - loss: 1.0985 - accuracy: 0.6070 - val_loss: 1.5650 - val_accuracy: 0.4842\n",
      "Epoch 59/100\n",
      "1407/1407 [==============================] - 13s 9ms/step - loss: 1.0913 - accuracy: 0.6083 - val_loss: 1.5464 - val_accuracy: 0.4754\n",
      "Epoch 60/100\n",
      "1407/1407 [==============================] - 12s 9ms/step - loss: 1.0810 - accuracy: 0.6138 - val_loss: 1.5616 - val_accuracy: 0.4818\n"
     ]
    },
    {
     "data": {
      "text/plain": [
       "<keras.callbacks.History at 0x2d366b98700>"
      ]
     },
     "execution_count": 34,
     "metadata": {},
     "output_type": "execute_result"
    }
   ],
   "source": [
    "\n",
    "model.fit(X_train, y_train, epochs=100,\n",
    "        validation_data=(X_valid, y_valid),\n",
    "        callbacks=[early_stopping_cb, model_checkpoint_cb, tensorboard_cb])\n"
   ]
  },
  {
   "cell_type": "code",
   "execution_count": 36,
   "id": "955e467d",
   "metadata": {},
   "outputs": [
    {
     "name": "stdout",
     "output_type": "stream",
     "text": [
      "313/313 [==============================] - 4s 12ms/step - loss: 1.4922 - accuracy: 0.4811\n"
     ]
    },
    {
     "data": {
      "text/plain": [
       "[1.4922479391098022, 0.4810999929904938]"
      ]
     },
     "execution_count": 36,
     "metadata": {},
     "output_type": "execute_result"
    }
   ],
   "source": [
    "model = keras.models.load_model(\"my_cifar10_model.h5\")\n",
    "model.evaluate(X_test, y_test)"
   ]
  },
  {
   "cell_type": "code",
   "execution_count": 37,
   "id": "6f225fed",
   "metadata": {},
   "outputs": [],
   "source": [
    "keras.backend.clear_session()\n",
    "tf.random.set_seed(42)\n",
    "np.random.seed(42)"
   ]
  },
  {
   "cell_type": "code",
   "execution_count": 38,
   "id": "a9ec4f1c",
   "metadata": {},
   "outputs": [],
   "source": [
    "model = keras.models.Sequential()\n",
    "model.add(keras.layers.Flatten(input_shape=[32,32,3]))\n",
    "model.add(keras.layers.BatchNormalization())\n",
    "hidden=[100]*20\n",
    "for n_hidden in hidden:\n",
    "    model.add(keras.layers.Dense(n_hidden, activation=\"elu\",\n",
    "                                   kernel_initializer=\"he_normal\"))\n",
    "    model.add(keras.layers.BatchNormalization())\n",
    "    \n",
    "model.add(keras.layers.Dense(10, activation=\"softmax\"))\n",
    "optimizer = keras.optimizers.Nadam(learning_rate=5e-5)\n",
    "model.compile(loss=\"sparse_categorical_crossentropy\",\n",
    "                optimizer=optimizer,\n",
    "                metrics=[\"accuracy\"])\n",
    "early_stopping_cb = keras.callbacks.EarlyStopping(patience=20)\n",
    "model_checkpoint_cb = keras.callbacks.ModelCheckpoint(\"my_cifar10_bn_model.h5\",\n",
    "                                                      save_best_only=True)\n",
    "run_index =1\n",
    "run_logdir = os.path.join(os.curdir, \"my_cifar10_bn_logs\",\"run_bn_{:03d}\".format(run_index))\n",
    "tensorboard_cb = keras.callbacks.TensorBoard(run_logdir)"
   ]
  },
  {
   "cell_type": "code",
   "execution_count": 39,
   "id": "f574ae67",
   "metadata": {},
   "outputs": [
    {
     "name": "stdout",
     "output_type": "stream",
     "text": [
      "Epoch 1/100\n",
      "1407/1407 [==============================] - 46s 15ms/step - loss: 2.2459 - accuracy: 0.2128 - val_loss: 1.9275 - val_accuracy: 0.3044\n",
      "Epoch 2/100\n",
      "1407/1407 [==============================] - 19s 13ms/step - loss: 1.9314 - accuracy: 0.3066 - val_loss: 1.7835 - val_accuracy: 0.3512\n",
      "Epoch 3/100\n",
      "1407/1407 [==============================] - 18s 13ms/step - loss: 1.8312 - accuracy: 0.3399 - val_loss: 1.7069 - val_accuracy: 0.3830\n",
      "Epoch 4/100\n",
      "1407/1407 [==============================] - 17s 12ms/step - loss: 1.7619 - accuracy: 0.3664 - val_loss: 1.6455 - val_accuracy: 0.4040\n",
      "Epoch 5/100\n",
      "1407/1407 [==============================] - 19s 14ms/step - loss: 1.7114 - accuracy: 0.3863 - val_loss: 1.5965 - val_accuracy: 0.4302\n",
      "Epoch 6/100\n",
      "1407/1407 [==============================] - 19s 13ms/step - loss: 1.6630 - accuracy: 0.4059 - val_loss: 1.5633 - val_accuracy: 0.4398\n",
      "Epoch 7/100\n",
      "1407/1407 [==============================] - 19s 14ms/step - loss: 1.6221 - accuracy: 0.4202 - val_loss: 1.5329 - val_accuracy: 0.4532\n",
      "Epoch 8/100\n",
      "1407/1407 [==============================] - 19s 13ms/step - loss: 1.5918 - accuracy: 0.4327 - val_loss: 1.5066 - val_accuracy: 0.4624\n",
      "Epoch 9/100\n",
      "1407/1407 [==============================] - 19s 14ms/step - loss: 1.5655 - accuracy: 0.4438 - val_loss: 1.4908 - val_accuracy: 0.4656\n",
      "Epoch 10/100\n",
      "1407/1407 [==============================] - 19s 14ms/step - loss: 1.5350 - accuracy: 0.4548 - val_loss: 1.4729 - val_accuracy: 0.4730\n",
      "Epoch 11/100\n",
      "1407/1407 [==============================] - 20s 14ms/step - loss: 1.5198 - accuracy: 0.4573 - val_loss: 1.4573 - val_accuracy: 0.4840\n",
      "Epoch 12/100\n",
      "1407/1407 [==============================] - 18s 13ms/step - loss: 1.4942 - accuracy: 0.4663 - val_loss: 1.4567 - val_accuracy: 0.4792\n",
      "Epoch 13/100\n",
      "1407/1407 [==============================] - 19s 14ms/step - loss: 1.4736 - accuracy: 0.4760 - val_loss: 1.4406 - val_accuracy: 0.4866\n",
      "Epoch 14/100\n",
      "1407/1407 [==============================] - 19s 13ms/step - loss: 1.4597 - accuracy: 0.4811 - val_loss: 1.4312 - val_accuracy: 0.4862\n",
      "Epoch 15/100\n",
      "1407/1407 [==============================] - 19s 13ms/step - loss: 1.4372 - accuracy: 0.4893 - val_loss: 1.4437 - val_accuracy: 0.4914\n",
      "Epoch 16/100\n",
      "1407/1407 [==============================] - 18s 13ms/step - loss: 1.4281 - accuracy: 0.4938 - val_loss: 1.4162 - val_accuracy: 0.4908\n",
      "Epoch 17/100\n",
      "1407/1407 [==============================] - 19s 13ms/step - loss: 1.4121 - accuracy: 0.5003 - val_loss: 1.4174 - val_accuracy: 0.4994\n",
      "Epoch 18/100\n",
      "1407/1407 [==============================] - 19s 13ms/step - loss: 1.3951 - accuracy: 0.5053 - val_loss: 1.4033 - val_accuracy: 0.5016\n",
      "Epoch 19/100\n",
      "1407/1407 [==============================] - 19s 13ms/step - loss: 1.3842 - accuracy: 0.5075 - val_loss: 1.3979 - val_accuracy: 0.5090\n",
      "Epoch 20/100\n",
      "1407/1407 [==============================] - 19s 13ms/step - loss: 1.3684 - accuracy: 0.5150 - val_loss: 1.4032 - val_accuracy: 0.5048\n",
      "Epoch 21/100\n",
      "1407/1407 [==============================] - 19s 14ms/step - loss: 1.3574 - accuracy: 0.5167 - val_loss: 1.3887 - val_accuracy: 0.5084\n",
      "Epoch 22/100\n",
      "1407/1407 [==============================] - 20s 14ms/step - loss: 1.3455 - accuracy: 0.5235 - val_loss: 1.3849 - val_accuracy: 0.5114\n",
      "Epoch 23/100\n",
      "1407/1407 [==============================] - 19s 14ms/step - loss: 1.3322 - accuracy: 0.5300 - val_loss: 1.3844 - val_accuracy: 0.5124\n",
      "Epoch 24/100\n",
      "1407/1407 [==============================] - 19s 14ms/step - loss: 1.3220 - accuracy: 0.5298 - val_loss: 1.3797 - val_accuracy: 0.5172\n",
      "Epoch 25/100\n",
      "1407/1407 [==============================] - 19s 13ms/step - loss: 1.3127 - accuracy: 0.5358 - val_loss: 1.3706 - val_accuracy: 0.5158\n",
      "Epoch 26/100\n",
      "1407/1407 [==============================] - 19s 13ms/step - loss: 1.3010 - accuracy: 0.5374 - val_loss: 1.3685 - val_accuracy: 0.5230\n",
      "Epoch 27/100\n",
      "1407/1407 [==============================] - 19s 13ms/step - loss: 1.2896 - accuracy: 0.5413 - val_loss: 1.3824 - val_accuracy: 0.5150\n",
      "Epoch 28/100\n",
      "1407/1407 [==============================] - 19s 13ms/step - loss: 1.2864 - accuracy: 0.5433 - val_loss: 1.3745 - val_accuracy: 0.5152\n",
      "Epoch 29/100\n",
      "1407/1407 [==============================] - 19s 13ms/step - loss: 1.2747 - accuracy: 0.5456 - val_loss: 1.3646 - val_accuracy: 0.5264\n",
      "Epoch 30/100\n",
      "1407/1407 [==============================] - 17s 12ms/step - loss: 1.2684 - accuracy: 0.5484 - val_loss: 1.3598 - val_accuracy: 0.5238\n",
      "Epoch 31/100\n",
      "1407/1407 [==============================] - 16s 12ms/step - loss: 1.2529 - accuracy: 0.5555 - val_loss: 1.3743 - val_accuracy: 0.5218\n",
      "Epoch 32/100\n",
      "1407/1407 [==============================] - 16s 12ms/step - loss: 1.2471 - accuracy: 0.5577 - val_loss: 1.3682 - val_accuracy: 0.5242\n",
      "Epoch 33/100\n",
      "1407/1407 [==============================] - 16s 12ms/step - loss: 1.2405 - accuracy: 0.5583 - val_loss: 1.3692 - val_accuracy: 0.5228\n",
      "Epoch 34/100\n",
      "1407/1407 [==============================] - 16s 12ms/step - loss: 1.2286 - accuracy: 0.5640 - val_loss: 1.3708 - val_accuracy: 0.5230\n",
      "Epoch 35/100\n",
      "1407/1407 [==============================] - 16s 12ms/step - loss: 1.2231 - accuracy: 0.5652 - val_loss: 1.3674 - val_accuracy: 0.5190\n",
      "Epoch 36/100\n",
      "1407/1407 [==============================] - 16s 12ms/step - loss: 1.2169 - accuracy: 0.5666 - val_loss: 1.3698 - val_accuracy: 0.5244\n",
      "Epoch 37/100\n",
      "1407/1407 [==============================] - 16s 12ms/step - loss: 1.2036 - accuracy: 0.5721 - val_loss: 1.3674 - val_accuracy: 0.5280\n",
      "Epoch 38/100\n",
      "1407/1407 [==============================] - 16s 12ms/step - loss: 1.1959 - accuracy: 0.5730 - val_loss: 1.3659 - val_accuracy: 0.5304\n",
      "Epoch 39/100\n",
      "1407/1407 [==============================] - 16s 12ms/step - loss: 1.1950 - accuracy: 0.5760 - val_loss: 1.3645 - val_accuracy: 0.5202\n",
      "Epoch 40/100\n",
      "1407/1407 [==============================] - 16s 12ms/step - loss: 1.1802 - accuracy: 0.5801 - val_loss: 1.3853 - val_accuracy: 0.5120\n",
      "Epoch 41/100\n",
      "1407/1407 [==============================] - 16s 12ms/step - loss: 1.1734 - accuracy: 0.5857 - val_loss: 1.3644 - val_accuracy: 0.5256\n",
      "Epoch 42/100\n",
      "1407/1407 [==============================] - 16s 12ms/step - loss: 1.1736 - accuracy: 0.5833 - val_loss: 1.3683 - val_accuracy: 0.5314\n",
      "Epoch 43/100\n",
      "1407/1407 [==============================] - 16s 12ms/step - loss: 1.1662 - accuracy: 0.5871 - val_loss: 1.3722 - val_accuracy: 0.5246\n",
      "Epoch 44/100\n",
      "1407/1407 [==============================] - 17s 12ms/step - loss: 1.1592 - accuracy: 0.5859 - val_loss: 1.3916 - val_accuracy: 0.5160\n",
      "Epoch 45/100\n",
      "1407/1407 [==============================] - 16s 12ms/step - loss: 1.1560 - accuracy: 0.5912 - val_loss: 1.3638 - val_accuracy: 0.5218\n",
      "Epoch 46/100\n",
      "1407/1407 [==============================] - 16s 12ms/step - loss: 1.1537 - accuracy: 0.5904 - val_loss: 1.3524 - val_accuracy: 0.5224\n",
      "Epoch 47/100\n",
      "1407/1407 [==============================] - 16s 12ms/step - loss: 1.1328 - accuracy: 0.5995 - val_loss: 1.3566 - val_accuracy: 0.5268\n",
      "Epoch 48/100\n",
      "1407/1407 [==============================] - 16s 12ms/step - loss: 1.1336 - accuracy: 0.5999 - val_loss: 1.3817 - val_accuracy: 0.5172\n",
      "Epoch 49/100\n",
      "1407/1407 [==============================] - 17s 12ms/step - loss: 1.1269 - accuracy: 0.6002 - val_loss: 1.3773 - val_accuracy: 0.5214\n",
      "Epoch 50/100\n",
      "1407/1407 [==============================] - 16s 12ms/step - loss: 1.1122 - accuracy: 0.6038 - val_loss: 1.3725 - val_accuracy: 0.5180\n",
      "Epoch 51/100\n",
      "1407/1407 [==============================] - 17s 12ms/step - loss: 1.1059 - accuracy: 0.6060 - val_loss: 1.3785 - val_accuracy: 0.5224\n",
      "Epoch 52/100\n",
      "1407/1407 [==============================] - 16s 12ms/step - loss: 1.1071 - accuracy: 0.6070 - val_loss: 1.3807 - val_accuracy: 0.5200\n",
      "Epoch 53/100\n",
      "1407/1407 [==============================] - 17s 12ms/step - loss: 1.1003 - accuracy: 0.6098 - val_loss: 1.3826 - val_accuracy: 0.5280\n",
      "Epoch 54/100\n",
      "1407/1407 [==============================] - 17s 12ms/step - loss: 1.0993 - accuracy: 0.6083 - val_loss: 1.3723 - val_accuracy: 0.5262\n",
      "Epoch 55/100\n",
      "1407/1407 [==============================] - 17s 12ms/step - loss: 1.0938 - accuracy: 0.6143 - val_loss: 1.3854 - val_accuracy: 0.5178\n",
      "Epoch 56/100\n",
      "1407/1407 [==============================] - 17s 12ms/step - loss: 1.0824 - accuracy: 0.6152 - val_loss: 1.3806 - val_accuracy: 0.5220\n",
      "Epoch 57/100\n",
      "1407/1407 [==============================] - 17s 12ms/step - loss: 1.0791 - accuracy: 0.6188 - val_loss: 1.3765 - val_accuracy: 0.5246\n",
      "Epoch 58/100\n",
      "1407/1407 [==============================] - 17s 12ms/step - loss: 1.0729 - accuracy: 0.6218 - val_loss: 1.3948 - val_accuracy: 0.5204\n",
      "Epoch 59/100\n",
      "1407/1407 [==============================] - 17s 12ms/step - loss: 1.0689 - accuracy: 0.6181 - val_loss: 1.3815 - val_accuracy: 0.5244\n",
      "Epoch 60/100\n",
      "1407/1407 [==============================] - 17s 12ms/step - loss: 1.0614 - accuracy: 0.6245 - val_loss: 1.3979 - val_accuracy: 0.5236\n",
      "Epoch 61/100\n",
      "1407/1407 [==============================] - 17s 12ms/step - loss: 1.0505 - accuracy: 0.6271 - val_loss: 1.3932 - val_accuracy: 0.5240\n",
      "Epoch 62/100\n",
      "1407/1407 [==============================] - 16s 12ms/step - loss: 1.0491 - accuracy: 0.6291 - val_loss: 1.4010 - val_accuracy: 0.5242\n",
      "Epoch 63/100\n",
      "1407/1407 [==============================] - 17s 12ms/step - loss: 1.0478 - accuracy: 0.6267 - val_loss: 1.4049 - val_accuracy: 0.5212\n",
      "Epoch 64/100\n",
      "1407/1407 [==============================] - 16s 12ms/step - loss: 1.0374 - accuracy: 0.6328 - val_loss: 1.4018 - val_accuracy: 0.5230\n",
      "Epoch 65/100\n",
      "1407/1407 [==============================] - 18s 13ms/step - loss: 1.0379 - accuracy: 0.6332 - val_loss: 1.4014 - val_accuracy: 0.5214\n",
      "Epoch 66/100\n",
      "1407/1407 [==============================] - 17s 12ms/step - loss: 1.0274 - accuracy: 0.6369 - val_loss: 1.3891 - val_accuracy: 0.5280\n"
     ]
    },
    {
     "data": {
      "text/plain": [
       "<keras.callbacks.History at 0x2d37b7dc070>"
      ]
     },
     "execution_count": 39,
     "metadata": {},
     "output_type": "execute_result"
    }
   ],
   "source": [
    "model.fit(X_train, y_train, epochs=100,\n",
    "        validation_data=(X_valid, y_valid),\n",
    "        callbacks=[early_stopping_cb, model_checkpoint_cb, tensorboard_cb])"
   ]
  },
  {
   "cell_type": "code",
   "execution_count": 40,
   "id": "213afc31",
   "metadata": {},
   "outputs": [
    {
     "name": "stdout",
     "output_type": "stream",
     "text": [
      "157/157 [==============================] - 0s 3ms/step - loss: 1.3891 - accuracy: 0.5280\n"
     ]
    },
    {
     "data": {
      "text/plain": [
       "[1.3891077041625977, 0.527999997138977]"
      ]
     },
     "execution_count": 40,
     "metadata": {},
     "output_type": "execute_result"
    }
   ],
   "source": [
    "model.evaluate(X_valid, y_valid)"
   ]
  },
  {
   "cell_type": "code",
   "execution_count": null,
   "id": "916151ac",
   "metadata": {},
   "outputs": [],
   "source": [
    "# this makes it much faster and a little bit more accurate"
   ]
  },
  {
   "cell_type": "code",
   "execution_count": 45,
   "id": "61f09f6f",
   "metadata": {},
   "outputs": [],
   "source": [
    "keras.backend.clear_session()\n",
    "tf.random.set_seed(42)\n",
    "np.random.seed(42)\n",
    "model = keras.models.Sequential()\n",
    "model.add(keras.layers.Flatten(input_shape=[32,32,3]))\n",
    "hidden=[100]*20\n",
    "for n_hidden in hidden:\n",
    "    model.add(keras.layers.Dense(n_hidden, activation=\"selu\",\n",
    "                                   kernel_initializer=\"lecun_normal\"))\n",
    "    \n",
    "model.add(keras.layers.Dense(10, activation=\"softmax\"))\n",
    "optimizer = keras.optimizers.Nadam(learning_rate=7e-4)\n",
    "model.compile(loss=\"sparse_categorical_crossentropy\",\n",
    "                optimizer=optimizer,\n",
    "                metrics=[\"accuracy\"])\n",
    "early_stopping_cb = keras.callbacks.EarlyStopping(patience=20)\n",
    "model_checkpoint_cb = keras.callbacks.ModelCheckpoint(\"my_cifar10_selu_model.h5\",\n",
    "                                                      save_best_only=True)\n",
    "run_index =1\n",
    "run_logdir = os.path.join(os.curdir, \"my_cifar10_selu_logs\",\"run_selu_{:03d}\".format(run_index))\n",
    "tensorboard_cb = keras.callbacks.TensorBoard(run_logdir)\n",
    "\n",
    "# 各チャンネルごとにスケーリングを行う\n",
    "X_train_scaled = np.zeros_like(X_train, dtype=np.float64)\n",
    "X_valid_scaled= np.zeros_like(X_valid, dtype=np.float64)\n",
    "X_test_scaled = np.zeros_like(X_test, dtype=np.float64)\n",
    "\n",
    "for i in range(3):\n",
    "    # X_trainのスケーリング\n",
    "    channel_data = X_train[:, :, :, i]\n",
    "    channel_mean = np.mean(channel_data)\n",
    "    channel_std = np.std(channel_data)\n",
    "    scaled_channel = (channel_data - channel_mean) / channel_std\n",
    "    X_train_scaled[:, :, :, i] = scaled_channel\n",
    "\n",
    "    # X_validのスケーリング\n",
    "    channel_data = X_valid[:, :, :, i]\n",
    "    scaled_channel = (channel_data - channel_mean) / channel_std\n",
    "    X_valid_scaled[:, :, :, i] = scaled_channel\n",
    "\n",
    "    # X_testのスケーリング\n",
    "    channel_data = X_test[:, :, :, i]\n",
    "    scaled_channel = (channel_data - channel_mean) / channel_std\n",
    "    X_test_scaled[:, :, :, i] = scaled_channel\n",
    "\n",
    "\n",
    "# to use selu, standardize the inputs without using batchnormalization"
   ]
  },
  {
   "cell_type": "code",
   "execution_count": 50,
   "id": "06a8fcfa",
   "metadata": {},
   "outputs": [
    {
     "name": "stdout",
     "output_type": "stream",
     "text": [
      "Epoch 1/100\n",
      "1407/1407 [==============================] - 16s 8ms/step - loss: 1.8991 - accuracy: 0.3196 - val_loss: 1.8204 - val_accuracy: 0.3502\n",
      "Epoch 2/100\n",
      "1407/1407 [==============================] - 11s 8ms/step - loss: 1.6922 - accuracy: 0.4025 - val_loss: 1.6752 - val_accuracy: 0.3980\n",
      "Epoch 3/100\n",
      "1407/1407 [==============================] - 11s 8ms/step - loss: 1.6012 - accuracy: 0.4359 - val_loss: 1.6148 - val_accuracy: 0.4396\n",
      "Epoch 4/100\n",
      "1407/1407 [==============================] - 11s 8ms/step - loss: 1.5415 - accuracy: 0.4571 - val_loss: 1.6363 - val_accuracy: 0.4314\n",
      "Epoch 5/100\n",
      "1407/1407 [==============================] - 11s 8ms/step - loss: 1.4845 - accuracy: 0.4782 - val_loss: 1.5438 - val_accuracy: 0.4632\n",
      "Epoch 6/100\n",
      "1407/1407 [==============================] - 11s 8ms/step - loss: 1.4349 - accuracy: 0.4972 - val_loss: 1.5047 - val_accuracy: 0.4738\n",
      "Epoch 7/100\n",
      "1407/1407 [==============================] - 11s 8ms/step - loss: 1.3945 - accuracy: 0.5143 - val_loss: 1.5725 - val_accuracy: 0.4654\n",
      "Epoch 8/100\n",
      "1407/1407 [==============================] - 11s 8ms/step - loss: 1.3520 - accuracy: 0.5285 - val_loss: 1.4929 - val_accuracy: 0.4814\n",
      "Epoch 9/100\n",
      "1407/1407 [==============================] - 11s 8ms/step - loss: 1.3124 - accuracy: 0.5441 - val_loss: 1.4945 - val_accuracy: 0.4720\n",
      "Epoch 10/100\n",
      "1407/1407 [==============================] - 11s 8ms/step - loss: 1.2867 - accuracy: 0.5533 - val_loss: 1.4926 - val_accuracy: 0.4976\n",
      "Epoch 11/100\n",
      "1407/1407 [==============================] - 11s 8ms/step - loss: 1.2560 - accuracy: 0.5644 - val_loss: 1.4731 - val_accuracy: 0.5028\n",
      "Epoch 12/100\n",
      "1407/1407 [==============================] - 11s 8ms/step - loss: 1.2254 - accuracy: 0.5767 - val_loss: 1.5016 - val_accuracy: 0.4910\n",
      "Epoch 13/100\n",
      "1407/1407 [==============================] - 11s 8ms/step - loss: 1.2005 - accuracy: 0.5880 - val_loss: 1.4964 - val_accuracy: 0.4998\n",
      "Epoch 14/100\n",
      "1407/1407 [==============================] - 11s 8ms/step - loss: 1.1778 - accuracy: 0.5954 - val_loss: 1.4584 - val_accuracy: 0.5148\n",
      "Epoch 15/100\n",
      "1407/1407 [==============================] - 11s 8ms/step - loss: 1.1553 - accuracy: 0.6045 - val_loss: 1.5219 - val_accuracy: 0.5032\n",
      "Epoch 16/100\n",
      "1407/1407 [==============================] - 11s 8ms/step - loss: 1.1610 - accuracy: 0.6038 - val_loss: 1.4894 - val_accuracy: 0.5088\n",
      "Epoch 17/100\n",
      "1407/1407 [==============================] - 11s 8ms/step - loss: 1.1103 - accuracy: 0.6176 - val_loss: 1.5238 - val_accuracy: 0.5052\n",
      "Epoch 18/100\n",
      "1407/1407 [==============================] - 11s 8ms/step - loss: 1.0864 - accuracy: 0.6274 - val_loss: 1.5743 - val_accuracy: 0.4990\n",
      "Epoch 19/100\n",
      "1407/1407 [==============================] - 11s 8ms/step - loss: 1.0694 - accuracy: 0.6348 - val_loss: 1.5422 - val_accuracy: 0.5162\n",
      "Epoch 20/100\n",
      "1407/1407 [==============================] - 11s 8ms/step - loss: 1.0464 - accuracy: 0.6418 - val_loss: 1.5827 - val_accuracy: 0.5060\n",
      "Epoch 21/100\n",
      "1407/1407 [==============================] - 11s 8ms/step - loss: 1.0291 - accuracy: 0.6471 - val_loss: 1.5342 - val_accuracy: 0.5082\n",
      "Epoch 22/100\n",
      "1407/1407 [==============================] - 11s 8ms/step - loss: 1.0172 - accuracy: 0.6529 - val_loss: 1.6132 - val_accuracy: 0.5056\n",
      "Epoch 23/100\n",
      "1407/1407 [==============================] - 11s 8ms/step - loss: 0.9876 - accuracy: 0.6653 - val_loss: 1.5854 - val_accuracy: 0.5070\n",
      "Epoch 24/100\n",
      "1407/1407 [==============================] - 11s 8ms/step - loss: 0.9765 - accuracy: 0.6664 - val_loss: 1.5572 - val_accuracy: 0.5214\n",
      "Epoch 25/100\n",
      "1407/1407 [==============================] - 11s 8ms/step - loss: 111.3633 - accuracy: 0.5800 - val_loss: 1.6889 - val_accuracy: 0.4116\n",
      "Epoch 26/100\n",
      "1407/1407 [==============================] - 11s 8ms/step - loss: 1.4006 - accuracy: 0.5041 - val_loss: 1.6092 - val_accuracy: 0.4410\n",
      "Epoch 27/100\n",
      "1407/1407 [==============================] - 11s 8ms/step - loss: 1.3001 - accuracy: 0.5412 - val_loss: 1.5720 - val_accuracy: 0.4560\n",
      "Epoch 28/100\n",
      "1407/1407 [==============================] - 11s 8ms/step - loss: 1.2374 - accuracy: 0.5651 - val_loss: 1.5772 - val_accuracy: 0.4624\n",
      "Epoch 29/100\n",
      "1407/1407 [==============================] - 11s 8ms/step - loss: 1.1863 - accuracy: 0.5836 - val_loss: 1.5536 - val_accuracy: 0.4768\n",
      "Epoch 30/100\n",
      "1407/1407 [==============================] - 11s 8ms/step - loss: 1.1965 - accuracy: 0.5845 - val_loss: 1.5486 - val_accuracy: 0.4808\n",
      "Epoch 31/100\n",
      "1407/1407 [==============================] - 11s 8ms/step - loss: 1.1374 - accuracy: 0.5972 - val_loss: 1.5352 - val_accuracy: 0.4968\n",
      "Epoch 32/100\n",
      "1407/1407 [==============================] - 11s 8ms/step - loss: 1.0983 - accuracy: 0.6141 - val_loss: 1.5570 - val_accuracy: 0.4894\n",
      "Epoch 33/100\n",
      "1407/1407 [==============================] - 11s 8ms/step - loss: 1.0640 - accuracy: 0.6260 - val_loss: 1.5532 - val_accuracy: 0.4948\n",
      "Epoch 34/100\n",
      "1407/1407 [==============================] - 11s 8ms/step - loss: 1.0371 - accuracy: 0.6395 - val_loss: 1.5416 - val_accuracy: 0.5000\n"
     ]
    },
    {
     "data": {
      "text/plain": [
       "<keras.callbacks.History at 0x2d36e0b4f10>"
      ]
     },
     "execution_count": 50,
     "metadata": {},
     "output_type": "execute_result"
    }
   ],
   "source": [
    "model.fit(X_train_scaled, y_train, epochs=100,\n",
    "        validation_data=(X_valid_scaled, y_valid),\n",
    "        callbacks=[early_stopping_cb, model_checkpoint_cb, tensorboard_cb])"
   ]
  },
  {
   "cell_type": "code",
   "execution_count": 52,
   "id": "91464179",
   "metadata": {},
   "outputs": [
    {
     "name": "stdout",
     "output_type": "stream",
     "text": [
      "157/157 [==============================] - 1s 2ms/step - loss: 1.4584 - accuracy: 0.5148\n"
     ]
    },
    {
     "data": {
      "text/plain": [
       "[1.4583555459976196, 0.5148000121116638]"
      ]
     },
     "execution_count": 52,
     "metadata": {},
     "output_type": "execute_result"
    }
   ],
   "source": [
    "model = keras.models.load_model(\"my_cifar10_selu_model.h5\")\n",
    "model.evaluate(X_valid_scaled, y_valid)"
   ]
  },
  {
   "cell_type": "code",
   "execution_count": null,
   "id": "82dcf218",
   "metadata": {},
   "outputs": [],
   "source": [
    "# this is even faster but with not much change on the accuracy"
   ]
  },
  {
   "cell_type": "code",
   "execution_count": 97,
   "id": "15aaa838",
   "metadata": {},
   "outputs": [],
   "source": [
    "keras.backend.clear_session()\n",
    "tf.random.set_seed(42)\n",
    "np.random.seed(42)\n",
    "model = keras.models.Sequential()\n",
    "model.add(keras.layers.Flatten(input_shape=[32,32,3]))\n",
    "for o in range(20):\n",
    "    model.add(keras.layers.Dense(100, activation=\"selu\",\n",
    "                                   kernel_initializer=\"lecun_normal\"))\n",
    "model.add(keras.layers.AlphaDropout(rate=0.1))    \n",
    "model.add(keras.layers.Dense(10, activation=\"softmax\"))\n",
    "optimizer = keras.optimizers.Nadam(learning_rate=7e-4)\n",
    "model.compile(loss=\"sparse_categorical_crossentropy\",\n",
    "                optimizer=optimizer,\n",
    "                metrics=[\"accuracy\"])\n",
    "early_stopping_cb = keras.callbacks.EarlyStopping(patience=20)\n",
    "model_checkpoint_cb = keras.callbacks.ModelCheckpoint(\"my_cifar10_alpha_dropout_model.h5\",\n",
    "                                                      save_best_only=True)\n",
    "run_index =1\n",
    "run_logdir = os.path.join(os.curdir, \"my_cifar10_alpha_dropout_logs\",\"run_alpha_dropout_{:03d}\".format(run_index))\n",
    "tensorboard_cb = keras.callbacks.TensorBoard(run_logdir)\n"
   ]
  },
  {
   "cell_type": "code",
   "execution_count": 98,
   "id": "ee01a6db",
   "metadata": {},
   "outputs": [
    {
     "name": "stdout",
     "output_type": "stream",
     "text": [
      "Epoch 1/100\n",
      "1407/1407 [==============================] - 20s 9ms/step - loss: 1.9298 - accuracy: 0.3106 - val_loss: 1.7714 - val_accuracy: 0.3690\n",
      "Epoch 2/100\n",
      "1407/1407 [==============================] - 13s 9ms/step - loss: 1.7137 - accuracy: 0.3914 - val_loss: 1.6765 - val_accuracy: 0.4132\n",
      "Epoch 3/100\n",
      "1407/1407 [==============================] - 13s 9ms/step - loss: 1.6297 - accuracy: 0.4272 - val_loss: 1.6685 - val_accuracy: 0.4030\n",
      "Epoch 4/100\n",
      "1407/1407 [==============================] - 13s 9ms/step - loss: 1.5711 - accuracy: 0.4472 - val_loss: 1.6013 - val_accuracy: 0.4372\n",
      "Epoch 5/100\n",
      "1407/1407 [==============================] - 13s 9ms/step - loss: 1.5198 - accuracy: 0.4678 - val_loss: 1.6205 - val_accuracy: 0.4440\n",
      "Epoch 6/100\n",
      "1407/1407 [==============================] - 13s 9ms/step - loss: 1.4777 - accuracy: 0.4849 - val_loss: 1.5599 - val_accuracy: 0.4708\n",
      "Epoch 7/100\n",
      "1407/1407 [==============================] - 12s 9ms/step - loss: 1.4333 - accuracy: 0.4964 - val_loss: 1.6103 - val_accuracy: 0.4622\n",
      "Epoch 8/100\n",
      "1407/1407 [==============================] - 13s 9ms/step - loss: 1.3968 - accuracy: 0.5120 - val_loss: 1.5113 - val_accuracy: 0.4736\n",
      "Epoch 9/100\n",
      "1407/1407 [==============================] - 12s 9ms/step - loss: 1.3645 - accuracy: 0.5235 - val_loss: 1.5895 - val_accuracy: 0.4674\n",
      "Epoch 10/100\n",
      "1407/1407 [==============================] - 12s 9ms/step - loss: 1.3358 - accuracy: 0.5378 - val_loss: 1.5531 - val_accuracy: 0.4812\n",
      "Epoch 11/100\n",
      "1407/1407 [==============================] - 12s 8ms/step - loss: 1.3077 - accuracy: 0.5476 - val_loss: 1.5818 - val_accuracy: 0.4832\n",
      "Epoch 12/100\n",
      "1407/1407 [==============================] - 12s 9ms/step - loss: 1.2808 - accuracy: 0.5557 - val_loss: 1.5163 - val_accuracy: 0.4898\n",
      "Epoch 13/100\n",
      "1407/1407 [==============================] - 13s 9ms/step - loss: 1.2479 - accuracy: 0.5653 - val_loss: 1.6134 - val_accuracy: 0.4838\n",
      "Epoch 14/100\n",
      "1407/1407 [==============================] - 11s 8ms/step - loss: 1.2328 - accuracy: 0.5729 - val_loss: 1.5753 - val_accuracy: 0.4966\n",
      "Epoch 15/100\n",
      "1407/1407 [==============================] - 13s 9ms/step - loss: 1.2033 - accuracy: 0.5868 - val_loss: 1.5900 - val_accuracy: 0.5012\n",
      "Epoch 16/100\n",
      "1407/1407 [==============================] - 12s 9ms/step - loss: 1.1784 - accuracy: 0.5918 - val_loss: 1.5915 - val_accuracy: 0.4960\n",
      "Epoch 17/100\n",
      "1407/1407 [==============================] - 12s 9ms/step - loss: 1.1547 - accuracy: 0.6004 - val_loss: 1.6125 - val_accuracy: 0.5056\n",
      "Epoch 18/100\n",
      "1407/1407 [==============================] - 12s 9ms/step - loss: 1.1387 - accuracy: 0.6070 - val_loss: 1.6192 - val_accuracy: 0.4942\n",
      "Epoch 19/100\n",
      "1407/1407 [==============================] - 12s 8ms/step - loss: 1.1175 - accuracy: 0.6128 - val_loss: 1.7834 - val_accuracy: 0.5012\n",
      "Epoch 20/100\n",
      "1407/1407 [==============================] - 12s 9ms/step - loss: 1.0950 - accuracy: 0.6216 - val_loss: 1.6061 - val_accuracy: 0.5036\n",
      "Epoch 21/100\n",
      "1407/1407 [==============================] - 13s 9ms/step - loss: 2.0669 - accuracy: 0.4854 - val_loss: 1.6256 - val_accuracy: 0.4734\n",
      "Epoch 22/100\n",
      "1407/1407 [==============================] - 13s 9ms/step - loss: 1.2906 - accuracy: 0.5480 - val_loss: 1.5892 - val_accuracy: 0.4838\n",
      "Epoch 23/100\n",
      "1407/1407 [==============================] - 12s 9ms/step - loss: 1.2059 - accuracy: 0.5818 - val_loss: 1.6185 - val_accuracy: 0.4906\n",
      "Epoch 24/100\n",
      "1407/1407 [==============================] - 13s 9ms/step - loss: 1.1507 - accuracy: 0.5965 - val_loss: 1.6429 - val_accuracy: 0.4978\n",
      "Epoch 25/100\n",
      "1407/1407 [==============================] - 12s 9ms/step - loss: 1.1043 - accuracy: 0.6131 - val_loss: 1.7007 - val_accuracy: 0.4992\n",
      "Epoch 26/100\n",
      "1407/1407 [==============================] - 12s 9ms/step - loss: 1.0706 - accuracy: 0.6261 - val_loss: 1.6602 - val_accuracy: 0.4908\n",
      "Epoch 27/100\n",
      "1407/1407 [==============================] - 13s 9ms/step - loss: 1.0384 - accuracy: 0.6356 - val_loss: 1.6408 - val_accuracy: 0.5068\n",
      "Epoch 28/100\n",
      "1407/1407 [==============================] - 13s 9ms/step - loss: 1.0288 - accuracy: 0.6421 - val_loss: 1.6287 - val_accuracy: 0.4900\n"
     ]
    },
    {
     "data": {
      "text/plain": [
       "<keras.callbacks.History at 0x2d36c6c6190>"
      ]
     },
     "execution_count": 98,
     "metadata": {},
     "output_type": "execute_result"
    }
   ],
   "source": [
    "model.fit(X_train_scaled, y_train, epochs=100,\n",
    "        validation_data=(X_valid_scaled, y_valid),\n",
    "        callbacks=[early_stopping_cb, model_checkpoint_cb, tensorboard_cb])\n"
   ]
  },
  {
   "cell_type": "code",
   "execution_count": 5,
   "id": "63dcc4cc",
   "metadata": {},
   "outputs": [],
   "source": [
    "X_train_scaled = np.zeros_like(X_train, dtype=np.float64)\n",
    "X_valid_scaled= np.zeros_like(X_valid, dtype=np.float64)\n",
    "X_test_scaled = np.zeros_like(X_test, dtype=np.float64)\n",
    "\n",
    "for i in range(3):\n",
    "    # X_trainのスケーリング\n",
    "    channel_data = X_train[:, :, :, i]\n",
    "    channel_mean = np.mean(channel_data)\n",
    "    channel_std = np.std(channel_data)\n",
    "    scaled_channel = (channel_data - channel_mean) / channel_std\n",
    "    X_train_scaled[:, :, :, i] = scaled_channel\n",
    "\n",
    "    # X_validのスケーリング\n",
    "    channel_data = X_valid[:, :, :, i]\n",
    "    scaled_channel = (channel_data - channel_mean) / channel_std\n",
    "    X_valid_scaled[:, :, :, i] = scaled_channel\n",
    "\n",
    "    # X_testのスケーリング\n",
    "    channel_data = X_test[:, :, :, i]\n",
    "    scaled_channel = (channel_data - channel_mean) / channel_std\n",
    "    X_test_scaled[:, :, :, i] = scaled_channel\n"
   ]
  },
  {
   "cell_type": "code",
   "execution_count": 6,
   "id": "485e8931",
   "metadata": {},
   "outputs": [
    {
     "name": "stdout",
     "output_type": "stream",
     "text": [
      "157/157 [==============================] - 2s 13ms/step - loss: 1.5113 - accuracy: 0.4736\n"
     ]
    },
    {
     "data": {
      "text/plain": [
       "[1.5113234519958496, 0.47360000014305115]"
      ]
     },
     "execution_count": 6,
     "metadata": {},
     "output_type": "execute_result"
    }
   ],
   "source": [
    "# slightly better ?\n",
    "model=keras.models.load_model(\"my_cifar10_alpha_dropout_model.h5\")\n",
    "model.evaluate(X_valid_scaled, y_valid)"
   ]
  },
  {
   "cell_type": "code",
   "execution_count": 7,
   "id": "1995714b",
   "metadata": {},
   "outputs": [],
   "source": [
    "# MCAlphaDropout\n",
    "\n",
    "class MCAlphaDropout(keras.layers.AlphaDropout):\n",
    "    def call(self, inputs):\n",
    "        return super().call(inputs, training=True)\n",
    "    \n",
    "mc_model = keras.models.Sequential([\n",
    "    MCAlphaDropout(layer.rate) if isinstance(layer, keras.layers.AlphaDropout) else layer\n",
    "    for layer in model.layers\n",
    "])\n",
    "# もし現在のレイヤーがkeras.layers.AlphaDropoutのインスタンスであれば、\n",
    "# 新しいレイヤーとしてMCAlphaDropout(layer.rate)を追加します。\n",
    "# 上記以外の場合は、元のレイヤーをそのまま追加します。\n",
    "# .rateはMCAlphaDropout"
   ]
  },
  {
   "cell_type": "code",
   "execution_count": 8,
   "id": "81a14dd4",
   "metadata": {},
   "outputs": [],
   "source": [
    "def mc_dropout_predict_probas(mc_model, X, n_samples=10):\n",
    "    Y_probas = [mc_model.predict(X) for sample in range(n_samples)]\n",
    "    return np.mean(Y_probas, axis=0)\n",
    "\n",
    "def mc_dropout_predict_classes(mc_model, X, n_samples=10):\n",
    "    Y_probas = mc_dropout_predict_probas(mc_model, X, n_samples)\n",
    "    return np.argmax(Y_probas, axis=1)"
   ]
  },
  {
   "cell_type": "code",
   "execution_count": 9,
   "id": "744dacb1",
   "metadata": {},
   "outputs": [
    {
     "name": "stdout",
     "output_type": "stream",
     "text": [
      "157/157 [==============================] - 2s 13ms/step\n",
      "157/157 [==============================] - 3s 17ms/step\n",
      "157/157 [==============================] - 2s 11ms/step\n",
      "157/157 [==============================] - 1s 6ms/step\n",
      "157/157 [==============================] - 2s 12ms/step\n",
      "157/157 [==============================] - 2s 14ms/step\n",
      "157/157 [==============================] - 1s 9ms/step\n",
      "157/157 [==============================] - 2s 14ms/step\n",
      "157/157 [==============================] - 2s 10ms/step\n",
      "157/157 [==============================] - 3s 17ms/step\n"
     ]
    },
    {
     "data": {
      "text/plain": [
       "0.4712"
      ]
     },
     "execution_count": 9,
     "metadata": {},
     "output_type": "execute_result"
    }
   ],
   "source": [
    "keras.backend.clear_session()\n",
    "tf.random.set_seed(42)\n",
    "np.random.seed(42)\n",
    "\n",
    "y_pred = mc_dropout_predict_classes(mc_model, X_valid_scaled)\n",
    "accuracy = np.mean(y_pred == y_valid[:, 0])\n",
    "accuracy"
   ]
  },
  {
   "cell_type": "code",
   "execution_count": 14,
   "id": "1206871f",
   "metadata": {},
   "outputs": [],
   "source": [
    "# no accuracy improvement\n",
    "# BatchNormalization model may be the best in this case\n",
    "keras.backend.clear_session()\n",
    "tf.random.set_seed(42)\n",
    "np.random.seed(42)\n",
    "\n",
    "model = keras.models.Sequential()\n",
    "model.add(keras.layers.Flatten(input_shape=[32,32,3]))\n",
    "for o in range(20):\n",
    "    model.add(keras.layers.Dense(100, activation=\"selu\",\n",
    "                                   kernel_initializer=\"lecun_normal\"))\n",
    "model.add(keras.layers.AlphaDropout(rate=0.1))    \n",
    "model.add(keras.layers.Dense(10, activation=\"softmax\"))\n",
    "optimizer = keras.optimizers.SGD(learning_rate=1e-3,)\n",
    "\n",
    "model.compile(loss=\"sparse_categorical_crossentropy\",\n",
    "                optimizer=optimizer,\n",
    "                metrics=[\"accuracy\"])\n"
   ]
  },
  {
   "cell_type": "code",
   "execution_count": 6,
   "id": "cb804252",
   "metadata": {},
   "outputs": [],
   "source": [
    "import math\n",
    "K = keras.backend\n",
    "class ExponentialLearningRate(keras.callbacks.Callback):\n",
    "    def __init__(self, factor):\n",
    "        self.factor = factor\n",
    "        self.rates = []\n",
    "        self.losses = []\n",
    "    def on_batch_end(self, batch, logs):\n",
    "        self.rates.append(K.get_value(self.model.optimizer.learning_rate))\n",
    "        self.losses.append(logs[\"loss\"])\n",
    "        K.set_value(self.model.optimizer.learning_rate, self.model.optimizer.learning_rate * self.factor)\n",
    "\n",
    "def find_learning_rate(model, X, y, epochs=1, batch_size=32, min_rate=10**-5, max_rate=10):\n",
    "    init_weights = model.get_weights()\n",
    "    iterations = math.ceil(len(X) / batch_size) * epochs\n",
    "    factor = np.exp(np.log(max_rate / min_rate) / iterations)\n",
    "    init_lr = K.get_value(model.optimizer.learning_rate)\n",
    "    K.set_value(model.optimizer.learning_rate, min_rate)\n",
    "    exp_lr = ExponentialLearningRate(factor)\n",
    "    history = model.fit(X, y, epochs=epochs, batch_size=batch_size,\n",
    "                        callbacks=[exp_lr])\n",
    "    K.set_value(model.optimizer.learning_rate, init_lr)\n",
    "    model.set_weights(init_weights)\n",
    "    return exp_lr.rates, exp_lr.losses\n",
    "\n",
    "def plot_lr_vs_loss(rates, losses):\n",
    "    plt.plot(rates, losses)\n",
    "    plt.gca().set_xscale('log')\n",
    "    plt.hlines(min(losses), min(rates), max(rates))\n",
    "    plt.axis([min(rates), max(rates), min(losses), (losses[0] + min(losses)) / 2])\n",
    "    plt.xlabel(\"Learning rate\")\n",
    "    plt.ylabel(\"Loss\")"
   ]
  },
  {
   "cell_type": "code",
   "execution_count": 7,
   "id": "183d4547",
   "metadata": {},
   "outputs": [],
   "source": [
    "class OneCycleScheduler(keras.callbacks.Callback):\n",
    "    def __init__(self, iterations, max_rate, start_rate=None,\n",
    "                 last_iterations=None, last_rate=None):\n",
    "        self.iterations = iterations\n",
    "        self.max_rate = max_rate\n",
    "        self.start_rate = start_rate or max_rate / 10\n",
    "        self.last_iterations = last_iterations or iterations // 10 + 1\n",
    "        self.half_iteration = (iterations - self.last_iterations) // 2\n",
    "        self.last_rate = last_rate or self.start_rate / 1000\n",
    "        self.iteration = 0\n",
    "    def _interpolate(self, iter1, iter2, rate1, rate2):\n",
    "        return ((rate2 - rate1) * (self.iteration - iter1)\n",
    "                / (iter2 - iter1) + rate1)\n",
    "    def on_batch_begin(self, batch, logs):\n",
    "        if self.iteration < self.half_iteration:\n",
    "            rate = self._interpolate(0, self.half_iteration, self.start_rate, self.max_rate)\n",
    "        elif self.iteration < 2 * self.half_iteration:\n",
    "            rate = self._interpolate(self.half_iteration, 2 * self.half_iteration,\n",
    "                                     self.max_rate, self.start_rate)\n",
    "        else:\n",
    "            rate = self._interpolate(2 * self.half_iteration, self.iterations,\n",
    "                                     self.start_rate, self.last_rate)\n",
    "        self.iteration += 1\n",
    "        K.set_value(self.model.optimizer.learning_rate, rate)"
   ]
  },
  {
   "cell_type": "code",
   "execution_count": 8,
   "id": "1a422cc6",
   "metadata": {},
   "outputs": [
    {
     "ename": "NameError",
     "evalue": "name 'X_train_scaled' is not defined",
     "output_type": "error",
     "traceback": [
      "\u001b[1;31m---------------------------------------------------------------------------\u001b[0m",
      "\u001b[1;31mNameError\u001b[0m                                 Traceback (most recent call last)",
      "Input \u001b[1;32mIn [8]\u001b[0m, in \u001b[0;36m<cell line: 2>\u001b[1;34m()\u001b[0m\n\u001b[0;32m      1\u001b[0m batch_size \u001b[38;5;241m=\u001b[39m \u001b[38;5;241m128\u001b[39m\n\u001b[1;32m----> 2\u001b[0m rates , losses \u001b[38;5;241m=\u001b[39m find_learning_rate(model, \u001b[43mX_train_scaled\u001b[49m,y_train, epochs\u001b[38;5;241m=\u001b[39m\u001b[38;5;241m1\u001b[39m, batch_size\u001b[38;5;241m=\u001b[39mbatch_size)\n\u001b[0;32m      3\u001b[0m plot_lr_vs_loss(rates, losses)\n\u001b[0;32m      4\u001b[0m plt\u001b[38;5;241m.\u001b[39maxis([\u001b[38;5;28mmin\u001b[39m(rates), \u001b[38;5;28mmax\u001b[39m(rates), \u001b[38;5;28mmin\u001b[39m(losses), (losses[\u001b[38;5;241m0\u001b[39m]\u001b[38;5;241m+\u001b[39m\u001b[38;5;28mmin\u001b[39m(losses))\u001b[38;5;241m/\u001b[39m\u001b[38;5;241m1.4\u001b[39m])\n",
      "\u001b[1;31mNameError\u001b[0m: name 'X_train_scaled' is not defined"
     ]
    }
   ],
   "source": [
    "batch_size = 128\n",
    "rates , losses = find_learning_rate(model, X_train_scaled,y_train, epochs=1, batch_size=batch_size)\n",
    "plot_lr_vs_loss(rates, losses)\n",
    "plt.axis([min(rates), max(rates), min(losses), (losses[0]+min(losses))/1.4])"
   ]
  },
  {
   "cell_type": "code",
   "execution_count": 1,
   "id": "a82e6db1",
   "metadata": {},
   "outputs": [
    {
     "ename": "NameError",
     "evalue": "name 'keras' is not defined",
     "output_type": "error",
     "traceback": [
      "\u001b[1;31m---------------------------------------------------------------------------\u001b[0m",
      "\u001b[1;31mNameError\u001b[0m                                 Traceback (most recent call last)",
      "Input \u001b[1;32mIn [1]\u001b[0m, in \u001b[0;36m<cell line: 1>\u001b[1;34m()\u001b[0m\n\u001b[1;32m----> 1\u001b[0m \u001b[43mkeras\u001b[49m\u001b[38;5;241m.\u001b[39mbackend\u001b[38;5;241m.\u001b[39mclear_session()\n\u001b[0;32m      2\u001b[0m tf\u001b[38;5;241m.\u001b[39mrandom\u001b[38;5;241m.\u001b[39mset_seed(\u001b[38;5;241m42\u001b[39m)\n\u001b[0;32m      3\u001b[0m np\u001b[38;5;241m.\u001b[39mrandom\u001b[38;5;241m.\u001b[39mseed(\u001b[38;5;241m42\u001b[39m)\n",
      "\u001b[1;31mNameError\u001b[0m: name 'keras' is not defined"
     ]
    }
   ],
   "source": [
    "keras.backend.clear_session()\n",
    "tf.random.set_seed(42)\n",
    "np.random.seed(42)\n",
    "\n",
    "model = keras.models.Sequential()\n",
    "model.add(keras.layers.Flatten(input_shape=[32,32,3]))\n",
    "for o in range(20):\n",
    "    model.add(keras.layers.Dense(100, activation=\"selu\",\n",
    "                                   kernel_initializer=\"lecun_normal\"))\n",
    "model.add(keras.layers.AlphaDropout(rate=0.1))    \n",
    "model.add(keras.layers.Dense(10, activation=\"softmax\"))\n",
    "optimizer = keras.optimizers.SGD(learning_rate=0.1,)\n",
    "\n",
    "model.compile(loss=\"sparse_categorical_crossentropy\",\n",
    "                optimizer=optimizer,\n",
    "                metrics=[\"accuracy\"])\n"
   ]
  },
  {
   "cell_type": "code",
   "execution_count": 10,
   "id": "5e1d52ef",
   "metadata": {},
   "outputs": [
    {
     "ename": "NameError",
     "evalue": "name 'X_train' is not defined",
     "output_type": "error",
     "traceback": [
      "\u001b[1;31m---------------------------------------------------------------------------\u001b[0m",
      "\u001b[1;31mNameError\u001b[0m                                 Traceback (most recent call last)",
      "Input \u001b[1;32mIn [10]\u001b[0m, in \u001b[0;36m<cell line: 2>\u001b[1;34m()\u001b[0m\n\u001b[0;32m      1\u001b[0m n_epochs \u001b[38;5;241m=\u001b[39m \u001b[38;5;241m15\u001b[39m\n\u001b[1;32m----> 2\u001b[0m onecycle \u001b[38;5;241m=\u001b[39m OneCycleScheduler(math\u001b[38;5;241m.\u001b[39mceil(\u001b[38;5;28mlen\u001b[39m(\u001b[43mX_train\u001b[49m) \u001b[38;5;241m/\u001b[39m batch_size) \u001b[38;5;241m*\u001b[39m n_epochs, max_rate\u001b[38;5;241m=\u001b[39m\u001b[38;5;241m0.05\u001b[39m)\n\u001b[0;32m      3\u001b[0m history \u001b[38;5;241m=\u001b[39m model\u001b[38;5;241m.\u001b[39mfit(X_train_scaled, y_train, epochs\u001b[38;5;241m=\u001b[39mn_epochs, batch_size\u001b[38;5;241m=\u001b[39mbatch_size,\n\u001b[0;32m      4\u001b[0m                     validation_data\u001b[38;5;241m=\u001b[39m(X_valid_scaled, y_valid),\n\u001b[0;32m      5\u001b[0m                     callbacks\u001b[38;5;241m=\u001b[39m[onecycle])\n",
      "\u001b[1;31mNameError\u001b[0m: name 'X_train' is not defined"
     ]
    }
   ],
   "source": [
    "n_epochs = 15\n",
    "onecycle = OneCycleScheduler(math.ceil(len(X_train_scaled) / batch_size) * n_epochs, max_rate=0.05)\n",
    "history = model.fit(X_train_scaled, y_train, epochs=n_epochs, batch_size=batch_size,\n",
    "                    validation_data=(X_valid_scaled, y_valid),\n",
    "                    callbacks=[onecycle])"
   ]
  },
  {
   "cell_type": "code",
   "execution_count": null,
   "id": "7e5063a5",
   "metadata": {},
   "outputs": [],
   "source": [
    "# 1cycle scheduling enables 15 short iterations training to have a high accuracy"
   ]
  }
 ],
 "metadata": {
  "kernelspec": {
   "display_name": "Python 3 (ipykernel)",
   "language": "python",
   "name": "python3"
  },
  "language_info": {
   "codemirror_mode": {
    "name": "ipython",
    "version": 3
   },
   "file_extension": ".py",
   "mimetype": "text/x-python",
   "name": "python",
   "nbconvert_exporter": "python",
   "pygments_lexer": "ipython3",
   "version": "3.9.12"
  }
 },
 "nbformat": 4,
 "nbformat_minor": 5
}
