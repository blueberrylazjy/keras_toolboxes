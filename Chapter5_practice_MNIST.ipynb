{
 "cells": [
  {
   "cell_type": "code",
   "execution_count": 1,
   "id": "c79b9a1c",
   "metadata": {},
   "outputs": [
    {
     "data": {
      "text/plain": [
       "dict_keys(['data', 'target', 'frame', 'categories', 'feature_names', 'target_names', 'DESCR', 'details', 'url'])"
      ]
     },
     "execution_count": 1,
     "metadata": {},
     "output_type": "execute_result"
    }
   ],
   "source": [
    "from sklearn.datasets import fetch_openml #sklearn to download data\n",
    "mnist = fetch_openml('mnist_784', version=1, as_frame=False)\n",
    "mnist.keys()"
   ]
  },
  {
   "cell_type": "code",
   "execution_count": 2,
   "id": "dab3dabf",
   "metadata": {},
   "outputs": [
    {
     "data": {
      "text/plain": [
       "sklearn.utils.Bunch"
      ]
     },
     "execution_count": 2,
     "metadata": {},
     "output_type": "execute_result"
    }
   ],
   "source": [
    "type(mnist)"
   ]
  },
  {
   "cell_type": "code",
   "execution_count": 3,
   "id": "fa553692",
   "metadata": {},
   "outputs": [
    {
     "name": "stdout",
     "output_type": "stream",
     "text": [
      "(70000, 784)\n",
      "(70000,)\n",
      "<class 'numpy.ndarray'>\n"
     ]
    }
   ],
   "source": [
    "X, y = mnist['data'], mnist['target']\n",
    "print(X.shape)\n",
    "print(y.shape)\n",
    "print(type(X))\n",
    "from sklearn.model_selection import cross_val_score\n"
   ]
  },
  {
   "cell_type": "code",
   "execution_count": 4,
   "id": "7b61682a",
   "metadata": {},
   "outputs": [],
   "source": [
    "from sklearn.model_selection import train_test_split\n",
    "X_train, X_test, y_train,  y_test = train_test_split(X, y, test_size=0.2, random_state=42)\n"
   ]
  },
  {
   "cell_type": "code",
   "execution_count": 5,
   "id": "1a18cfe4",
   "metadata": {},
   "outputs": [],
   "source": [
    "from sklearn.preprocessing import StandardScaler\n",
    "scaler =  StandardScaler()\n",
    "X_train_scaled = scaler.fit_transform(X_train)\n",
    "X_test_scaled = scaler.transform(X_test)"
   ]
  },
  {
   "cell_type": "code",
   "execution_count": 15,
   "id": "f3bfa8b7",
   "metadata": {},
   "outputs": [
    {
     "data": {
      "text/plain": [
       "SVC()"
      ]
     },
     "execution_count": 15,
     "metadata": {},
     "output_type": "execute_result"
    }
   ],
   "source": [
    "from sklearn.svm import SVC\n",
    "from sklearn.multiclass import OneVsRestClassifier\n",
    "\n",
    "svm_clf = OneVsRestClassifier(SVC(gamma=\"scale\"))\n",
    "\n",
    "svm_clf = SVC()\n",
    "svm_clf.fit(X_train_scaled[:4000], y_train[:4000])"
   ]
  },
  {
   "cell_type": "code",
   "execution_count": 16,
   "id": "d57962ac",
   "metadata": {},
   "outputs": [
    {
     "data": {
      "text/plain": [
       "0.9288571428571428"
      ]
     },
     "execution_count": 16,
     "metadata": {},
     "output_type": "execute_result"
    }
   ],
   "source": [
    "from sklearn.metrics import accuracy_score\n",
    "y_pred = svm_clf.predict(X_train_scaled)\n",
    "accuracy_score(y_train, y_pred)"
   ]
  },
  {
   "cell_type": "code",
   "execution_count": 17,
   "id": "d6edd38d",
   "metadata": {},
   "outputs": [
    {
     "name": "stdout",
     "output_type": "stream",
     "text": [
      "Fitting 3 folds for each of 10 candidates, totalling 30 fits\n",
      "[CV] END .....C=4.745401188473625, gamma=0.07969454818643928; total time=   0.4s\n",
      "[CV] END .....C=4.745401188473625, gamma=0.07969454818643928; total time=   0.4s\n",
      "[CV] END .....C=4.745401188473625, gamma=0.07969454818643928; total time=   0.4s\n",
      "[CV] END .....C=8.31993941811405, gamma=0.015751320499779724; total time=   0.4s\n",
      "[CV] END .....C=8.31993941811405, gamma=0.015751320499779724; total time=   0.4s\n",
      "[CV] END .....C=8.31993941811405, gamma=0.015751320499779724; total time=   0.4s\n",
      "[CV] END ....C=2.560186404424365, gamma=0.002051110418843397; total time=   0.3s\n",
      "[CV] END ....C=2.560186404424365, gamma=0.002051110418843397; total time=   0.3s\n",
      "[CV] END ....C=2.560186404424365, gamma=0.002051110418843397; total time=   0.3s\n",
      "[CV] END ....C=1.5808361216819946, gamma=0.05399484409787431; total time=   0.4s\n",
      "[CV] END ....C=1.5808361216819946, gamma=0.05399484409787431; total time=   0.4s\n",
      "[CV] END ....C=1.5808361216819946, gamma=0.05399484409787431; total time=   0.4s\n",
      "[CV] END ....C=7.011150117432088, gamma=0.026070247583707663; total time=   0.4s\n",
      "[CV] END ....C=7.011150117432088, gamma=0.026070247583707663; total time=   0.4s\n",
      "[CV] END ....C=7.011150117432088, gamma=0.026070247583707663; total time=   0.4s\n",
      "[CV] END .....C=1.2058449429580245, gamma=0.0870602087830485; total time=   0.4s\n",
      "[CV] END .....C=1.2058449429580245, gamma=0.0870602087830485; total time=   0.4s\n",
      "[CV] END .....C=1.2058449429580245, gamma=0.0870602087830485; total time=   0.4s\n",
      "[CV] END ...C=9.324426408004218, gamma=0.0026587543983272693; total time=   0.3s\n",
      "[CV] END ...C=9.324426408004218, gamma=0.0026587543983272693; total time=   0.3s\n",
      "[CV] END ...C=9.324426408004218, gamma=0.0026587543983272693; total time=   0.3s\n",
      "[CV] END ...C=2.818249672071006, gamma=0.0023270677083837795; total time=   0.3s\n",
      "[CV] END ...C=2.818249672071006, gamma=0.0023270677083837795; total time=   0.3s\n",
      "[CV] END ...C=2.818249672071006, gamma=0.0023270677083837795; total time=   0.3s\n",
      "[CV] END ....C=4.042422429595377, gamma=0.011207606211860567; total time=   0.4s\n",
      "[CV] END ....C=4.042422429595377, gamma=0.011207606211860567; total time=   0.4s\n",
      "[CV] END ....C=4.042422429595377, gamma=0.011207606211860567; total time=   0.4s\n",
      "[CV] END ....C=5.319450186421157, gamma=0.003823475224675185; total time=   0.4s\n",
      "[CV] END ....C=5.319450186421157, gamma=0.003823475224675185; total time=   0.4s\n",
      "[CV] END ....C=5.319450186421157, gamma=0.003823475224675185; total time=   0.4s\n"
     ]
    },
    {
     "data": {
      "text/plain": [
       "RandomizedSearchCV(cv=3, estimator=SVC(),\n",
       "                   param_distributions={'C': <scipy.stats._distn_infrastructure.rv_frozen object at 0x0000028FA0A24E50>,\n",
       "                                        'gamma': <scipy.stats._distn_infrastructure.rv_frozen object at 0x0000028F9F795AC0>},\n",
       "                   random_state=42, verbose=2)"
      ]
     },
     "execution_count": 17,
     "metadata": {},
     "output_type": "execute_result"
    }
   ],
   "source": [
    "from sklearn.model_selection import RandomizedSearchCV\n",
    "from scipy.stats import reciprocal, uniform\n",
    "\n",
    "param_distributions = {\"gamma\": reciprocal(0.001, 0.1), \"C\": uniform(1, 10)}\n",
    "rnd_search_cv = RandomizedSearchCV(svm_clf, param_distributions, n_iter=10, \n",
    "                                   verbose=2,cv=3, random_state=42)\n",
    "rnd_search_cv.fit(X_train_scaled[:2000], y_train[:2000])"
   ]
  },
  {
   "cell_type": "code",
   "execution_count": 19,
   "id": "4ca9bfc0",
   "metadata": {},
   "outputs": [
    {
     "data": {
      "text/plain": [
       "SVC(C=2.560186404424365, gamma=0.002051110418843397)"
      ]
     },
     "execution_count": 19,
     "metadata": {},
     "output_type": "execute_result"
    }
   ],
   "source": [
    "rnd_search_cv.best_estimator_.fit(X_train_scaled, y_train)"
   ]
  },
  {
   "cell_type": "code",
   "execution_count": 20,
   "id": "c03851e3",
   "metadata": {},
   "outputs": [
    {
     "data": {
      "text/plain": [
       "0.997625"
      ]
     },
     "execution_count": 20,
     "metadata": {},
     "output_type": "execute_result"
    }
   ],
   "source": [
    "y_pred = rnd_search_cv.best_estimator_.predict(X_train_scaled)\n",
    "accuracy_score(y_train, y_pred)"
   ]
  },
  {
   "cell_type": "code",
   "execution_count": 21,
   "id": "62a0d073",
   "metadata": {},
   "outputs": [
    {
     "data": {
      "text/plain": [
       "0.9665714285714285"
      ]
     },
     "execution_count": 21,
     "metadata": {},
     "output_type": "execute_result"
    }
   ],
   "source": [
    "y_pred = rnd_search_cv.best_estimator_.predict(X_test_scaled)\n",
    "accuracy_score(y_test, y_pred)"
   ]
  },
  {
   "cell_type": "code",
   "execution_count": null,
   "id": "db4ddd14",
   "metadata": {},
   "outputs": [],
   "source": []
  }
 ],
 "metadata": {
  "kernelspec": {
   "display_name": "Python 3 (ipykernel)",
   "language": "python",
   "name": "python3"
  },
  "language_info": {
   "codemirror_mode": {
    "name": "ipython",
    "version": 3
   },
   "file_extension": ".py",
   "mimetype": "text/x-python",
   "name": "python",
   "nbconvert_exporter": "python",
   "pygments_lexer": "ipython3",
   "version": "3.9.12"
  }
 },
 "nbformat": 4,
 "nbformat_minor": 5
}
