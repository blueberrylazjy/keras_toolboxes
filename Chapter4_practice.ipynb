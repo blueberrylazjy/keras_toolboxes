{
 "cells": [
  {
   "cell_type": "code",
   "execution_count": 1,
   "id": "339857ed",
   "metadata": {},
   "outputs": [
    {
     "data": {
      "text/plain": [
       "['data',\n",
       " 'target',\n",
       " 'frame',\n",
       " 'target_names',\n",
       " 'DESCR',\n",
       " 'feature_names',\n",
       " 'filename',\n",
       " 'data_module']"
      ]
     },
     "execution_count": 1,
     "metadata": {},
     "output_type": "execute_result"
    }
   ],
   "source": [
    "from sklearn import datasets\n",
    "iris = datasets.load_iris()\n",
    "list(iris.keys())"
   ]
  },
  {
   "cell_type": "code",
   "execution_count": 2,
   "id": "1c27ee93",
   "metadata": {},
   "outputs": [],
   "source": [
    "X =iris[\"data\"][:, (2,3)]\n",
    "y =iris[\"target\"]"
   ]
  },
  {
   "cell_type": "code",
   "execution_count": 5,
   "id": "7381043b",
   "metadata": {},
   "outputs": [],
   "source": [
    "# Add a bias term of 0\n",
    "import numpy as np\n",
    "X_with_bias = np.c_[np.ones([len(X),1]) ,X]\n",
    "np.random.seed(2042)\n",
    "# the easiest option to plit the dataset is to use train_test_split()"
   ]
  },
  {
   "cell_type": "code",
   "execution_count": 6,
   "id": "a61d29eb",
   "metadata": {},
   "outputs": [
    {
     "data": {
      "text/plain": [
       "150"
      ]
     },
     "execution_count": 6,
     "metadata": {},
     "output_type": "execute_result"
    }
   ],
   "source": [
    "test_ratio = 0.2\n",
    "validation_ratio=0.2\n",
    "total_size = len(X_with_bias)\n",
    "total_size"
   ]
  },
  {
   "cell_type": "code",
   "execution_count": 28,
   "id": "7b548676",
   "metadata": {},
   "outputs": [],
   "source": [
    "test_size =int(total_size * test_ratio)\n",
    "validation_size = int(total_size * validation_ratio)\n",
    "train_size = total_size - test_size - validation_size\n",
    "rnd_indices = np.random.permutation(total_size)\n",
    "X_train = X_with_bias[rnd_indices[:train_size]]\n",
    "y_train =y[rnd_indices[:train_size]]\n",
    "X_valid= X_with_bias[rnd_indices[train_size:-test_size]]\n",
    "y_valid=y[rnd_indices[train_size:-test_size]]\n",
    "X_test=X_with_bias[rnd_indices[-test_size:]]\n",
    "y_test =y[rnd_indices[-test_size:]]"
   ]
  },
  {
   "cell_type": "code",
   "execution_count": 29,
   "id": "47b08fed",
   "metadata": {},
   "outputs": [
    {
     "data": {
      "text/plain": [
       "array([120,   2, 119,  76,  16, 107, 110,  84, 140,  29, 134,  96,  34,\n",
       "       127,  19,  70, 116,  47,  12,  28, 106,  95, 113, 103, 114,  50,\n",
       "        39, 131,  40,  65, 123,  67,  35,  93,  36,  41, 136, 102,  78,\n",
       "        66,  26,  71,  54,  89,  48,  18,  94,  79, 109,  52,  58,  44,\n",
       "        68, 138,  81,  72,  83,  59, 128,   6, 145,  56,  87, 147,  90,\n",
       "        15,  43,   0,  57,  91, 125,  22,  20, 143,  80, 108,   1, 118,\n",
       "       142,  88,   9, 115,  46,  73,  64,  42,   4,  63, 149, 139])"
      ]
     },
     "execution_count": 29,
     "metadata": {},
     "output_type": "execute_result"
    }
   ],
   "source": [
    "rnd_indices[:train_size]"
   ]
  },
  {
   "cell_type": "code",
   "execution_count": 30,
   "id": "6f343a3f",
   "metadata": {},
   "outputs": [
    {
     "data": {
      "text/plain": [
       "array([[1. , 5.7, 2.3],\n",
       "       [1. , 1.3, 0.2],\n",
       "       [1. , 5. , 1.5],\n",
       "       [1. , 4.8, 1.4],\n",
       "       [1. , 1.3, 0.4],\n",
       "       [1. , 6.3, 1.8],\n",
       "       [1. , 5.1, 2. ],\n",
       "       [1. , 4.5, 1.5],\n",
       "       [1. , 5.6, 2.4],\n",
       "       [1. , 1.6, 0.2],\n",
       "       [1. , 5.6, 1.4],\n",
       "       [1. , 4.2, 1.3],\n",
       "       [1. , 1.5, 0.2],\n",
       "       [1. , 4.9, 1.8],\n",
       "       [1. , 1.5, 0.3],\n",
       "       [1. , 4.8, 1.8],\n",
       "       [1. , 5.5, 1.8],\n",
       "       [1. , 1.4, 0.2],\n",
       "       [1. , 1.4, 0.1],\n",
       "       [1. , 1.4, 0.2],\n",
       "       [1. , 4.5, 1.7],\n",
       "       [1. , 4.2, 1.2],\n",
       "       [1. , 5. , 2. ],\n",
       "       [1. , 5.6, 1.8],\n",
       "       [1. , 5.1, 2.4],\n",
       "       [1. , 4.7, 1.4],\n",
       "       [1. , 1.5, 0.2],\n",
       "       [1. , 6.4, 2. ],\n",
       "       [1. , 1.3, 0.3],\n",
       "       [1. , 4.4, 1.4],\n",
       "       [1. , 4.9, 1.8],\n",
       "       [1. , 4.1, 1. ],\n",
       "       [1. , 1.2, 0.2],\n",
       "       [1. , 3.3, 1. ],\n",
       "       [1. , 1.3, 0.2],\n",
       "       [1. , 1.3, 0.3],\n",
       "       [1. , 5.6, 2.4],\n",
       "       [1. , 5.9, 2.1],\n",
       "       [1. , 4.5, 1.5],\n",
       "       [1. , 4.5, 1.5],\n",
       "       [1. , 1.6, 0.4],\n",
       "       [1. , 4. , 1.3],\n",
       "       [1. , 4.6, 1.5],\n",
       "       [1. , 4. , 1.3],\n",
       "       [1. , 1.5, 0.2],\n",
       "       [1. , 1.7, 0.3],\n",
       "       [1. , 4.2, 1.3],\n",
       "       [1. , 3.5, 1. ],\n",
       "       [1. , 6.1, 2.5],\n",
       "       [1. , 4.9, 1.5],\n",
       "       [1. , 4.6, 1.3],\n",
       "       [1. , 1.9, 0.4],\n",
       "       [1. , 4.5, 1.5],\n",
       "       [1. , 4.8, 1.8],\n",
       "       [1. , 3.7, 1. ],\n",
       "       [1. , 4.9, 1.5],\n",
       "       [1. , 5.1, 1.6],\n",
       "       [1. , 3.9, 1.4],\n",
       "       [1. , 5.6, 2.1],\n",
       "       [1. , 1.4, 0.3],\n",
       "       [1. , 5.2, 2.3],\n",
       "       [1. , 4.7, 1.6],\n",
       "       [1. , 4.4, 1.3],\n",
       "       [1. , 5.2, 2. ],\n",
       "       [1. , 4.4, 1.2],\n",
       "       [1. , 1.5, 0.4],\n",
       "       [1. , 1.6, 0.6],\n",
       "       [1. , 1.4, 0.2],\n",
       "       [1. , 3.3, 1. ],\n",
       "       [1. , 4.6, 1.4],\n",
       "       [1. , 6. , 1.8],\n",
       "       [1. , 1. , 0.2],\n",
       "       [1. , 1.7, 0.2],\n",
       "       [1. , 5.9, 2.3],\n",
       "       [1. , 3.8, 1.1],\n",
       "       [1. , 5.8, 1.8],\n",
       "       [1. , 1.4, 0.2],\n",
       "       [1. , 6.9, 2.3],\n",
       "       [1. , 5.1, 1.9],\n",
       "       [1. , 4.1, 1.3],\n",
       "       [1. , 1.5, 0.1],\n",
       "       [1. , 5.3, 2.3],\n",
       "       [1. , 1.6, 0.2],\n",
       "       [1. , 4.7, 1.2],\n",
       "       [1. , 3.6, 1.3],\n",
       "       [1. , 1.3, 0.2],\n",
       "       [1. , 1.4, 0.2],\n",
       "       [1. , 4.7, 1.4],\n",
       "       [1. , 5.1, 1.8],\n",
       "       [1. , 5.4, 2.1]])"
      ]
     },
     "execution_count": 30,
     "metadata": {},
     "output_type": "execute_result"
    }
   ],
   "source": [
    " X_with_bias[rnd_indices[:train_size]]"
   ]
  },
  {
   "cell_type": "code",
   "execution_count": 31,
   "id": "f5c55668",
   "metadata": {},
   "outputs": [
    {
     "data": {
      "text/plain": [
       "array([[1. , 3.9, 1.2]])"
      ]
     },
     "execution_count": 31,
     "metadata": {},
     "output_type": "execute_result"
    }
   ],
   "source": [
    "X_with_bias[[82]]"
   ]
  },
  {
   "cell_type": "code",
   "execution_count": 32,
   "id": "7eedfa10",
   "metadata": {},
   "outputs": [
    {
     "data": {
      "text/plain": [
       "array([1. , 3.9, 1.2])"
      ]
     },
     "execution_count": 32,
     "metadata": {},
     "output_type": "execute_result"
    }
   ],
   "source": [
    "X_with_bias[82]"
   ]
  },
  {
   "cell_type": "code",
   "execution_count": 33,
   "id": "bf5900b2",
   "metadata": {},
   "outputs": [
    {
     "data": {
      "text/plain": [
       "array([2, 0, 2, 1, 0, 2, 2, 1, 2, 0])"
      ]
     },
     "execution_count": 33,
     "metadata": {},
     "output_type": "execute_result"
    }
   ],
   "source": [
    "y_train[:10]"
   ]
  },
  {
   "cell_type": "code",
   "execution_count": 34,
   "id": "213f6ffa",
   "metadata": {},
   "outputs": [],
   "source": [
    "def to_one_hot(y):\n",
    "    n_classes = y.max()+1\n",
    "    m=len(y)\n",
    "    Y_one_hot = np.zeros((m, n_classes))\n",
    "    for i in range(len(Y_one_hot)):\n",
    "        Y_one_hot[i][y[i]] =1\n",
    "    return Y_one_hot\n",
    "\n",
    "# np.arange()は、NumPyの関数であり、指定された範囲内の連続した数値を生成するために\n",
    "# 使用されます。arange()関数は、NumPy配列を返すことが特徴です。\n",
    "\n",
    "# result = np.arange(start, stop, step)"
   ]
  },
  {
   "cell_type": "code",
   "execution_count": 35,
   "id": "8926f088",
   "metadata": {},
   "outputs": [
    {
     "data": {
      "text/plain": [
       "array([[0., 0., 1.],\n",
       "       [1., 0., 0.],\n",
       "       [0., 0., 1.],\n",
       "       [0., 1., 0.],\n",
       "       [1., 0., 0.],\n",
       "       [0., 0., 1.],\n",
       "       [0., 0., 1.],\n",
       "       [0., 1., 0.],\n",
       "       [0., 0., 1.],\n",
       "       [1., 0., 0.]])"
      ]
     },
     "execution_count": 35,
     "metadata": {},
     "output_type": "execute_result"
    }
   ],
   "source": [
    "to_one_hot(y_train[:10])"
   ]
  },
  {
   "cell_type": "code",
   "execution_count": 36,
   "id": "fd8d2033",
   "metadata": {},
   "outputs": [],
   "source": [
    "Y_train_one_hot = to_one_hot(y_train)\n",
    "Y_valid_one_hot = to_one_hot(y_valid)\n",
    "Y_test_one_hot = to_one_hot(y_test)"
   ]
  },
  {
   "cell_type": "code",
   "execution_count": 37,
   "id": "33e2a9c2",
   "metadata": {},
   "outputs": [],
   "source": [
    "def softmax(logits):\n",
    "    exps = np.exp(logits)\n",
    "    exp_sums = np.sum(exps, axis=1, keepdims=True)\n",
    "    return exps / exp_sums"
   ]
  },
  {
   "cell_type": "code",
   "execution_count": 43,
   "id": "4ed6730b",
   "metadata": {},
   "outputs": [],
   "source": [
    "n_inputs=X_train.shape[1] # X_train.shape[1]は列数\n",
    "                          # ==3(2 features plus the bias term)\n",
    "n_outputs = len(np.unique(y_train)) # 3"
   ]
  },
  {
   "cell_type": "code",
   "execution_count": 44,
   "id": "5e7cebec",
   "metadata": {},
   "outputs": [
    {
     "name": "stdout",
     "output_type": "stream",
     "text": [
      "0 5.232127732364492\n",
      "500 0.8986833239311411\n",
      "1000 0.738160715236837\n",
      "1500 0.6384628920514254\n",
      "2000 0.5729553890260786\n",
      "2500 0.5267835577984198\n",
      "3000 0.4922230567877599\n",
      "3500 0.4651170151306498\n",
      "4000 0.44308694532156867\n",
      "4500 0.42468491988272\n",
      "5000 0.4089796731297377\n"
     ]
    }
   ],
   "source": [
    "eta = 0.01\n",
    "n_iterations = 5001\n",
    "m = len(X_train)\n",
    "epsilon = 1e-7\n",
    "Theta = np.random.randn(n_inputs, n_outputs)\n",
    "for iteration in range(n_iterations):\n",
    "    logits = X_train.dot(Theta)\n",
    "    Y_proba = softmax(logits)\n",
    "    if iteration % 500 ==0:\n",
    "        loss = -np.mean(np.sum(Y_train_one_hot*np.log(Y_proba +epsilon), axis=1))\n",
    "        print(iteration, loss)\n",
    "    error = Y_proba - Y_train_one_hot\n",
    "    gradients = 1/m * X_train.T.dot(error)\n",
    "    Theta = Theta- eta*gradients"
   ]
  },
  {
   "cell_type": "code",
   "execution_count": 45,
   "id": "50e44729",
   "metadata": {},
   "outputs": [
    {
     "data": {
      "text/plain": [
       "array([[ 2.81833579, -0.71115381, -3.00717776],\n",
       "       [ 0.2511653 ,  1.32961885,  1.092314  ],\n",
       "       [-0.60841165,  0.52144937,  2.66497185]])"
      ]
     },
     "execution_count": 45,
     "metadata": {},
     "output_type": "execute_result"
    }
   ],
   "source": [
    "Theta"
   ]
  },
  {
   "cell_type": "code",
   "execution_count": 46,
   "id": "cee3a0a1",
   "metadata": {},
   "outputs": [
    {
     "data": {
      "text/plain": [
       "0.9333333333333333"
      ]
     },
     "execution_count": 46,
     "metadata": {},
     "output_type": "execute_result"
    }
   ],
   "source": [
    "logits = X_valid.dot(Theta)\n",
    "Y_proba = softmax(logits)\n",
    "y_predict = np.argmax(Y_proba, axis=1)\n",
    "\n",
    "accuracy_score = np.mean(y_predict ==y_valid)\n",
    "accuracy_score"
   ]
  },
  {
   "cell_type": "code",
   "execution_count": 47,
   "id": "42f0aa0b",
   "metadata": {},
   "outputs": [
    {
     "name": "stdout",
     "output_type": "stream",
     "text": [
      "0 1.7610762700300087\n",
      "500 0.39333764464136645\n",
      "1000 0.31570618041247883\n",
      "1500 0.2749057642001612\n",
      "2000 0.24787047357749528\n",
      "2500 0.22813098483769553\n",
      "3000 0.21291539090911735\n",
      "3500 0.200760974582152\n",
      "4000 0.19079662548017037\n",
      "4500 0.18246176313863458\n",
      "5000 0.1753757420515651\n"
     ]
    }
   ],
   "source": [
    "eta = 0.1\n",
    "n_iterations = 5001\n",
    "m = len(X_train)\n",
    "epsilon = 1e-7\n",
    "Theta = np.random.randn(n_inputs, n_outputs)\n",
    "for iteration in range(n_iterations):\n",
    "    logits = X_train.dot(Theta)\n",
    "    Y_proba = softmax(logits)\n",
    "    if iteration % 500 ==0:\n",
    "        loss = -np.mean(np.sum(Y_train_one_hot*np.log(Y_proba +epsilon), axis=1))\n",
    "        print(iteration, loss)\n",
    "    error = Y_proba - Y_train_one_hot\n",
    "    gradients = 1/m * X_train.T.dot(error)\n",
    "    Theta = Theta- eta*gradients"
   ]
  },
  {
   "cell_type": "code",
   "execution_count": 48,
   "id": "70c4daf6",
   "metadata": {},
   "outputs": [
    {
     "data": {
      "text/plain": [
       "0.9666666666666667"
      ]
     },
     "execution_count": 48,
     "metadata": {},
     "output_type": "execute_result"
    }
   ],
   "source": [
    "logits = X_valid.dot(Theta)\n",
    "Y_proba = softmax(logits)\n",
    "y_predict = np.argmax(Y_proba, axis=1)\n",
    "\n",
    "accuracy_score = np.mean(y_predict ==y_valid)\n",
    "accuracy_score"
   ]
  },
  {
   "cell_type": "code",
   "execution_count": 110,
   "id": "c5e72a38",
   "metadata": {},
   "outputs": [
    {
     "name": "stdout",
     "output_type": "stream",
     "text": [
      "[[-0.33751742  0.13883167 -0.31404524]\n",
      " [ 0.29729539  0.36572442  0.49421412]\n",
      " [-0.20365984  0.35618789  0.09861329]]\n",
      "0 0.9726054360208511\n",
      "98 0.778602408412568\n",
      "109 0.7799044632154428 early stopping\n"
     ]
    }
   ],
   "source": [
    "# Add early stopping\n",
    "\n",
    "eta = 0.1\n",
    "n_iterations = 5001\n",
    "m = len(X_train)\n",
    "epsilon = 1e-7\n",
    "alpha = 0.1 #regulartization hyperparameter\n",
    "best_loss = np.infty #無限大\n",
    "Theta = np.random.randn(n_inputs, n_outputs)\n",
    "print(Theta)\n",
    "check = 0\n",
    "\n",
    "for iteration in range(n_iterations):\n",
    "    logits = X_train.dot(Theta)\n",
    "    Y_proba = softmax(logits)\n",
    "    error = Y_proba - Y_train_one_hot\n",
    "    gradients =  1/m * X_train.T.dot(error)+np.r_[np.zeros([1, n_outputs]), alpha * Theta[1:]] #行方向で結合\n",
    "    Theta = Theta- eta*gradients\n",
    "    \n",
    "    logits = X_valid.dot(Theta)\n",
    "    Y_proba = softmax(logits)\n",
    "    xentropy_loss = -np.mean(np.sum(Y_valid_one_hot*np.log(Y_proba +epsilon), axis=1))\n",
    "    l2_loss = 1/2 *np.sum(np.square(Theta[:1]))\n",
    "    loss = xentropy_loss +alpha *l2_loss\n",
    "    if iteration % 500 ==0:\n",
    "        print(iteration, loss)\n",
    "    if loss<best_loss:\n",
    "        best_loss = loss\n",
    "        check= 0\n",
    "    else:\n",
    "        check += 1\n",
    "        if check >10 :\n",
    "            print(iteration-check, best_loss)\n",
    "            print(iteration, loss, \"early stopping\")\n",
    "            break\n",
    "        else:\n",
    "            pass\n",
    "            \n",
    "\n",
    "    \n",
    "    "
   ]
  },
  {
   "cell_type": "code",
   "execution_count": 111,
   "id": "b81e1b34",
   "metadata": {},
   "outputs": [
    {
     "data": {
      "text/plain": [
       "0.9"
      ]
     },
     "execution_count": 111,
     "metadata": {},
     "output_type": "execute_result"
    }
   ],
   "source": [
    "logits = X_valid.dot(Theta)\n",
    "Y_proba = softmax(logits)\n",
    "y_predict = np.argmax(Y_proba, axis=1)\n",
    "\n",
    "accuracy_score = np.mean(y_predict == y_valid)\n",
    "accuracy_score"
   ]
  },
  {
   "cell_type": "code",
   "execution_count": 112,
   "id": "2976fab3",
   "metadata": {},
   "outputs": [
    {
     "data": {
      "image/png": "[encoded data removed]",
      "text/plain": [
       "<Figure size 720x288 with 1 Axes>"
      ]
     },
     "metadata": {
      "needs_background": "light"
     },
     "output_type": "display_data"
    }
   ],
   "source": [
    "import matplotlib.pyplot as plt\n",
    "x0, x1 = np.meshgrid(\n",
    "        np.linspace(0, 8, 500).reshape(-1, 1),\n",
    "        np.linspace(0, 3.5, 200).reshape(-1, 1),\n",
    "    )\n",
    "X_new = np.c_[x0.ravel(), x1.ravel()]\n",
    "X_new_with_bias = np.c_[np.ones([len(X_new), 1]), X_new]\n",
    "\n",
    "logits = X_new_with_bias.dot(Theta)\n",
    "Y_proba = softmax(logits)\n",
    "y_predict = np.argmax(Y_proba, axis=1)\n",
    "\n",
    "zz1 = Y_proba[:, 1].reshape(x0.shape)\n",
    "zz = y_predict.reshape(x0.shape)\n",
    "\n",
    "plt.figure(figsize=(10, 4))\n",
    "plt.plot(X[y==2, 0], X[y==2, 1], \"g^\", label=\"Iris virginica\")\n",
    "plt.plot(X[y==1, 0], X[y==1, 1], \"bs\", label=\"Iris versicolor\")\n",
    "plt.plot(X[y==0, 0], X[y==0, 1], \"yo\", label=\"Iris setosa\")\n",
    "\n",
    "from matplotlib.colors import ListedColormap\n",
    "custom_cmap = ListedColormap(['#fafab0','#9898ff','#a0faa0'])\n",
    "\n",
    "plt.contourf(x0, x1, zz, cmap=custom_cmap)\n",
    "contour = plt.contour(x0, x1, zz1, cmap=plt.cm.brg)\n",
    "plt.clabel(contour, inline=1, fontsize=12)\n",
    "plt.xlabel(\"Petal length\", fontsize=14)\n",
    "plt.ylabel(\"Petal width\", fontsize=14)\n",
    "plt.legend(loc=\"upper left\", fontsize=14)\n",
    "plt.axis([0, 7, 0, 3.5])\n",
    "plt.show()"
   ]
  },
  {
   "cell_type": "code",
   "execution_count": null,
   "id": "f0162567",
   "metadata": {},
   "outputs": [],
   "source": []
  }
 ],
 "metadata": {
  "kernelspec": {
   "display_name": "Python 3 (ipykernel)",
   "language": "python",
   "name": "python3"
  },
  "language_info": {
   "codemirror_mode": {
    "name": "ipython",
    "version": 3
   },
   "file_extension": ".py",
   "mimetype": "text/x-python",
   "name": "python",
   "nbconvert_exporter": "python",
   "pygments_lexer": "ipython3",
   "version": "3.9.12"
  }
 },
 "nbformat": 4,
 "nbformat_minor": 5
}
