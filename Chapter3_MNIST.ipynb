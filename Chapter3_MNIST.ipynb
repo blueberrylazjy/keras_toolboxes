{
 "cells": [
  {
   "cell_type": "code",
   "execution_count": 145,
   "id": "155d5706",
   "metadata": {},
   "outputs": [
    {
     "data": {
      "text/plain": [
       "dict_keys(['data', 'target', 'frame', 'categories', 'feature_names', 'target_names', 'DESCR', 'details', 'url'])"
      ]
     },
     "execution_count": 145,
     "metadata": {},
     "output_type": "execute_result"
    }
   ],
   "source": [
    "from sklearn.datasets import fetch_openml #sklearn to download data\n",
    "mnist = fetch_openml('mnist_784', version=1, as_frame=False)\n",
    "mnist.keys()\n",
    "#  Warning: since Scikit-Learn 0.24, fetch_openml() returns a Pandas \n",
    "#  DataFrame by default. To avoid this and keep the same code as in the book, \n",
    "#  we use as_frame=False.\n",
    "\n",
    "#   dataset = fetch_openml (name=  'データセットの名前またはID' ) \n",
    "#   data = dataset.data  # 特徴量データ\n",
    "#   target = dataset.target  # ターゲット変数データ\n",
    "#   feature_names = dataset.feature_names  # 特徴量の名前\n",
    "#   target_names = dataset.target_names  # ターゲット変数の名前"
   ]
  },
  {
   "cell_type": "code",
   "execution_count": 146,
   "id": "0610fea0",
   "metadata": {},
   "outputs": [],
   "source": [
    "#   Datasets loaded by Scikit-Learn generally have a similar dictionary structure,\n",
    "#  including the following:\n",
    "#  A DESCR key describing the dataset\n",
    "#  A data key containing an array with one row per instance and one\n",
    "#  column per feature\n",
    "#  A target key containing an array with the labels"
   ]
  },
  {
   "cell_type": "code",
   "execution_count": 147,
   "id": "7071dc32",
   "metadata": {},
   "outputs": [
    {
     "data": {
      "text/plain": [
       "sklearn.utils.Bunch"
      ]
     },
     "execution_count": 147,
     "metadata": {},
     "output_type": "execute_result"
    }
   ],
   "source": [
    "type(mnist)"
   ]
  },
  {
   "cell_type": "code",
   "execution_count": 148,
   "id": "303c4036",
   "metadata": {},
   "outputs": [
    {
     "name": "stdout",
     "output_type": "stream",
     "text": [
      "(70000, 784)\n",
      "(70000,)\n",
      "<class 'numpy.ndarray'>\n"
     ]
    }
   ],
   "source": [
    "# look at these array\n",
    "X, y = mnist['data'], mnist['target']\n",
    "print(X.shape)\n",
    "print(y.shape)\n",
    "print(type(X))\n",
    "# 784 is because of these pics are 28*28"
   ]
  },
  {
   "cell_type": "code",
   "execution_count": 166,
   "id": "7b10afae",
   "metadata": {},
   "outputs": [
    {
     "name": "stdout",
     "output_type": "stream",
     "text": [
      "<class 'numpy.ndarray'>\n",
      "<class 'numpy.ndarray'>\n"
     ]
    },
    {
     "data": {
      "image/png": "[encoded data removed]",
      "text/plain": [
       "<Figure size 432x288 with 1 Axes>"
      ]
     },
     "metadata": {
      "needs_background": "light"
     },
     "output_type": "display_data"
    }
   ],
   "source": [
    "import matplotlib.pyplot as plt\n",
    "import matplotlib as mpl\n",
    "\n",
    "X = mnist['data']\n",
    "print(type(X))\n",
    "some_digit = X[0]\n",
    "print(type(some_digit))\n",
    "some_digit_image = some_digit.reshape(28, 28)\n",
    "plt.imshow(some_digit_image, cmap=\"binary\")\n",
    "plt.axis(\"off\")\n",
    "plt.show()\n",
    "\n",
    "# reshape to 28 * 28 list"
   ]
  },
  {
   "cell_type": "code",
   "execution_count": 150,
   "id": "47122fcd",
   "metadata": {},
   "outputs": [
    {
     "data": {
      "text/plain": [
       "'5'"
      ]
     },
     "execution_count": 150,
     "metadata": {},
     "output_type": "execute_result"
    }
   ],
   "source": [
    "y[0]"
   ]
  },
  {
   "cell_type": "code",
   "execution_count": 151,
   "id": "07384e62",
   "metadata": {},
   "outputs": [
    {
     "name": "stdout",
     "output_type": "stream",
     "text": [
      "5\n"
     ]
    }
   ],
   "source": [
    "# the label is string so we convert it to int\n",
    "import numpy as np\n",
    "y = y.astype(np.uint8)\n",
    "print(y[0])"
   ]
  },
  {
   "cell_type": "code",
   "execution_count": 152,
   "id": "88794799",
   "metadata": {},
   "outputs": [
    {
     "data": {
      "text/plain": [
       "array([ True])"
      ]
     },
     "execution_count": 152,
     "metadata": {},
     "output_type": "execute_result"
    }
   ],
   "source": [
    "X_train, X_test, y_train, y_test = X[:60000], X[60000:],y[:60000],y[60000:]\n",
    "# mnist is already shuffled\n",
    "y_train_5 = (y_train == 5) # True for all 5s, False for all other digits\n",
    "y_test_5 =(y_test ==5)\n",
    "from sklearn.linear_model import SGDClassifier\n",
    "sgd_clf = SGDClassifier(random_state = 42)\n",
    "#  The SGDClassifier relies on randomness during training (hence the name\n",
    "#  “stochastic”). If you want reproducible results, you should set the \n",
    "#   random_state parameter.\n",
    "\n",
    "sgd_clf.fit(X_train, y_train_5)\n",
    "sgd_clf.predict([some_digit])"
   ]
  },
  {
   "cell_type": "code",
   "execution_count": 9,
   "id": "404a1231",
   "metadata": {},
   "outputs": [],
   "source": [
    "# one way for elvaluation\n",
    "# from sklearn.model_selection import StratifiedKFold\n",
    "# from sklearn.base import clone\n",
    "\n",
    "# skfolds = StratifiedKFold(n_splits=3, random_state=42, shuffle =True)\n",
    "# for train_index, test_index in skfolds.split(X_train, y_train_5):\n",
    "#     clone_clf = clone(sgd_clf)\n",
    "#     X_train_folds = X_train[train_index]\n",
    "#     y_train_folds = y_train_5[train_index]\n",
    "#     X_test_fold = X_train[test_index]\n",
    "#     y_test_fold = y_train_5[test_index]\n",
    "    \n",
    "#     clone_clf.fit(X_train_folds, y_train_folds)\n",
    "#     y_pred = clone_clf.predict(X_test_fold)\n",
    "#     n_correct = sum(y_pred==y_test_fold)\n",
    "#     print(n_correct/len(y_pred))\n",
    "    "
   ]
  },
  {
   "cell_type": "code",
   "execution_count": 10,
   "id": "1b0ca44a",
   "metadata": {},
   "outputs": [
    {
     "data": {
      "text/plain": [
       "array([0.95035, 0.96035, 0.9604 ])"
      ]
     },
     "execution_count": 10,
     "metadata": {},
     "output_type": "execute_result"
    }
   ],
   "source": [
    "# try cross-validation\n",
    "from sklearn.model_selection import cross_val_score\n",
    "\n",
    "cross_val_score(sgd_clf, X_train, y_train_5, cv=3, scoring=\"accuracy\")"
   ]
  },
  {
   "cell_type": "code",
   "execution_count": 11,
   "id": "c1de07c7",
   "metadata": {},
   "outputs": [
    {
     "data": {
      "text/plain": [
       "array([0.91125, 0.90855, 0.90915])"
      ]
     },
     "execution_count": 11,
     "metadata": {},
     "output_type": "execute_result"
    }
   ],
   "source": [
    "from sklearn.base import BaseEstimator\n",
    "class Never5Classifier(BaseEstimator):\n",
    "    def fit(self, X, y=None):\n",
    "        pass\n",
    "    def predict(self, X):\n",
    "        return np.zeros((len(X),1), dtype=bool)\n",
    "never_5_clf = Never5Classifier()\n",
    "cross_val_score(never_5_clf, X_train, y_train_5, cv=3, scoring=\"accuracy\")\n",
    "\n",
    "# found that accuracy is not a nice measure for classifiers"
   ]
  },
  {
   "cell_type": "code",
   "execution_count": 12,
   "id": "d5dc46d6",
   "metadata": {},
   "outputs": [
    {
     "data": {
      "text/plain": [
       "array([[53892,   687],\n",
       "       [ 1891,  3530]], dtype=int64)"
      ]
     },
     "execution_count": 12,
     "metadata": {},
     "output_type": "execute_result"
    }
   ],
   "source": [
    "from sklearn.model_selection import cross_val_predict\n",
    "from sklearn.metrics import confusion_matrix\n",
    "y_train_pred = cross_val_predict(sgd_clf, X_train, y_train_5, cv=3)\n",
    "# instead, this returns predictions made on each test fold\n",
    "confusion_matrix(y_train_5, y_train_pred)\n",
    "# 53892 correctly classified as non 5\n",
    "# 687 wrongly classified as 5\n",
    "# negative class\n",
    "\n",
    "# 1891 wrongly classified as non 5\n",
    "# 3530 were correctly classified as 5\n",
    "# positive class"
   ]
  },
  {
   "cell_type": "code",
   "execution_count": 13,
   "id": "8a6f3d8f",
   "metadata": {},
   "outputs": [
    {
     "data": {
      "text/plain": [
       "array([[54579,     0],\n",
       "       [    0,  5421]], dtype=int64)"
      ]
     },
     "execution_count": 13,
     "metadata": {},
     "output_type": "execute_result"
    }
   ],
   "source": [
    "y_train_perfect_predictions = y_train_5\n",
    "confusion_matrix(y_train_5, y_train_perfect_predictions)"
   ]
  },
  {
   "cell_type": "code",
   "execution_count": 14,
   "id": "0184ad5c",
   "metadata": {},
   "outputs": [
    {
     "data": {
      "text/plain": [
       "0.8370879772350012"
      ]
     },
     "execution_count": 14,
     "metadata": {},
     "output_type": "execute_result"
    }
   ],
   "source": [
    "from sklearn.metrics import precision_score, recall_score\n",
    "precision_score(y_train_5, y_train_pred) #  correct rate ( 3530/ (3530 + 687 ) )\n",
    "# 83.71% to be correct when it claims a image to be representing 5"
   ]
  },
  {
   "cell_type": "code",
   "execution_count": 15,
   "id": "00171f6c",
   "metadata": {},
   "outputs": [
    {
     "data": {
      "text/plain": [
       "0.6511713705958311"
      ]
     },
     "execution_count": 15,
     "metadata": {},
     "output_type": "execute_result"
    }
   ],
   "source": [
    "recall_score(y_train_5, y_train_pred) #  correct rate ( 3530/ (3530 +1981 ) )\n",
    "# 65.1%   5 to be  detected "
   ]
  },
  {
   "cell_type": "code",
   "execution_count": 16,
   "id": "a26119c7",
   "metadata": {},
   "outputs": [
    {
     "data": {
      "text/plain": [
       "0.7325171197343846"
      ]
     },
     "execution_count": 16,
     "metadata": {},
     "output_type": "execute_result"
    }
   ],
   "source": [
    "# a harmonic mean of the two rate is F1 score\n",
    "from sklearn.metrics import f1_score\n",
    "f1_score(y_train_5, y_train_pred)\n",
    "# precision/recall trade-off  \n",
    "# which means to choose to have a high recall score or precision score on \n",
    "# different cases"
   ]
  },
  {
   "cell_type": "code",
   "execution_count": 17,
   "id": "cfa7f314",
   "metadata": {},
   "outputs": [
    {
     "data": {
      "text/plain": [
       "array([2164.22030239])"
      ]
     },
     "execution_count": 17,
     "metadata": {},
     "output_type": "execute_result"
    }
   ],
   "source": [
    "y_scores = sgd_clf.decision_function([some_digit])\n",
    "y_scores"
   ]
  },
  {
   "cell_type": "code",
   "execution_count": 18,
   "id": "1a9f5d40",
   "metadata": {},
   "outputs": [
    {
     "data": {
      "text/plain": [
       "array([ True])"
      ]
     },
     "execution_count": 18,
     "metadata": {},
     "output_type": "execute_result"
    }
   ],
   "source": [
    "threshold = 0\n",
    "y_some_digit_pred = (y_scores > threshold)\n",
    "y_some_digit_pred"
   ]
  },
  {
   "cell_type": "code",
   "execution_count": 19,
   "id": "ef22ce2e",
   "metadata": {},
   "outputs": [
    {
     "data": {
      "text/plain": [
       "array([False])"
      ]
     },
     "execution_count": 19,
     "metadata": {},
     "output_type": "execute_result"
    }
   ],
   "source": [
    "threshold = 8000\n",
    "y_some_digit_pred = (y_scores > threshold)\n",
    "y_some_digit_pred\n",
    "# raising the threshold decreases recall"
   ]
  },
  {
   "cell_type": "code",
   "execution_count": 20,
   "id": "bb1888ee",
   "metadata": {},
   "outputs": [
    {
     "data": {
      "image/png": "[encoded data removed]",
      "text/plain": [
       "<Figure size 432x288 with 1 Axes>"
      ]
     },
     "metadata": {
      "needs_background": "light"
     },
     "output_type": "display_data"
    }
   ],
   "source": [
    "# to confirm which number to use for threshold\n",
    "y_scores = cross_val_predict(sgd_clf, X_train, y_train_5, cv=3, method=\"decision_function\")\n",
    "\n",
    "from sklearn.metrics import precision_recall_curve\n",
    "precisions, recalls, thresholds = precision_recall_curve(y_train_5,y_scores)\n",
    "\n",
    "def plot_precision_recall_vs_threshold(precisions, recalls, thresholds):\n",
    "    plt.plot(thresholds, precisions[:-1], \"b--\", label=\"Precision\")\n",
    "    plt.plot(thresholds, recalls[:-1], \"g-\", label=\"Recall\")\n",
    "plot_precision_recall_vs_threshold(precisions, recalls, thresholds)\n",
    "plt.show()"
   ]
  },
  {
   "cell_type": "code",
   "execution_count": 21,
   "id": "5f0da97e",
   "metadata": {},
   "outputs": [
    {
     "data": {
      "text/plain": [
       "[<matplotlib.lines.Line2D at 0x2a91bf694c0>]"
      ]
     },
     "execution_count": 21,
     "metadata": {},
     "output_type": "execute_result"
    },
    {
     "data": {
      "image/png": "[encoded data removed]",
      "text/plain": [
       "<Figure size 432x288 with 1 Axes>"
      ]
     },
     "metadata": {
      "needs_background": "light"
     },
     "output_type": "display_data"
    }
   ],
   "source": [
    "# another way to selec precision/recall trade-off\n",
    "fig, ax = plt.subplots()\n",
    "ax.set_xlabel(\"Recall\")\n",
    "\n",
    "# y 軸のラベルを設定する。\n",
    "ax.set_ylabel(\"Precision\")\n",
    "\n",
    "# タイトルを設定する。\n",
    "ax.set_title(\"Precision versus recall\")\n",
    "ax.plot(recalls, precisions)"
   ]
  },
  {
   "cell_type": "code",
   "execution_count": 22,
   "id": "d1d83e15",
   "metadata": {},
   "outputs": [
    {
     "name": "stdout",
     "output_type": "stream",
     "text": [
      "3370.0194991439557\n"
     ]
    },
    {
     "data": {
      "text/plain": [
       "0.4799852425751706"
      ]
     },
     "execution_count": 22,
     "metadata": {},
     "output_type": "execute_result"
    }
   ],
   "source": [
    "# choose an aimed precision \n",
    "threshold_90_precision = thresholds[np.argmax(precisions >= 0.9)]\n",
    "print(threshold_90_precision)\n",
    "y_train_pred_90 = (y_scores >= threshold_90_precision)\n",
    "precision_score(y_train_5, y_train_pred_90)\n",
    "recall_score(y_train_5, y_train_pred_90)"
   ]
  },
  {
   "cell_type": "code",
   "execution_count": 23,
   "id": "5d4c7e5a",
   "metadata": {},
   "outputs": [],
   "source": [
    "from sklearn.metrics import roc_curve\n",
    "fpr, tpr, thresholds = roc_curve(y_train_5, y_scores)\n",
    "\n",
    "#   The FPR is the ratio of negative instances that are incorrectly \n",
    "#   classified as positive"
   ]
  },
  {
   "cell_type": "code",
   "execution_count": 24,
   "id": "2f889cba",
   "metadata": {},
   "outputs": [
    {
     "data": {
      "text/plain": [
       "[<matplotlib.lines.Line2D at 0x2a91befb820>]"
      ]
     },
     "execution_count": 24,
     "metadata": {},
     "output_type": "execute_result"
    },
    {
     "data": {
      "image/png": "[encoded data removed]",
      "text/plain": [
       "<Figure size 432x288 with 1 Axes>"
      ]
     },
     "metadata": {
      "needs_background": "light"
     },
     "output_type": "display_data"
    }
   ],
   "source": [
    "fig, ax = plt.subplots()\n",
    "ax.set_xlabel(\"False Positive Rate (FPR)\")\n",
    "\n",
    "# y 軸のラベルを設定する。\n",
    "ax.set_ylabel(\"True Positive Rate (Recall)\")\n",
    "\n",
    "# タイトルを設定する。\n",
    "ax.set_title(\"ROC curve\")\n",
    "ax.plot(fpr, tpr)"
   ]
  },
  {
   "cell_type": "code",
   "execution_count": 25,
   "id": "3ba901cf",
   "metadata": {},
   "outputs": [
    {
     "data": {
      "text/plain": [
       "0.9604938554008616"
      ]
     },
     "execution_count": 25,
     "metadata": {},
     "output_type": "execute_result"
    }
   ],
   "source": [
    "from sklearn.metrics import roc_auc_score\n",
    "roc_auc_score(y_train_5, y_scores) \n",
    "# nice model gives a number close to 1 while bad ones give 0.5"
   ]
  },
  {
   "cell_type": "code",
   "execution_count": 26,
   "id": "5caa3f4d",
   "metadata": {},
   "outputs": [
    {
     "data": {
      "image/png": "[encoded data removed]",
      "text/plain": [
       "<Figure size 432x288 with 1 Axes>"
      ]
     },
     "metadata": {
      "needs_background": "light"
     },
     "output_type": "display_data"
    }
   ],
   "source": [
    "def plot_roc_curve(fpr, tpr ,label=None):\n",
    "    plt.plot(fpr , tpr, linewidth=2, label=label)\n",
    "    plt.plot([0,1],[0,1], 'k--') #Dashed diagonal\n",
    "    plt.xlabel ('False Positive Rate (FPR)')\n",
    "    plt.ylabel (\"True Positive Rate (Recall)\")\n",
    "    [...]\n",
    "plot_roc_curve(fpr, tpr)\n",
    "plt.show()"
   ]
  },
  {
   "cell_type": "code",
   "execution_count": 27,
   "id": "553f9c0b",
   "metadata": {},
   "outputs": [
    {
     "data": {
      "image/png": "[encoded data removed]",
      "text/plain": [
       "<Figure size 432x288 with 1 Axes>"
      ]
     },
     "metadata": {
      "needs_background": "light"
     },
     "output_type": "display_data"
    }
   ],
   "source": [
    "# train a RandomForestClassifier to compare\n",
    "from sklearn.ensemble import RandomForestClassifier\n",
    "\n",
    "forest_clf = RandomForestClassifier(random_state = 42)\n",
    "y_probas_forest = cross_val_predict(forest_clf, X_train, y_train_5, cv=3, method =\"predict_proba\")\n",
    "y_scores_forest = y_probas_forest[:, 1] #score = proba of positive class\n",
    "                                    # [:, 1] は全ての行の列値が１の値をarrayとして返す\n",
    "fpr_forest, tpr_forest, thresholds_forest = roc_curve(y_train_5, y_scores_forest)\n",
    "plt.plot(fpr, tpr, \"b:\", label=\"SGD\")\n",
    "plot_roc_curve(fpr_forest, tpr_forest, \"Random Forest\")\n",
    "plt.legend(loc=\"lower right\")\n",
    "plt.show()\n",
    "# Random Forest is definitely better"
   ]
  },
  {
   "cell_type": "code",
   "execution_count": 28,
   "id": "25baea1d",
   "metadata": {},
   "outputs": [
    {
     "data": {
      "text/plain": [
       "0.9983436731328145"
      ]
     },
     "execution_count": 28,
     "metadata": {},
     "output_type": "execute_result"
    }
   ],
   "source": [
    "roc_auc_score(y_train_5, y_scores_forest)"
   ]
  },
  {
   "cell_type": "code",
   "execution_count": 29,
   "id": "bc66cac2",
   "metadata": {},
   "outputs": [
    {
     "name": "stdout",
     "output_type": "stream",
     "text": [
      "0.9905083315756169\n",
      "0.8662608374838591\n",
      "0.9242275142688446\n"
     ]
    }
   ],
   "source": [
    "# measure the precision and recall scores\n",
    "y_train_pred_forest = cross_val_predict(forest_clf, X_train, y_train_5, cv=3)\n",
    "print(precision_score(y_train_5, y_train_pred_forest))\n",
    "print(recall_score(y_train_5, y_train_pred_forest))\n",
    "print(f1_score(y_train_5, y_train_pred_forest))\n",
    "\n",
    "# found that almost all scores are also better"
   ]
  },
  {
   "cell_type": "code",
   "execution_count": 30,
   "id": "e4851ec2",
   "metadata": {},
   "outputs": [
    {
     "data": {
      "text/plain": [
       "array([5], dtype=uint8)"
      ]
     },
     "execution_count": 30,
     "metadata": {},
     "output_type": "execute_result"
    }
   ],
   "source": [
    "# (text P146)\n",
    "# use Scikit-learn library to choose between OvR or OvO to train the classifier we need\n",
    "from sklearn.svm import SVC\n",
    "svm_clf =SVC()\n",
    "svm_clf.fit(X_train, y_train) #y_train, not y_train_5\n",
    "svm_clf.predict([some_digit])"
   ]
  },
  {
   "cell_type": "code",
   "execution_count": 31,
   "id": "5de10966",
   "metadata": {},
   "outputs": [
    {
     "data": {
      "text/plain": [
       "array([[ 1.72501977,  2.72809088,  7.2510018 ,  8.3076379 , -0.31087254,\n",
       "         9.3132482 ,  1.70975103,  2.76765202,  6.23049537,  4.84771048]])"
      ]
     },
     "execution_count": 31,
     "metadata": {},
     "output_type": "execute_result"
    }
   ],
   "source": [
    "some_digit_scores = svm_clf.decision_function([some_digit])\n",
    "some_digit_scores\n",
    "# decision_function returns 10 scores per instance"
   ]
  },
  {
   "cell_type": "code",
   "execution_count": 32,
   "id": "d5b791f7",
   "metadata": {},
   "outputs": [
    {
     "name": "stdout",
     "output_type": "stream",
     "text": [
      "5\n",
      "5\n"
     ]
    },
    {
     "data": {
      "text/plain": [
       "array([0, 1, 2, 3, 4, 5, 6, 7, 8, 9], dtype=uint8)"
      ]
     },
     "execution_count": 32,
     "metadata": {},
     "output_type": "execute_result"
    }
   ],
   "source": [
    "print(np.argmax(some_digit_scores))\n",
    "print(svm_clf.classes_[5])\n",
    "svm_clf.classes_\n",
    "#  When a classifier is trained, it stores the list of target classes in its classes_\n",
    "#  attribute, ordered by value. In this case, the index of each class in the classes_\n",
    "#  array conveniently matches the class itself (e.g., the class at index 5 happens to be\n",
    "#  class 5), but in general you won’t be so lucky.\n"
   ]
  },
  {
   "cell_type": "code",
   "execution_count": 33,
   "id": "d0bef17d",
   "metadata": {},
   "outputs": [
    {
     "data": {
      "text/plain": [
       "array([5], dtype=uint8)"
      ]
     },
     "execution_count": 33,
     "metadata": {},
     "output_type": "execute_result"
    }
   ],
   "source": [
    "# to for the Scikit-Learn to use OvR or OvO\n",
    "from sklearn.multiclass import OneVsRestClassifier #OvR forced\n",
    "ovr_clf = OneVsRestClassifier(SVC())\n",
    "ovr_clf.fit(X_train, y_train)\n",
    "ovr_clf.predict([some_digit])\n"
   ]
  },
  {
   "cell_type": "code",
   "execution_count": 34,
   "id": "3a4ba687",
   "metadata": {},
   "outputs": [
    {
     "data": {
      "text/plain": [
       "10"
      ]
     },
     "execution_count": 34,
     "metadata": {},
     "output_type": "execute_result"
    }
   ],
   "source": [
    "len(ovr_clf.estimators_)"
   ]
  },
  {
   "cell_type": "code",
   "execution_count": 35,
   "id": "e2503ce5",
   "metadata": {},
   "outputs": [
    {
     "data": {
      "text/plain": [
       "array([3], dtype=uint8)"
      ]
     },
     "execution_count": 35,
     "metadata": {},
     "output_type": "execute_result"
    }
   ],
   "source": [
    "# train a model with SGD or RandomForest\n",
    "sgd_clf.fit(X_train, y_train)\n",
    "sgd_clf.predict([some_digit])"
   ]
  },
  {
   "cell_type": "code",
   "execution_count": 36,
   "id": "0a498b3e",
   "metadata": {},
   "outputs": [
    {
     "data": {
      "text/plain": [
       "array([[-31893.03095419, -34419.69069632,  -9530.63950739,\n",
       "          1823.73154031, -22320.14822878,  -1385.80478895,\n",
       "        -26188.91070951, -16147.51323997,  -4604.35491274,\n",
       "        -12050.767298  ]])"
      ]
     },
     "execution_count": 36,
     "metadata": {},
     "output_type": "execute_result"
    }
   ],
   "source": [
    "sgd_clf.decision_function([some_digit])"
   ]
  },
  {
   "cell_type": "code",
   "execution_count": 37,
   "id": "82062164",
   "metadata": {},
   "outputs": [
    {
     "data": {
      "text/plain": [
       "array([0.87365, 0.85835, 0.8689 ])"
      ]
     },
     "execution_count": 37,
     "metadata": {},
     "output_type": "execute_result"
    }
   ],
   "source": [
    "cross_val_score(sgd_clf, X_train, y_train, cv=3, scoring=\"accuracy\")\n",
    "# quite a good score for all classifiers"
   ]
  },
  {
   "cell_type": "code",
   "execution_count": 38,
   "id": "a01e3176",
   "metadata": {},
   "outputs": [
    {
     "data": {
      "text/plain": [
       "array([0.8983, 0.891 , 0.9018])"
      ]
     },
     "execution_count": 38,
     "metadata": {},
     "output_type": "execute_result"
    }
   ],
   "source": [
    "#lift up the accuracy by scaling the inputs\n",
    "# データをStandardScaler で標準化\n",
    "from sklearn.preprocessing import StandardScaler\n",
    "scaler = StandardScaler()\n",
    "X_train_scaled = scaler.fit_transform(X_train.astype(np.float64))\n",
    "cross_val_score(sgd_clf, X_train_scaled, y_train, cv=3, scoring=\"accuracy\")"
   ]
  },
  {
   "cell_type": "code",
   "execution_count": 39,
   "id": "81435d08",
   "metadata": {},
   "outputs": [
    {
     "data": {
      "text/plain": [
       "array([[5577,    0,   22,    5,    8,   43,   36,    6,  225,    1],\n",
       "       [   0, 6400,   37,   24,    4,   44,    4,    7,  212,   10],\n",
       "       [  27,   27, 5220,   92,   73,   27,   67,   36,  378,   11],\n",
       "       [  22,   17,  117, 5227,    2,  203,   27,   40,  403,   73],\n",
       "       [  12,   14,   41,    9, 5182,   12,   34,   27,  347,  164],\n",
       "       [  27,   15,   30,  168,   53, 4444,   75,   14,  535,   60],\n",
       "       [  30,   15,   42,    3,   44,   97, 5552,    3,  131,    1],\n",
       "       [  21,   10,   51,   30,   49,   12,    3, 5684,  195,  210],\n",
       "       [  17,   63,   48,   86,    3,  126,   25,   10, 5429,   44],\n",
       "       [  25,   18,   30,   64,  118,   36,    1,  179,  371, 5107]],\n",
       "      dtype=int64)"
      ]
     },
     "execution_count": 39,
     "metadata": {},
     "output_type": "execute_result"
    }
   ],
   "source": [
    "# Error Analysis\n",
    "y_train_pred = cross_val_predict(sgd_clf, X_train_scaled, y_train, cv=3)\n",
    "conf_mx = confusion_matrix(y_train, y_train_pred)\n",
    "conf_mx"
   ]
  },
  {
   "cell_type": "code",
   "execution_count": 40,
   "id": "64365375",
   "metadata": {},
   "outputs": [
    {
     "data": {
      "image/png": "[encoded data removed]",
      "text/plain": [
       "<Figure size 288x288 with 1 Axes>"
      ]
     },
     "metadata": {
      "needs_background": "light"
     },
     "output_type": "display_data"
    }
   ],
   "source": [
    "plt.matshow(conf_mx, cmap=plt.cm.gray)\n",
    "plt.show()\n",
    "# most images are on the main diagonal"
   ]
  },
  {
   "cell_type": "code",
   "execution_count": 41,
   "id": "f251f13d",
   "metadata": {},
   "outputs": [
    {
     "data": {
      "text/plain": [
       "array([[5923],\n",
       "       [6742],\n",
       "       [5958],\n",
       "       [6131],\n",
       "       [5842],\n",
       "       [5421],\n",
       "       [5918],\n",
       "       [6265],\n",
       "       [5851],\n",
       "       [5949]], dtype=int64)"
      ]
     },
     "execution_count": 41,
     "metadata": {},
     "output_type": "execute_result"
    }
   ],
   "source": [
    "row_sums = conf_mx.sum(axis=1, keepdims=True)\n",
    "row_sums #列ごとの和を取る"
   ]
  },
  {
   "cell_type": "code",
   "execution_count": 42,
   "id": "7c3329d0",
   "metadata": {},
   "outputs": [
    {
     "data": {
      "image/png": "[encoded data removed]",
      "text/plain": [
       "<Figure size 288x288 with 1 Axes>"
      ]
     },
     "metadata": {
      "needs_background": "light"
     },
     "output_type": "display_data"
    }
   ],
   "source": [
    "norm_conf_mx = conf_mx / row_sums #列ごとの割合をとる\n",
    "# fill the diagonal with zeros to keep only the erros\n",
    "np.fill_diagonal(norm_conf_mx, 0)\n",
    "plt.matshow(norm_conf_mx, cmap=plt.cm.gray)\n",
    "plt.show()\n",
    "# a lot are misclassified as 8 (column)\n",
    "# while actual 8 get properly classified as 8 (row)\n",
    "# 3 and 5 are both confused a lot with each other (3,5),(5,3) are both quite bright\n"
   ]
  },
  {
   "cell_type": "code",
   "execution_count": 43,
   "id": "64a5807d",
   "metadata": {},
   "outputs": [],
   "source": [
    "# EXTRA\n",
    "def plot_digits(instances, images_per_row, **options):\n",
    "    size = 28\n",
    "    images_per_row = min(len(instances), images_per_row)\n",
    "    # This is equivalent to n_rows = ceil(len(instances) / images_per_row):\n",
    "    n_rows = (len(instances) - 1) // images_per_row + 1\n",
    "\n",
    "    # Append empty images to fill the end of the grid, if needed:\n",
    "    n_empty = n_rows * images_per_row - len(instances)\n",
    "    padded_instances = np.concatenate([instances, np.zeros((n_empty, size * size))], axis=0)\n",
    "\n",
    "    # Reshape the array so it's organized as a grid containing 28×28 images:\n",
    "    image_grid = padded_instances.reshape((n_rows, images_per_row, size, size))\n",
    "\n",
    "    # Combine axes 0 and 2 (vertical image grid axis, and vertical image axis),\n",
    "    # and axes 1 and 3 (horizontal axes). We first need to move the axes that we\n",
    "    # want to combine next to each other, using transpose(), and only then we\n",
    "    # can reshape:\n",
    "    big_image = image_grid.transpose(0, 2, 1, 3).reshape(n_rows * size,\n",
    "                                                         images_per_row * size)\n",
    "    # Now that we have a big image, we just need to show it:\n",
    "    plt.imshow(big_image, cmap = mpl.cm.binary, **options)\n",
    "    plt.axis(\"off\")"
   ]
  },
  {
   "cell_type": "code",
   "execution_count": 44,
   "id": "de45872c",
   "metadata": {},
   "outputs": [
    {
     "data": {
      "image/png": "[encoded data removed]",
      "text/plain": [
       "<Figure size 576x576 with 4 Axes>"
      ]
     },
     "metadata": {
      "needs_background": "light"
     },
     "output_type": "display_data"
    }
   ],
   "source": [
    "# analyzing individual errors\n",
    "cl_a, cl_b = 3, 5\n",
    "X_aa = X_train[(y_train == cl_a) & (y_train_pred == cl_a)]\n",
    "X_ab = X_train[(y_train == cl_a) & (y_train_pred == cl_b)]\n",
    "X_ba = X_train[(y_train == cl_b) & (y_train_pred == cl_a)]\n",
    "X_bb = X_train[(y_train == cl_b) & (y_train_pred == cl_b)]\n",
    "\n",
    "plt.figure(figsize=(8,8))\n",
    "plt.subplot(221); plot_digits(X_aa[:25], images_per_row=5)\n",
    "plt.subplot(222); plot_digits(X_ab[:25], images_per_row=5)\n",
    "plt.subplot(223); plot_digits(X_ba[:25], images_per_row=5)\n",
    "plt.subplot(224); plot_digits(X_bb[:25], images_per_row=5)\n",
    "plt.show()\n",
    "#  plt.subplot(221)は、行数2、列数2のサブプロットのうち、\n",
    "#  1番目のサブプロットを指定しています。行数と列数はそれぞれ2であるため、\n",
    "#  合計で4つのサブプロットがあります。\n",
    "# 3 and 5 differs just by a little number of pixels so SGDClassifier doesnt work well"
   ]
  },
  {
   "cell_type": "code",
   "execution_count": 45,
   "id": "16990745",
   "metadata": {},
   "outputs": [
    {
     "data": {
      "text/plain": [
       "KNeighborsClassifier()"
      ]
     },
     "execution_count": 45,
     "metadata": {},
     "output_type": "execute_result"
    }
   ],
   "source": [
    "# make a multilabel classification\n",
    "\n",
    "from sklearn.neighbors import KNeighborsClassifier\n",
    "\n",
    "y_train_large = (y_train >= 7)\n",
    "y_train_odd=(y_train %2 ==1) #奇数を取り出す\n",
    "y_multilabel = np.c_[y_train_large, y_train_odd] #np.c_は異なる次元の配列を結合する関数\n",
    "\n",
    "knn_clf =KNeighborsClassifier()\n",
    "knn_clf.fit(X_train, y_multilabel)"
   ]
  },
  {
   "cell_type": "code",
   "execution_count": 46,
   "id": "6028f76e",
   "metadata": {},
   "outputs": [
    {
     "data": {
      "text/plain": [
       "array([[False,  True]])"
      ]
     },
     "execution_count": 46,
     "metadata": {},
     "output_type": "execute_result"
    }
   ],
   "source": [
    "knn_clf.predict([some_digit])"
   ]
  },
  {
   "cell_type": "code",
   "execution_count": 47,
   "id": "bbcff8c5",
   "metadata": {},
   "outputs": [
    {
     "data": {
      "text/plain": [
       "0.9778357403921755"
      ]
     },
     "execution_count": 47,
     "metadata": {},
     "output_type": "execute_result"
    }
   ],
   "source": [
    "y_train_knn_pred = cross_val_predict(knn_clf, X_train, y_multilabel, cv=3)\n",
    "f1_score(y_multilabel, y_train_knn_pred, average = 'weighted')"
   ]
  },
  {
   "cell_type": "code",
   "execution_count": 48,
   "id": "6a635aa7",
   "metadata": {},
   "outputs": [
    {
     "data": {
      "text/plain": [
       "60000"
      ]
     },
     "execution_count": 48,
     "metadata": {},
     "output_type": "execute_result"
    }
   ],
   "source": [
    "len(X_train)"
   ]
  },
  {
   "cell_type": "code",
   "execution_count": 49,
   "id": "c01fc28a",
   "metadata": {},
   "outputs": [],
   "source": [
    "# add some noise to the pixels\n",
    "noise = np.random.randint(0 ,100, (len(X_train), 784))\n",
    "X_train_mod = X_train + noise\n",
    "noise = np.random.randint(0, 100, (len(X_test), 784))\n",
    "X_test_mod = X_test + noise\n",
    "y_train_mod = X_train\n",
    "y_test_mod = X_test\n",
    "#  numpy.random.randint(low, high=None, size=None, dtype=int)\n",
    "\n",
    "#  low（必須）: 生成される整数の最小値（含む）。\n",
    "\n",
    "#   high（オプション）: 生成される整数の最大値（排他的）。highは省略可能で、\n",
    "#   省略された場合はlow以上の範囲でランダムな整数が生成されます。\n",
    "\n",
    "#   size（オプション）: 生成するランダムな整数の形状を指定するタプルまたは整数。\n",
    "#   例えば、size=(3, 2)とすると3行2列の2次元配列が生成されます。sizeは省略可能で、\n",
    "#   単一の整数を指定すると1次元の配列が生成されます。\n",
    "\n",
    "#   dtype（オプション）: 生成される整数のデータ型を指定します。デフォルトはintです。"
   ]
  },
  {
   "cell_type": "code",
   "execution_count": 50,
   "id": "a4dd7f8b",
   "metadata": {},
   "outputs": [
    {
     "data": {
      "image/png": "[encoded data removed]",
      "text/plain": [
       "<Figure size 576x576 with 2 Axes>"
      ]
     },
     "metadata": {
      "needs_background": "light"
     },
     "output_type": "display_data"
    }
   ],
   "source": [
    "plt.figure(figsize=(8,8))\n",
    "some_index = 0\n",
    "plt.subplot(121); plt.imshow(X_train_mod[0].reshape(28, 28), cmap=\"binary\")\n",
    "plt.subplot(122); plt.imshow(X_train[0].reshape(28, 28), cmap=\"binary\")\n",
    "plt.show()\n"
   ]
  },
  {
   "cell_type": "code",
   "execution_count": 74,
   "id": "6b426cfe",
   "metadata": {},
   "outputs": [
    {
     "data": {
      "image/png": "[encoded data removed]",
      "text/plain": [
       "<Figure size 432x288 with 1 Axes>"
      ]
     },
     "metadata": {
      "needs_background": "light"
     },
     "output_type": "display_data"
    }
   ],
   "source": [
    "knn_clf.fit(X_train_mod, y_train_mod) # y_train_mod = X_train so that the \n",
    "                                      # prediction outputs cleaned pic\n",
    "clean_digit = knn_clf.predict([X_test_mod[some_index]])\n",
    "plot_digits(clean_digit, images_per_row=1)"
   ]
  },
  {
   "cell_type": "code",
   "execution_count": null,
   "id": "275899cf",
   "metadata": {},
   "outputs": [],
   "source": [
    "y_knn_pred = knn_clf.predict(X_test)\n",
    "from sklearn.metrics import accuracy_score\n",
    "accuracy_score(y_test, y_knn_pred)"
   ]
  },
  {
   "cell_type": "code",
   "execution_count": 62,
   "id": "c09280b1",
   "metadata": {},
   "outputs": [
    {
     "data": {
      "image/png": "[encoded data removed]",
      "text/plain": [
       "<Figure size 432x288 with 1 Axes>"
      ]
     },
     "metadata": {
      "needs_background": "light"
     },
     "output_type": "display_data"
    }
   ],
   "source": [
    "from scipy.ndimage.interpolation import shift\n",
    "#  shift関数をインポートしています。\n",
    "#  この関数は、画像のシフト操作を行うために使用されます。\n",
    "\n",
    "\n",
    "def shift_digit(digit_array, dx, dy, new=0):\n",
    "    return shift(digit_array.reshape(28, 28), [dy, dx], cval=new).reshape(784)\n",
    "\n",
    "#  shift_digitという関数が定義されています。この関数は、\n",
    "#  digit_arrayという入力画像データを受け取り、指定したdxとdyの値に基づいて画像をシフトします。\n",
    "\n",
    "# digit_arrayは28x28の形状を持つ画像データであり、reshape(28, 28)によってこの形状に変形されます。\n",
    "# shift関数は、変形された画像データと[dy, dx]の値を受け取り、指定した方向に画像をシフトします。\n",
    "# cval=newは、シフトされた画像の空いた領域を指定した新しい値newで埋めるためのパラメータです。\n",
    "\n",
    "shifted_digit = [shift_digit(some_digit, 5, 1, new=100)]\n",
    "plot_digits(shifted_digit, images_per_row=1)\n",
    "# some_digitのサンプルを出力する、dy=1, dx=5なので右５　下１\n"
   ]
  },
  {
   "cell_type": "code",
   "execution_count": 97,
   "id": "061c051a",
   "metadata": {},
   "outputs": [
    {
     "data": {
      "text/plain": [
       "(60000, 784)"
      ]
     },
     "execution_count": 97,
     "metadata": {},
     "output_type": "execute_result"
    }
   ],
   "source": [
    "shifted_k = np.apply_along_axis(shift_digit, axis=1, arr=X_train, dx=1, dy=1)\n",
    "shifted_k.shape"
   ]
  },
  {
   "cell_type": "code",
   "execution_count": 104,
   "id": "95b44980",
   "metadata": {},
   "outputs": [
    {
     "name": "stdout",
     "output_type": "stream",
     "text": [
      "784\n"
     ]
    }
   ],
   "source": [
    "#  train a shifted list\n",
    "X_train_expanded = [X_train]\n",
    "y_train_expanded = [y_train]\n",
    "#  2つのリストを作成し、それぞれ最初の要素としてX_trainとy_trainを格納しています。\n",
    "#  これは、元のデータセットを拡張したデータを格納するためのリストです。\n",
    "\n",
    "#  最初の反復: dx = 1, dy = 0\n",
    "#  2番目の反復: dx = -1, dy = 0\n",
    "#  3番目の反復: dx = 0, dy = 1\n",
    "#  4番目の反復: dx = 0, dy = -1\n",
    "\n",
    "for dx, dy in ((1, 0), (-1, 0), (0, 1), (0, -1)):\n",
    "    shifted_images = np.apply_along_axis(shift_digit, axis=1, arr=X_train, dx=dx, dy=dy)\n",
    "    X_train_expanded.append(shifted_images)\n",
    "    y_train_expanded.append(y_train)\n",
    "# つの方向に対してシフト操作を行います。\n",
    "# dxとdyはそれぞれx方向とy方向のシフト量を表す変数です。\n",
    "\n",
    " # print(len(X_train_expanded))   dx, dxそれぞれに対して2回、+最初の１　＝５\n",
    "    \n",
    "#  numpy.apply_along_axis()関数は、\n",
    "#  指定した軸に沿って関数を適用するための便利な機能を提供します。この関数は、\n",
    "#  NumPyの多次元配列に対して要素ごとの操作を行う際に使用されます。\n",
    "# numpy.apply_along_axis(func1d, axis, arr, *args, **kwargs)\n",
    "# arr: 処理を行う多次元配列。\n",
    "print(len(X_train_expanded[1][1]))\n",
    "X_train_expanded = np.concatenate(X_train_expanded)\n",
    "y_train_expanded = np.concatenate(y_train_expanded)\n",
    "\n",
    "\n",
    "#  X_train_expandedとy_train_expandedのリスト内の配列を結合し、\n",
    "#  1つの大きな配列にします。これにより、拡張されたデータセットが作成されます。\n"
   ]
  },
  {
   "cell_type": "code",
   "execution_count": 99,
   "id": "bb0597d1",
   "metadata": {},
   "outputs": [
    {
     "data": {
      "text/plain": [
       "(300000, 784)"
      ]
     },
     "execution_count": 99,
     "metadata": {},
     "output_type": "execute_result"
    }
   ],
   "source": [
    "X_train_expanded.shape"
   ]
  },
  {
   "cell_type": "code",
   "execution_count": 80,
   "id": "2ce11ee8",
   "metadata": {},
   "outputs": [
    {
     "data": {
      "text/plain": [
       "(300000,)"
      ]
     },
     "execution_count": 80,
     "metadata": {},
     "output_type": "execute_result"
    }
   ],
   "source": [
    "y_train_expanded.shape"
   ]
  },
  {
   "cell_type": "code",
   "execution_count": 106,
   "id": "1575b13c",
   "metadata": {},
   "outputs": [
    {
     "data": {
      "text/plain": [
       "(784,)"
      ]
     },
     "execution_count": 106,
     "metadata": {},
     "output_type": "execute_result"
    }
   ],
   "source": [
    "X_train_expanded[0].shape"
   ]
  },
  {
   "cell_type": "code",
   "execution_count": 107,
   "id": "32627f82",
   "metadata": {},
   "outputs": [
    {
     "data": {
      "image/png": "[encoded data removed]",
      "text/plain": [
       "<Figure size 432x288 with 1 Axes>"
      ]
     },
     "metadata": {
      "needs_background": "light"
     },
     "output_type": "display_data"
    }
   ],
   "source": [
    "plot_digits([X_train_expanded[0]], images_per_row=1)"
   ]
  },
  {
   "cell_type": "code",
   "execution_count": 108,
   "id": "fb56c463",
   "metadata": {},
   "outputs": [
    {
     "data": {
      "image/png": "[encoded data removed]",
      "text/plain": [
       "<Figure size 432x288 with 1 Axes>"
      ]
     },
     "metadata": {
      "needs_background": "light"
     },
     "output_type": "display_data"
    }
   ],
   "source": [
    "plot_digits([X_train_expanded[60000]], images_per_row=1)"
   ]
  },
  {
   "cell_type": "code",
   "execution_count": 92,
   "id": "933a2d02",
   "metadata": {},
   "outputs": [
    {
     "data": {
      "text/plain": [
       "array([1, 3, 4, 3, 5, 6])"
      ]
     },
     "execution_count": 92,
     "metadata": {},
     "output_type": "execute_result"
    }
   ],
   "source": [
    "a = [1,3,4]\n",
    "b = [3, 5, 6]\n",
    "k = np.concatenate((a,b))\n",
    "k"
   ]
  },
  {
   "cell_type": "code",
   "execution_count": 109,
   "id": "4d107a61",
   "metadata": {},
   "outputs": [
    {
     "data": {
      "text/plain": [
       "KNeighborsClassifier()"
      ]
     },
     "execution_count": 109,
     "metadata": {},
     "output_type": "execute_result"
    }
   ],
   "source": [
    "knn_clf.fit(X_train_expanded, y_train_expanded)"
   ]
  },
  {
   "cell_type": "code",
   "execution_count": 110,
   "id": "0f8f23c6",
   "metadata": {},
   "outputs": [],
   "source": [
    "y_knn_expanded_pred = knn_clf.predict(X_test)"
   ]
  },
  {
   "cell_type": "code",
   "execution_count": 111,
   "id": "c0ad2f2b",
   "metadata": {},
   "outputs": [
    {
     "data": {
      "text/plain": [
       "0.9754"
      ]
     },
     "execution_count": 111,
     "metadata": {},
     "output_type": "execute_result"
    }
   ],
   "source": [
    "from sklearn.metrics import accuracy_score\n",
    "accuracy_score(y_test, y_knn_expanded_pred)"
   ]
  },
  {
   "cell_type": "code",
   "execution_count": 120,
   "id": "4bec00e0",
   "metadata": {},
   "outputs": [
    {
     "name": "stdout",
     "output_type": "stream",
     "text": [
      "10\n"
     ]
    }
   ],
   "source": [
    "ambiguous_digit = X_test[2589]\n",
    "knn_clf.predict_proba([ambiguous_digit])\n",
    "# predict_proba、機械学習モデルによる予測結果の確率を返すメソッドです。\n",
    "# このメソッドは、分類タスクにおいて各クラスに属する確率を予測する際に使用されます。\n",
    "#  各クラスに属する確率を返します\n",
    "print(len(knn_clf.predict_proba([ambiguous_digit])[0]))"
   ]
  },
  {
   "cell_type": "code",
   "execution_count": 116,
   "id": "3a21e78f",
   "metadata": {},
   "outputs": [
    {
     "data": {
      "text/plain": [
       "array([[0.2, 0. , 0. , 0. , 0. , 0. , 0. , 0. , 0. , 0.8]])"
      ]
     },
     "execution_count": 116,
     "metadata": {},
     "output_type": "execute_result"
    }
   ],
   "source": [
    "knn_clf.predict_proba([ambiguous_digit])"
   ]
  },
  {
   "cell_type": "code",
   "execution_count": 126,
   "id": "e140c579",
   "metadata": {},
   "outputs": [
    {
     "data": {
      "image/png": "[encoded data removed]",
      "text/plain": [
       "<Figure size 432x288 with 1 Axes>"
      ]
     },
     "metadata": {
      "needs_background": "light"
     },
     "output_type": "display_data"
    }
   ],
   "source": [
    "plot_digits([ambiguous_digit],images_per_row=1)\n",
    "# 80% to be 9"
   ]
  },
  {
   "cell_type": "code",
   "execution_count": 154,
   "id": "b59f1af7",
   "metadata": {},
   "outputs": [
    {
     "data": {
      "text/plain": [
       "numpy.ndarray"
      ]
     },
     "execution_count": 154,
     "metadata": {},
     "output_type": "execute_result"
    }
   ],
   "source": [
    "type(X_train)"
   ]
  },
  {
   "cell_type": "code",
   "execution_count": 170,
   "id": "d5c5c9cf",
   "metadata": {
    "scrolled": true
   },
   "outputs": [
    {
     "name": "stdout",
     "output_type": "stream",
     "text": [
      "<class 'numpy.ndarray'>\n"
     ]
    },
    {
     "data": {
      "image/png": "[encoded data removed]",
      "text/plain": [
       "<Figure size 864x216 with 3 Axes>"
      ]
     },
     "metadata": {
      "needs_background": "light"
     },
     "output_type": "display_data"
    }
   ],
   "source": [
    "# Data Augmentation\n",
    "\n",
    "from scipy.ndimage.interpolation import shift\n",
    "\n",
    "def shift_image(image, dx, dy, new=0):\n",
    "    shifted_image = shift(image.reshape(28, 28), [dy, dx], cval=new, mode=\"constant\")\n",
    "    return shifted_image.reshape([-1]) #配列を一次元へ戻す\n",
    "image = X_train[10000]\n",
    "image_left = shift_image(image,-5, 0)\n",
    "image_down = shift_image(image, 0 , 5 )\n",
    "\n",
    "plt.figure(figsize=(12,3))\n",
    "plt.subplot(131)\n",
    "plt.title(\"Original\", fontsize=14)\n",
    "plt.imshow(image.reshape(28, 28), interpolation=\"nearest\", cmap=\"Greys\")\n",
    "plt.subplot(132)\n",
    "plt.title(\"shifted_left\", fontsize=14)\n",
    "plt.imshow(image_left.reshape(28, 28), interpolation=\"nearest\", cmap=\"Greys\")\n",
    "plt.subplot(133)\n",
    "plt.title(\"shifted_down\", fontsize=14)\n",
    "plt.imshow(image_down.reshape(28, 28), interpolation=\"nearest\", cmap=\"Greys\")\n",
    "\n",
    "print(type(image_left))"
   ]
  },
  {
   "cell_type": "code",
   "execution_count": 158,
   "id": "8702d945",
   "metadata": {},
   "outputs": [
    {
     "data": {
      "text/plain": [
       "numpy.ndarray"
      ]
     },
     "execution_count": 158,
     "metadata": {},
     "output_type": "execute_result"
    }
   ],
   "source": [
    "type(X_train)"
   ]
  },
  {
   "cell_type": "code",
   "execution_count": 178,
   "id": "de162ab5",
   "metadata": {},
   "outputs": [
    {
     "name": "stdout",
     "output_type": "stream",
     "text": [
      "<class 'list'>\n"
     ]
    }
   ],
   "source": [
    "X_train_augmented = [image for image in X_train]\n",
    "y_train_augmented = [label for label in y_train]\n",
    "print(type(X_train_augmented))\n",
    "for dx, dy in ((1, 0), (-1, 0), (0, 1), (0, -1)):\n",
    "    for image, label in zip(X_train, y_train):\n",
    "        X_train_augmented.append(shift_image(image, dx, dy))\n",
    "        y_train_augmented.append(label)\n",
    "\n",
    "X_train_augmented = np.array(X_train_augmented)\n",
    "y_train_augmented = np.array(y_train_augmented)"
   ]
  },
  {
   "cell_type": "code",
   "execution_count": 177,
   "id": "4b938aaa",
   "metadata": {},
   "outputs": [],
   "source": [
    "# X_train_augmented =X_train.copy()  # listに変換する,appendを使うために\n",
    "# y_train_augmented = y_train.copy() #np.appendを使うと凄く時間がかかる\n",
    "\n",
    "# for dx, dy in ((1, 0), (-1, 0), (0, 1), (0, -1)):\n",
    "   #  for image, label in zip(X_train, y_train):\n",
    "     #    X_train_augmented= np.append(X_train_augmented, shift_image(image, dx, dy))\n",
    "     #    y_train_augmented= np.append(y_train_augmented, label)\n",
    "\n"
   ]
  },
  {
   "cell_type": "code",
   "execution_count": 135,
   "id": "d45bfbfe",
   "metadata": {},
   "outputs": [
    {
     "data": {
      "text/plain": [
       "60000"
      ]
     },
     "execution_count": 135,
     "metadata": {},
     "output_type": "execute_result"
    }
   ],
   "source": [
    "#  データセットをシャッフルするための処理です。シャッフルは、\n",
    "#  トレーニングデータセットの順序をランダムに入れ替えることで、\n",
    "#  モデルのトレーニングや評価のバイアスを減らすために使用されます。\n",
    "shuffle_idx = np.random.permutation(len(X_train_augmented))\n",
    "X_train_augmented = X_train_augmented[shuffle_idx]\n",
    "y_train_augmented = y_train_augmented[shuffle_idx]\n",
    "#同じshuffle_idxを使うとおなじshuffleになる"
   ]
  },
  {
   "cell_type": "code",
   "execution_count": 180,
   "id": "e301030b",
   "metadata": {},
   "outputs": [
    {
     "data": {
      "text/plain": [
       "0.9754"
      ]
     },
     "execution_count": 180,
     "metadata": {},
     "output_type": "execute_result"
    }
   ],
   "source": [
    "# モデルの性能を最適化するために、ユーザーが事前に指定するパラメータ\n",
    "#（ハイパーパラメータ）の最適な値を探索するプロセスを指定するために\n",
    "# **grid_search.best_params_を使った、使用しなくても良いが点数が少し落ちる\n",
    "# 使用する凄く時間がかかる\n",
    "knn_clf = KNeighborsClassifier(**grid_search.best_params_)\n",
    "knn_clf.fit(X_train_augmented, y_train_augmented)\n",
    "y_pred = knn_clf.predict(X_test)\n",
    "accuracy_score(y_test, y_pred)"
   ]
  },
  {
   "cell_type": "code",
   "execution_count": 136,
   "id": "1c6f2ffb",
   "metadata": {},
   "outputs": [
    {
     "name": "stdout",
     "output_type": "stream",
     "text": [
      "(1, 'A')\n",
      "(2, 'B')\n",
      "(3, 'C')\n",
      "(4, 'D')\n",
      "(5, 'E')\n"
     ]
    }
   ],
   "source": [
    "X_train = [1, 2, 3, 4, 5]\n",
    "y_train = ['A', 'B', 'C', 'D', 'E']\n",
    "\n",
    "zipped = zip(X_train, y_train)\n",
    "\n",
    "for item in zipped:\n",
    "    print(item)\n"
   ]
  },
  {
   "cell_type": "code",
   "execution_count": null,
   "id": "79ffe84c",
   "metadata": {},
   "outputs": [],
   "source": []
  }
 ],
 "metadata": {
  "kernelspec": {
   "display_name": "Python 3 (ipykernel)",
   "language": "python",
   "name": "python3"
  },
  "language_info": {
   "codemirror_mode": {
    "name": "ipython",
    "version": 3
   },
   "file_extension": ".py",
   "mimetype": "text/x-python",
   "name": "python",
   "nbconvert_exporter": "python",
   "pygments_lexer": "ipython3",
   "version": "3.9.12"
  }
 },
 "nbformat": 4,
 "nbformat_minor": 5
}
